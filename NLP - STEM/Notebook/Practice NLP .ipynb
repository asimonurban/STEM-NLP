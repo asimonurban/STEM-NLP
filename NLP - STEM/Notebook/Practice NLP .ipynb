{
 "cells": [
  {
   "cell_type": "code",
   "execution_count": 1,
   "metadata": {},
   "outputs": [
    {
     "name": "stdout",
     "output_type": "stream",
     "text": [
      "[nltk_data] Downloading package stopwords to\n",
      "[nltk_data]     C:\\Users\\alpho\\AppData\\Roaming\\nltk_data...\n",
      "[nltk_data]   Package stopwords is already up-to-date!\n"
     ]
    },
    {
     "data": {
      "text/plain": [
       "True"
      ]
     },
     "execution_count": 1,
     "metadata": {},
     "output_type": "execute_result"
    }
   ],
   "source": [
    "import nltk; nltk.download('stopwords')"
   ]
  },
  {
   "cell_type": "code",
   "execution_count": 3,
   "metadata": {},
   "outputs": [],
   "source": [
    "import re\n",
    "import numpy as np\n",
    "import pandas as pd\n",
    "from pprint import pprint\n",
    "import pickle\n",
    "# Gensim\n",
    "import gensim\n",
    "import gensim.corpora as corpora\n",
    "from gensim.utils import simple_preprocess\n",
    "from gensim.models import CoherenceModel\n",
    "\n",
    "# spacy for lemmatization\n",
    "import spacy\n",
    "\n",
    "# Plotting tools\n",
    "import pyLDAvis\n",
    "import pyLDAvis.gensim  # don't skip this\n",
    "import matplotlib.pyplot as plt\n",
    "%matplotlib inline\n",
    "\n",
    "# Enable logging for gensim - optional\n",
    "import logging\n",
    "logging.basicConfig(format='%(asctime)s : %(levelname)s : %(message)s', level=logging.ERROR)\n",
    "\n",
    "import warnings\n",
    "warnings.filterwarnings(\"ignore\",category=DeprecationWarning)"
   ]
  },
  {
   "cell_type": "code",
   "execution_count": 4,
   "metadata": {},
   "outputs": [],
   "source": [
    "# NLTK Stop words\n",
    "from nltk.corpus import stopwords\n",
    "stop_words = stopwords.words('english')\n",
    "stop_words.extend(['from', 'subject', 're', 'edu', 'use'])"
   ]
  },
  {
   "cell_type": "code",
   "execution_count": 5,
   "metadata": {},
   "outputs": [
    {
     "name": "stdout",
     "output_type": "stream",
     "text": [
      "['rec.autos' 'comp.sys.mac.hardware' 'rec.motorcycles' 'misc.forsale'\n",
      " 'comp.os.ms-windows.misc' 'alt.atheism' 'comp.graphics'\n",
      " 'rec.sport.baseball' 'rec.sport.hockey' 'sci.electronics' 'sci.space'\n",
      " 'talk.politics.misc' 'sci.med' 'talk.politics.mideast'\n",
      " 'soc.religion.christian' 'comp.windows.x' 'comp.sys.ibm.pc.hardware'\n",
      " 'talk.politics.guns' 'talk.religion.misc' 'sci.crypt']\n"
     ]
    },
    {
     "data": {
      "text/html": [
       "<div>\n",
       "<style scoped>\n",
       "    .dataframe tbody tr th:only-of-type {\n",
       "        vertical-align: middle;\n",
       "    }\n",
       "\n",
       "    .dataframe tbody tr th {\n",
       "        vertical-align: top;\n",
       "    }\n",
       "\n",
       "    .dataframe thead th {\n",
       "        text-align: right;\n",
       "    }\n",
       "</style>\n",
       "<table border=\"1\" class=\"dataframe\">\n",
       "  <thead>\n",
       "    <tr style=\"text-align: right;\">\n",
       "      <th></th>\n",
       "      <th>content</th>\n",
       "      <th>target</th>\n",
       "      <th>target_names</th>\n",
       "    </tr>\n",
       "  </thead>\n",
       "  <tbody>\n",
       "    <tr>\n",
       "      <th>0</th>\n",
       "      <td>From: lerxst@wam.umd.edu (where's my thing)\\nS...</td>\n",
       "      <td>7</td>\n",
       "      <td>rec.autos</td>\n",
       "    </tr>\n",
       "    <tr>\n",
       "      <th>1</th>\n",
       "      <td>From: guykuo@carson.u.washington.edu (Guy Kuo)...</td>\n",
       "      <td>4</td>\n",
       "      <td>comp.sys.mac.hardware</td>\n",
       "    </tr>\n",
       "    <tr>\n",
       "      <th>10</th>\n",
       "      <td>From: irwin@cmptrc.lonestar.org (Irwin Arnstei...</td>\n",
       "      <td>8</td>\n",
       "      <td>rec.motorcycles</td>\n",
       "    </tr>\n",
       "    <tr>\n",
       "      <th>100</th>\n",
       "      <td>From: tchen@magnus.acs.ohio-state.edu (Tsung-K...</td>\n",
       "      <td>6</td>\n",
       "      <td>misc.forsale</td>\n",
       "    </tr>\n",
       "    <tr>\n",
       "      <th>1000</th>\n",
       "      <td>From: dabl2@nlm.nih.gov (Don A.B. Lindbergh)\\n...</td>\n",
       "      <td>2</td>\n",
       "      <td>comp.os.ms-windows.misc</td>\n",
       "    </tr>\n",
       "  </tbody>\n",
       "</table>\n",
       "</div>"
      ],
      "text/plain": [
       "                                                content  target  \\\n",
       "0     From: lerxst@wam.umd.edu (where's my thing)\\nS...       7   \n",
       "1     From: guykuo@carson.u.washington.edu (Guy Kuo)...       4   \n",
       "10    From: irwin@cmptrc.lonestar.org (Irwin Arnstei...       8   \n",
       "100   From: tchen@magnus.acs.ohio-state.edu (Tsung-K...       6   \n",
       "1000  From: dabl2@nlm.nih.gov (Don A.B. Lindbergh)\\n...       2   \n",
       "\n",
       "                 target_names  \n",
       "0                   rec.autos  \n",
       "1       comp.sys.mac.hardware  \n",
       "10            rec.motorcycles  \n",
       "100              misc.forsale  \n",
       "1000  comp.os.ms-windows.misc  "
      ]
     },
     "execution_count": 5,
     "metadata": {},
     "output_type": "execute_result"
    }
   ],
   "source": [
    "# Import Dataset\n",
    "df = pd.read_json('https://raw.githubusercontent.com/selva86/datasets/master/newsgroups.json')\n",
    "print(df.target_names.unique())\n",
    "df.head()"
   ]
  },
  {
   "cell_type": "code",
   "execution_count": 6,
   "metadata": {},
   "outputs": [
    {
     "name": "stdout",
     "output_type": "stream",
     "text": [
      "['From: (wheres my thing) Subject: WHAT car is this!? Nntp-Posting-Host: '\n",
      " 'rac3.wam.umd.edu Organization: University of Maryland, College Park Lines: '\n",
      " '15 I was wondering if anyone out there could enlighten me on this car I saw '\n",
      " 'the other day. It was a 2-door sports car, looked to be from the late 60s/ '\n",
      " 'early 70s. It was called a Bricklin. The doors were really small. In '\n",
      " 'addition, the front bumper was separate from the rest of the body. This is '\n",
      " 'all I know. If anyone can tellme a model name, engine specs, years of '\n",
      " 'production, where this car is made, history, or whatever info you have on '\n",
      " 'this funky looking car, please e-mail. Thanks, - IL ---- brought to you by '\n",
      " 'your neighborhood Lerxst ---- ']\n"
     ]
    }
   ],
   "source": [
    "# Convert to list\n",
    "data = df.content.values.tolist()\n",
    "\n",
    "# Remove Emails\n",
    "data = [re.sub('\\S*@\\S*\\s?', '', sent) for sent in data]\n",
    "\n",
    "# Remove new line characters\n",
    "data = [re.sub('\\s+', ' ', sent) for sent in data]\n",
    "\n",
    "# Remove distracting single quotes\n",
    "data = [re.sub(\"\\'\", \"\", sent) for sent in data]\n",
    "\n",
    "pprint(data[:1])"
   ]
  },
  {
   "cell_type": "code",
   "execution_count": 7,
   "metadata": {},
   "outputs": [
    {
     "name": "stdout",
     "output_type": "stream",
     "text": [
      "[['from', 'wheres', 'my', 'thing', 'subject', 'what', 'car', 'is', 'this', 'nntp', 'posting', 'host', 'rac', 'wam', 'umd', 'edu', 'organization', 'university', 'of', 'maryland', 'college', 'park', 'lines', 'was', 'wondering', 'if', 'anyone', 'out', 'there', 'could', 'enlighten', 'me', 'on', 'this', 'car', 'saw', 'the', 'other', 'day', 'it', 'was', 'door', 'sports', 'car', 'looked', 'to', 'be', 'from', 'the', 'late', 'early', 'it', 'was', 'called', 'bricklin', 'the', 'doors', 'were', 'really', 'small', 'in', 'addition', 'the', 'front', 'bumper', 'was', 'separate', 'from', 'the', 'rest', 'of', 'the', 'body', 'this', 'is', 'all', 'know', 'if', 'anyone', 'can', 'tellme', 'model', 'name', 'engine', 'specs', 'years', 'of', 'production', 'where', 'this', 'car', 'is', 'made', 'history', 'or', 'whatever', 'info', 'you', 'have', 'on', 'this', 'funky', 'looking', 'car', 'please', 'mail', 'thanks', 'il', 'brought', 'to', 'you', 'by', 'your', 'neighborhood', 'lerxst']]\n"
     ]
    }
   ],
   "source": [
    "def sent_to_words(sentences):\n",
    "    for sentence in sentences:\n",
    "        yield(gensim.utils.simple_preprocess(str(sentence), deacc=True))  # deacc=True removes punctuations\n",
    "\n",
    "data_words = list(sent_to_words(data))\n",
    "\n",
    "print(data_words[:1])"
   ]
  },
  {
   "cell_type": "code",
   "execution_count": 8,
   "metadata": {},
   "outputs": [
    {
     "name": "stderr",
     "output_type": "stream",
     "text": [
      "C:\\Users\\alpho\\AppData\\Local\\Continuum\\anaconda3\\lib\\site-packages\\gensim\\models\\phrases.py:494: UserWarning: For a faster implementation, use the gensim.models.phrases.Phraser class\n",
      "  warnings.warn(\"For a faster implementation, use the gensim.models.phrases.Phraser class\")\n"
     ]
    },
    {
     "name": "stdout",
     "output_type": "stream",
     "text": [
      "['from', 'wheres', 'my', 'thing', 'subject', 'what', 'car', 'is', 'this', 'nntp_posting_host', 'rac_wam_umd_edu', 'organization', 'university', 'of', 'maryland_college_park', 'lines', 'was', 'wondering', 'if', 'anyone', 'out', 'there', 'could', 'enlighten', 'me', 'on', 'this', 'car', 'saw', 'the', 'other', 'day', 'it', 'was', 'door', 'sports', 'car', 'looked', 'to', 'be', 'from', 'the', 'late', 'early', 'it', 'was', 'called', 'bricklin', 'the', 'doors', 'were', 'really', 'small', 'in', 'addition', 'the', 'front_bumper', 'was', 'separate', 'from', 'the', 'rest', 'of', 'the', 'body', 'this', 'is', 'all', 'know', 'if', 'anyone', 'can', 'tellme', 'model', 'name', 'engine', 'specs', 'years', 'of', 'production', 'where', 'this', 'car', 'is', 'made', 'history', 'or', 'whatever', 'info', 'you', 'have', 'on', 'this', 'funky', 'looking', 'car', 'please', 'mail', 'thanks', 'il', 'brought', 'to', 'you', 'by', 'your', 'neighborhood', 'lerxst']\n"
     ]
    }
   ],
   "source": [
    "# Build the bigram and trigram models\n",
    "bigram = gensim.models.Phrases(data_words, min_count=5, threshold=100) # higher threshold fewer phrases.\n",
    "trigram = gensim.models.Phrases(bigram[data_words], threshold=100)  \n",
    "\n",
    "# Faster way to get a sentence clubbed as a trigram/bigram\n",
    "bigram_mod = gensim.models.phrases.Phraser(bigram)\n",
    "trigram_mod = gensim.models.phrases.Phraser(trigram)\n",
    "\n",
    "# See trigram example\n",
    "print(trigram_mod[bigram_mod[data_words[0]]])"
   ]
  },
  {
   "cell_type": "code",
   "execution_count": 9,
   "metadata": {},
   "outputs": [],
   "source": [
    "# Define functions for stopwords, bigrams, trigrams and lemmatization\n",
    "def remove_stopwords(texts):\n",
    "    return [[word for word in simple_preprocess(str(doc)) if word not in stop_words] for doc in texts]\n",
    "\n",
    "def make_bigrams(texts):\n",
    "    return [bigram_mod[doc] for doc in texts]\n",
    "\n",
    "def make_trigrams(texts):\n",
    "    return [trigram_mod[bigram_mod[doc]] for doc in texts]\n",
    "\n",
    "def lemmatization(texts, allowed_postags=['NOUN', 'ADJ', 'VERB', 'ADV']):\n",
    "    \"\"\"https://spacy.io/api/annotation\"\"\"\n",
    "    texts_out = []\n",
    "    for sent in texts:\n",
    "        doc = nlp(\" \".join(sent)) \n",
    "        texts_out.append([token.lemma_ for token in doc if token.pos_ in allowed_postags])\n",
    "    return texts_out"
   ]
  },
  {
   "cell_type": "code",
   "execution_count": 10,
   "metadata": {},
   "outputs": [],
   "source": [
    "# Remove Stop Words\n",
    "data_words_nostops = remove_stopwords(data_words)\n",
    "\n",
    "# Form Bigrams\n",
    "data_words_bigrams = make_bigrams(data_words_nostops)\n"
   ]
  },
  {
   "cell_type": "code",
   "execution_count": 11,
   "metadata": {},
   "outputs": [
    {
     "name": "stdout",
     "output_type": "stream",
     "text": [
      "[[(0, 1), (1, 2), (2, 1), (3, 1), (4, 1), (5, 1), (6, 5), (7, 1), (8, 1), (9, 1), (10, 1), (11, 1), (12, 1), (13, 1), (14, 1), (15, 1), (16, 1), (17, 1), (18, 1), (19, 1), (20, 1), (21, 1), (22, 1), (23, 1), (24, 1), (25, 1), (26, 1), (27, 1), (28, 1), (29, 1), (30, 1), (31, 1), (32, 1), (33, 1), (34, 1), (35, 1), (36, 1), (37, 1), (38, 1), (39, 1), (40, 1), (41, 1), (42, 1), (43, 1), (44, 1), (45, 1), (46, 1), (47, 1), (48, 1), (49, 1), (50, 1), (51, 1), (52, 1), (53, 1)]]\n"
     ]
    }
   ],
   "source": [
    "# Create Dictionary\n",
    "id2word = corpora.Dictionary(data_words_bigrams)\n",
    "\n",
    "# Create Corpus\n",
    "texts = data_words_bigrams\n",
    "\n",
    "# Term Document Frequency\n",
    "corpus = [id2word.doc2bow(text) for text in texts]\n",
    "\n",
    "# View\n",
    "print(corpus[:1])"
   ]
  },
  {
   "cell_type": "code",
   "execution_count": 12,
   "metadata": {},
   "outputs": [
    {
     "data": {
      "text/plain": [
       "'addition'"
      ]
     },
     "execution_count": 12,
     "metadata": {},
     "output_type": "execute_result"
    }
   ],
   "source": [
    "id2word[0]"
   ]
  },
  {
   "cell_type": "code",
   "execution_count": 13,
   "metadata": {},
   "outputs": [
    {
     "data": {
      "text/plain": [
       "[[('addition', 1),\n",
       "  ('anyone', 2),\n",
       "  ('body', 1),\n",
       "  ('bricklin', 1),\n",
       "  ('brought', 1),\n",
       "  ('called', 1),\n",
       "  ('car', 5),\n",
       "  ('could', 1),\n",
       "  ('day', 1),\n",
       "  ('door', 1),\n",
       "  ('doors', 1),\n",
       "  ('early', 1),\n",
       "  ('engine', 1),\n",
       "  ('enlighten', 1),\n",
       "  ('front_bumper', 1),\n",
       "  ('funky', 1),\n",
       "  ('history', 1),\n",
       "  ('host', 1),\n",
       "  ('il', 1),\n",
       "  ('info', 1),\n",
       "  ('know', 1),\n",
       "  ('late', 1),\n",
       "  ('lerxst', 1),\n",
       "  ('lines', 1),\n",
       "  ('looked', 1),\n",
       "  ('looking', 1),\n",
       "  ('made', 1),\n",
       "  ('mail', 1),\n",
       "  ('maryland_college', 1),\n",
       "  ('model', 1),\n",
       "  ('name', 1),\n",
       "  ('neighborhood', 1),\n",
       "  ('nntp_posting', 1),\n",
       "  ('organization', 1),\n",
       "  ('park', 1),\n",
       "  ('please', 1),\n",
       "  ('production', 1),\n",
       "  ('rac_wam', 1),\n",
       "  ('really', 1),\n",
       "  ('rest', 1),\n",
       "  ('saw', 1),\n",
       "  ('separate', 1),\n",
       "  ('small', 1),\n",
       "  ('specs', 1),\n",
       "  ('sports', 1),\n",
       "  ('tellme', 1),\n",
       "  ('thanks', 1),\n",
       "  ('thing', 1),\n",
       "  ('umd', 1),\n",
       "  ('university', 1),\n",
       "  ('whatever', 1),\n",
       "  ('wheres', 1),\n",
       "  ('wondering', 1),\n",
       "  ('years', 1)]]"
      ]
     },
     "execution_count": 13,
     "metadata": {},
     "output_type": "execute_result"
    }
   ],
   "source": [
    "[[(id2word[id], freq) for id, freq in cp] for cp in corpus[:1]]"
   ]
  },
  {
   "cell_type": "code",
   "execution_count": 14,
   "metadata": {},
   "outputs": [],
   "source": [
    "# Build LDA model\n",
    "lda_model = gensim.models.ldamodel.LdaModel(corpus=corpus,\n",
    "                                           id2word=id2word,\n",
    "                                           num_topics=20, \n",
    "                                           random_state=100,\n",
    "                                           update_every=1,\n",
    "                                           chunksize=100,\n",
    "                                           passes=10,\n",
    "                                           alpha='auto',\n",
    "                                           per_word_topics=True)"
   ]
  },
  {
   "cell_type": "code",
   "execution_count": 15,
   "metadata": {},
   "outputs": [
    {
     "name": "stdout",
     "output_type": "stream",
     "text": [
      "[(0,\n",
      "  '0.031*\"year\" + 0.009*\"teams\" + 0.009*\"gun\" + 0.009*\"last\" + 0.006*\"kids\" + '\n",
      "  '0.006*\"points\" + 0.005*\"hawks\" + 0.005*\"hit\" + 0.005*\"smith\" + 0.005*\"fbi\"'),\n",
      " (1,\n",
      "  '0.020*\"gd\" + 0.015*\"islam\" + 0.013*\"cubs_suck\" + 0.012*\"moving\" + '\n",
      "  '0.007*\"mt\" + 0.007*\"ei\" + 0.007*\"wt\" + 0.007*\"sk\" + 0.007*\"ul\" + '\n",
      "  '0.006*\"rc\"'),\n",
      " (2,\n",
      "  '0.009*\"reference\" + 0.007*\"yo\" + 0.007*\"standard\" + 0.007*\"oil\" + '\n",
      "  '0.007*\"cost\" + 0.007*\"disk\" + 0.007*\"ibm\" + 0.006*\"price\" + 0.006*\"model\" + '\n",
      "  '0.006*\"spanking\"'),\n",
      " (3,\n",
      "  '0.014*\"mr_stephanopoulos\" + 0.010*\"said\" + 0.009*\"president\" + 0.008*\"day\" '\n",
      "  '+ 0.008*\"went\" + 0.008*\"two\" + 0.007*\"three\" + 0.007*\"home\" + 0.007*\"power\" '\n",
      "  '+ 0.006*\"days\"'),\n",
      " (4,\n",
      "  '0.024*\"car\" + 0.012*\"bike\" + 0.009*\"cars\" + 0.009*\"road\" + 0.007*\"boston\" + '\n",
      "  '0.005*\"ride\" + 0.005*\"speed\" + 0.005*\"rear\" + 0.005*\"coverage\" + '\n",
      "  '0.005*\"hall\"'),\n",
      " (5,\n",
      "  '0.060*\"max\" + 0.022*\"windows\" + 0.013*\"software\" + 0.012*\"file\" + '\n",
      "  '0.010*\"using\" + 0.010*\"version\" + 0.009*\"files\" + 0.009*\"dos\" + '\n",
      "  '0.009*\"server\" + 0.008*\"mb\"'),\n",
      " (6,\n",
      "  '0.042*\"lines\" + 0.040*\"organization\" + 0.024*\"university\" + '\n",
      "  '0.023*\"nntp_posting\" + 0.023*\"host\" + 0.014*\"thanks\" + 0.012*\"please\" + '\n",
      "  '0.011*\"anyone\" + 0.010*\"mail\" + 0.009*\"reply\"'),\n",
      " (7,\n",
      "  '0.015*\"information\" + 0.012*\"system\" + 0.011*\"key\" + 0.011*\"available\" + '\n",
      "  '0.010*\"technology\" + 0.009*\"data\" + 0.008*\"chip\" + 0.007*\"board\" + '\n",
      "  '0.007*\"new\" + 0.006*\"two\"'),\n",
      " (8,\n",
      "  '0.015*\"law\" + 0.014*\"government\" + 0.012*\"state\" + 0.012*\"public\" + '\n",
      "  '0.010*\"black\" + 0.008*\"gordon_banks\" + 0.008*\"police\" + 0.008*\"genocide\" + '\n",
      "  '0.008*\"rights\" + 0.007*\"laws\"'),\n",
      " (9,\n",
      "  '0.014*\"people\" + 0.010*\"armenians\" + 0.009*\"children\" + 0.009*\"armenian\" + '\n",
      "  '0.009*\"jews\" + 0.008*\"religion\" + 0.008*\"said\" + 0.008*\"men\" + '\n",
      "  '0.006*\"death\" + 0.006*\"jewish\"'),\n",
      " (10,\n",
      "  '0.025*\"team\" + 0.019*\"game\" + 0.019*\"hockey\" + 0.017*\"win\" + 0.016*\"nhl\" + '\n",
      "  '0.014*\"games\" + 0.014*\"season\" + 0.009*\"matthew\" + 0.008*\"vs\" + '\n",
      "  '0.007*\"pts_pt\"'),\n",
      " (11,\n",
      "  '0.771*\"ax\" + 0.004*\"miles\" + 0.003*\"deity\" + 0.003*\"blues\" + '\n",
      "  '0.003*\"brian_kendig\" + 0.003*\"atheists\" + 0.003*\"brother\" + '\n",
      "  '0.003*\"supports\" + 0.002*\"rangers\" + 0.002*\"estimate\"'),\n",
      " (12,\n",
      "  '0.026*\"graphics\" + 0.020*\"peter\" + 0.015*\"package\" + 0.014*\"chips\" + '\n",
      "  '0.013*\"cal\" + 0.012*\"os\" + 0.011*\"pit\" + 0.010*\"sj\" + 0.010*\"bos\" + '\n",
      "  '0.010*\"min\"'),\n",
      " (13,\n",
      "  '0.010*\"wire\" + 0.007*\"city\" + 0.007*\"andrew\" + 0.006*\"blood\" + '\n",
      "  '0.006*\"hands\" + 0.006*\"rise\" + 0.006*\"msg\" + 0.006*\"food\" + 0.005*\"cause\" + '\n",
      "  '0.005*\"pain\"'),\n",
      " (14,\n",
      "  '0.029*\"space\" + 0.010*\"research\" + 0.010*\"window\" + 0.010*\"april\" + '\n",
      "  '0.008*\"image\" + 0.007*\"center\" + 0.006*\"news\" + 0.006*\"program\" + '\n",
      "  '0.005*\"science\" + 0.005*\"project\"'),\n",
      " (15,\n",
      "  '0.010*\"players\" + 0.009*\"list\" + 0.007*\"brian\" + 0.006*\"paul\" + '\n",
      "  '0.006*\"couldnt\" + 0.005*\"baseball\" + 0.005*\"text\" + 0.005*\"league\" + '\n",
      "  '0.005*\"distribution_na\" + 0.005*\"pittsburgh\"'),\n",
      " (16,\n",
      "  '0.020*\"guns\" + 0.018*\"steve\" + 0.013*\"law_enforcement\" + 0.013*\"pl\" + '\n",
      "  '0.011*\"clipper_chip\" + 0.011*\"jim\" + 0.011*\"san_jose\" + '\n",
      "  '0.011*\"case_western\" + 0.010*\"reserve_university\" + 0.010*\"usa\"'),\n",
      " (17,\n",
      "  '0.018*\"israel\" + 0.011*\"la\" + 0.009*\"israeli\" + 0.009*\"american\" + '\n",
      "  '0.008*\"state\" + 0.007*\"political\" + 0.007*\"land\" + 0.006*\"government\" + '\n",
      "  '0.006*\"russian\" + 0.005*\"arab\"'),\n",
      " (18,\n",
      "  '0.021*\"would\" + 0.018*\"one\" + 0.017*\"writes\" + 0.017*\"article\" + '\n",
      "  '0.014*\"dont\" + 0.013*\"like\" + 0.012*\"lines\" + 0.012*\"know\" + '\n",
      "  '0.012*\"organization\" + 0.010*\"time\"'),\n",
      " (19,\n",
      "  '0.017*\"god\" + 0.017*\"jesus\" + 0.009*\"life\" + 0.009*\"christian\" + '\n",
      "  '0.008*\"believe\" + 0.006*\"people\" + 0.006*\"fact\" + 0.005*\"book\" + '\n",
      "  '0.005*\"must\" + 0.005*\"true\"')]\n"
     ]
    }
   ],
   "source": [
    "# Print the Keyword in the 10 topics\n",
    "pprint(lda_model.print_topics())\n",
    "doc_lda = lda_model[corpus]"
   ]
  },
  {
   "cell_type": "code",
   "execution_count": 16,
   "metadata": {},
   "outputs": [
    {
     "name": "stdout",
     "output_type": "stream",
     "text": [
      "\n",
      "Perplexity:  -9.341551168014385\n",
      "\n",
      "Coherence Score:  0.49115369835386796\n"
     ]
    }
   ],
   "source": [
    "# Compute Perplexity\n",
    "print('\\nPerplexity: ', lda_model.log_perplexity(corpus))  # a measure of how good the model is. lower the better.\n",
    "\n",
    "# Compute Coherence Score\n",
    "coherence_model_lda = CoherenceModel(model=lda_model, texts=data_words_bigrams, dictionary=id2word, coherence='c_v')\n",
    "coherence_lda = coherence_model_lda.get_coherence()\n",
    "print('\\nCoherence Score: ', coherence_lda)"
   ]
  },
  {
   "cell_type": "code",
   "execution_count": 17,
   "metadata": {},
   "outputs": [
    {
     "name": "stderr",
     "output_type": "stream",
     "text": [
      "C:\\Users\\alpho\\AppData\\Local\\Continuum\\anaconda3\\lib\\site-packages\\pyLDAvis\\_prepare.py:257: FutureWarning: Sorting because non-concatenation axis is not aligned. A future version\n",
      "of pandas will change to not sort by default.\n",
      "\n",
      "To accept the future behavior, pass 'sort=False'.\n",
      "\n",
      "To retain the current behavior and silence the warning, pass 'sort=True'.\n",
      "\n",
      "  return pd.concat([default_term_info] + list(topic_dfs))\n"
     ]
    },
    {
     "data": {
      "text/html": [
       "\n",
       "<link rel=\"stylesheet\" type=\"text/css\" href=\"https://cdn.rawgit.com/bmabey/pyLDAvis/files/ldavis.v1.0.0.css\">\n",
       "\n",
       "\n",
       "<div id=\"ldavis_el822428398287530486572291467\"></div>\n",
       "<script type=\"text/javascript\">\n",
       "\n",
       "var ldavis_el822428398287530486572291467_data = {\"mdsDat\": {\"x\": [0.34498469286472305, 0.19190521900395216, 0.2226926318153803, 0.14187599329559433, 0.0855887399591768, 0.03345560418594292, 0.0488585189804686, -0.060097778311804614, -0.08246241990296373, -0.006273643151097947, -0.055811568556783216, 0.01641952127008591, -0.0651551002438326, -0.055850410793212214, -0.06393897317160002, -0.10517617092617935, -0.11829508476463298, -0.1622315294588488, -0.16157023499882173, -0.14891800709554615], \"y\": [-0.04561893614336461, 0.18675172903782286, -0.14720572790016878, 0.14208254592042574, -0.11809158983499915, 0.23784815096296427, -0.2262611243922236, 0.05633300535631727, 0.006830148582948949, 0.055896312194405266, -0.09505878222227601, 0.0960281905662157, -0.05577585971128427, -0.07965571890073482, -0.10064706186520674, 0.04630019407637482, 0.0023912695350943587, 0.008735119346131552, 0.036952317923549874, -0.00783418253199206], \"topics\": [1, 2, 3, 4, 5, 6, 7, 8, 9, 10, 11, 12, 13, 14, 15, 16, 17, 18, 19, 20], \"cluster\": [1, 1, 1, 1, 1, 1, 1, 1, 1, 1, 1, 1, 1, 1, 1, 1, 1, 1, 1, 1], \"Freq\": [25.48152732849121, 8.333239555358887, 7.668980121612549, 5.710675239562988, 5.489089488983154, 4.738542079925537, 4.497591495513916, 4.442840576171875, 4.346288204193115, 3.8699309825897217, 3.5878653526306152, 3.3816750049591064, 2.9649722576141357, 2.7978627681732178, 2.742302179336548, 2.5216822624206543, 2.226987600326538, 2.0075466632843018, 1.7023481130599976, 1.4880402088165283]}, \"tinfo\": {\"Category\": [\"Default\", \"Default\", \"Default\", \"Default\", \"Default\", \"Default\", \"Default\", \"Default\", \"Default\", \"Default\", \"Default\", \"Default\", \"Default\", \"Default\", \"Default\", \"Default\", \"Default\", \"Default\", \"Default\", \"Default\", \"Default\", \"Default\", \"Default\", \"Default\", \"Default\", \"Default\", \"Default\", \"Default\", \"Default\", \"Default\", \"Topic1\", \"Topic1\", \"Topic1\", \"Topic1\", \"Topic1\", \"Topic1\", \"Topic1\", \"Topic1\", \"Topic1\", \"Topic1\", \"Topic1\", \"Topic1\", \"Topic1\", \"Topic1\", \"Topic1\", \"Topic1\", \"Topic1\", \"Topic1\", \"Topic1\", \"Topic1\", \"Topic1\", \"Topic1\", \"Topic1\", \"Topic1\", \"Topic1\", \"Topic1\", \"Topic1\", \"Topic1\", \"Topic1\", \"Topic1\", \"Topic1\", \"Topic1\", \"Topic1\", \"Topic1\", \"Topic1\", \"Topic1\", \"Topic1\", \"Topic1\", \"Topic1\", \"Topic1\", \"Topic1\", \"Topic1\", \"Topic1\", \"Topic1\", \"Topic1\", \"Topic1\", \"Topic1\", \"Topic1\", \"Topic1\", \"Topic1\", \"Topic1\", \"Topic1\", \"Topic1\", \"Topic1\", \"Topic1\", \"Topic1\", \"Topic2\", \"Topic2\", \"Topic2\", \"Topic2\", \"Topic2\", \"Topic2\", \"Topic2\", \"Topic2\", \"Topic2\", \"Topic2\", \"Topic2\", \"Topic2\", \"Topic2\", \"Topic2\", \"Topic2\", \"Topic2\", \"Topic2\", \"Topic2\", \"Topic2\", \"Topic2\", \"Topic2\", \"Topic2\", \"Topic2\", \"Topic2\", \"Topic2\", \"Topic2\", \"Topic2\", \"Topic2\", \"Topic2\", \"Topic2\", \"Topic2\", \"Topic2\", \"Topic2\", \"Topic2\", \"Topic2\", \"Topic2\", \"Topic2\", \"Topic2\", \"Topic2\", \"Topic2\", \"Topic2\", \"Topic2\", \"Topic2\", \"Topic2\", \"Topic2\", \"Topic2\", \"Topic2\", \"Topic2\", \"Topic2\", \"Topic2\", \"Topic2\", \"Topic2\", \"Topic2\", \"Topic2\", \"Topic2\", \"Topic2\", \"Topic2\", \"Topic2\", \"Topic2\", \"Topic2\", \"Topic3\", \"Topic3\", \"Topic3\", \"Topic3\", \"Topic3\", \"Topic3\", \"Topic3\", \"Topic3\", \"Topic3\", \"Topic3\", \"Topic3\", \"Topic3\", \"Topic3\", \"Topic3\", \"Topic3\", \"Topic3\", \"Topic3\", \"Topic3\", \"Topic3\", \"Topic3\", \"Topic3\", \"Topic3\", \"Topic3\", \"Topic3\", \"Topic3\", \"Topic3\", \"Topic3\", \"Topic3\", \"Topic3\", \"Topic3\", \"Topic3\", \"Topic3\", \"Topic3\", \"Topic3\", \"Topic3\", \"Topic3\", \"Topic3\", \"Topic3\", \"Topic3\", \"Topic3\", \"Topic3\", \"Topic3\", \"Topic3\", \"Topic3\", \"Topic3\", \"Topic3\", \"Topic3\", \"Topic3\", \"Topic3\", \"Topic3\", \"Topic3\", \"Topic3\", \"Topic3\", \"Topic3\", \"Topic3\", \"Topic3\", \"Topic4\", \"Topic4\", \"Topic4\", \"Topic4\", \"Topic4\", \"Topic4\", \"Topic4\", \"Topic4\", \"Topic4\", \"Topic4\", \"Topic4\", \"Topic4\", \"Topic4\", \"Topic4\", \"Topic4\", \"Topic4\", \"Topic4\", \"Topic4\", \"Topic4\", \"Topic4\", \"Topic4\", \"Topic4\", \"Topic4\", \"Topic4\", \"Topic4\", \"Topic4\", \"Topic4\", \"Topic4\", \"Topic4\", \"Topic4\", \"Topic4\", \"Topic4\", \"Topic4\", \"Topic4\", \"Topic4\", \"Topic4\", \"Topic4\", \"Topic4\", \"Topic4\", \"Topic4\", \"Topic4\", \"Topic4\", \"Topic4\", \"Topic4\", \"Topic4\", \"Topic4\", \"Topic4\", \"Topic4\", \"Topic4\", \"Topic4\", \"Topic4\", \"Topic5\", \"Topic5\", \"Topic5\", \"Topic5\", \"Topic5\", \"Topic5\", \"Topic5\", \"Topic5\", \"Topic5\", \"Topic5\", \"Topic5\", \"Topic5\", \"Topic5\", \"Topic5\", \"Topic5\", \"Topic5\", \"Topic5\", \"Topic5\", \"Topic5\", \"Topic5\", \"Topic5\", \"Topic5\", \"Topic5\", \"Topic5\", \"Topic5\", \"Topic5\", \"Topic5\", \"Topic5\", \"Topic5\", \"Topic5\", \"Topic5\", \"Topic5\", \"Topic5\", \"Topic5\", \"Topic5\", \"Topic5\", \"Topic5\", \"Topic5\", \"Topic5\", \"Topic5\", \"Topic5\", \"Topic5\", \"Topic5\", \"Topic5\", \"Topic5\", \"Topic5\", \"Topic5\", \"Topic5\", \"Topic5\", \"Topic5\", \"Topic5\", \"Topic5\", \"Topic5\", \"Topic5\", \"Topic5\", \"Topic5\", \"Topic5\", \"Topic6\", \"Topic6\", \"Topic6\", \"Topic6\", \"Topic6\", \"Topic6\", \"Topic6\", \"Topic6\", \"Topic6\", \"Topic6\", \"Topic6\", \"Topic6\", \"Topic6\", \"Topic6\", \"Topic6\", \"Topic6\", \"Topic6\", \"Topic6\", \"Topic6\", \"Topic6\", \"Topic6\", \"Topic6\", \"Topic6\", \"Topic6\", \"Topic6\", \"Topic6\", \"Topic6\", \"Topic6\", \"Topic6\", \"Topic6\", \"Topic6\", \"Topic6\", \"Topic6\", \"Topic6\", \"Topic6\", \"Topic6\", \"Topic6\", \"Topic6\", \"Topic6\", \"Topic6\", \"Topic6\", \"Topic6\", \"Topic6\", \"Topic6\", \"Topic6\", \"Topic6\", \"Topic6\", \"Topic6\", \"Topic6\", \"Topic7\", \"Topic7\", \"Topic7\", \"Topic7\", \"Topic7\", \"Topic7\", \"Topic7\", \"Topic7\", \"Topic7\", \"Topic7\", \"Topic7\", \"Topic7\", \"Topic7\", \"Topic7\", \"Topic7\", \"Topic7\", \"Topic7\", \"Topic7\", \"Topic7\", \"Topic7\", \"Topic7\", \"Topic7\", \"Topic7\", \"Topic7\", \"Topic7\", \"Topic7\", \"Topic7\", \"Topic7\", \"Topic7\", \"Topic7\", \"Topic7\", \"Topic7\", \"Topic7\", \"Topic7\", \"Topic7\", \"Topic7\", \"Topic7\", \"Topic7\", \"Topic7\", \"Topic7\", \"Topic7\", \"Topic7\", \"Topic7\", \"Topic8\", \"Topic8\", \"Topic8\", \"Topic8\", \"Topic8\", \"Topic8\", \"Topic8\", \"Topic8\", \"Topic8\", \"Topic8\", \"Topic8\", \"Topic8\", \"Topic8\", \"Topic8\", \"Topic8\", \"Topic8\", \"Topic8\", \"Topic8\", \"Topic8\", \"Topic8\", \"Topic8\", \"Topic8\", \"Topic8\", \"Topic8\", \"Topic8\", \"Topic8\", \"Topic8\", \"Topic8\", \"Topic8\", \"Topic8\", \"Topic8\", \"Topic8\", \"Topic8\", \"Topic8\", \"Topic8\", \"Topic8\", \"Topic8\", \"Topic8\", \"Topic8\", \"Topic8\", \"Topic8\", \"Topic8\", \"Topic8\", \"Topic8\", \"Topic8\", \"Topic8\", \"Topic8\", \"Topic9\", \"Topic9\", \"Topic9\", \"Topic9\", \"Topic9\", \"Topic9\", \"Topic9\", \"Topic9\", \"Topic9\", \"Topic9\", \"Topic9\", \"Topic9\", \"Topic9\", \"Topic9\", \"Topic9\", \"Topic9\", \"Topic9\", \"Topic9\", \"Topic9\", \"Topic9\", \"Topic9\", \"Topic9\", \"Topic9\", \"Topic9\", \"Topic9\", \"Topic9\", \"Topic9\", \"Topic9\", \"Topic9\", \"Topic9\", \"Topic10\", \"Topic10\", \"Topic10\", \"Topic10\", \"Topic10\", \"Topic10\", \"Topic10\", \"Topic10\", \"Topic10\", \"Topic10\", \"Topic10\", \"Topic10\", \"Topic10\", \"Topic10\", \"Topic10\", \"Topic10\", \"Topic10\", \"Topic10\", \"Topic10\", \"Topic10\", \"Topic10\", \"Topic10\", \"Topic10\", \"Topic10\", \"Topic10\", \"Topic10\", \"Topic10\", \"Topic10\", \"Topic10\", \"Topic10\", \"Topic10\", \"Topic10\", \"Topic10\", \"Topic10\", \"Topic10\", \"Topic10\", \"Topic10\", \"Topic10\", \"Topic10\", \"Topic10\", \"Topic10\", \"Topic10\", \"Topic10\", \"Topic10\", \"Topic10\", \"Topic10\", \"Topic11\", \"Topic11\", \"Topic11\", \"Topic11\", \"Topic11\", \"Topic11\", \"Topic11\", \"Topic11\", \"Topic11\", \"Topic11\", \"Topic11\", \"Topic11\", \"Topic11\", \"Topic11\", \"Topic11\", \"Topic11\", \"Topic11\", \"Topic11\", \"Topic11\", \"Topic11\", \"Topic11\", \"Topic11\", \"Topic11\", \"Topic11\", \"Topic11\", \"Topic11\", \"Topic11\", \"Topic11\", \"Topic11\", \"Topic11\", \"Topic11\", \"Topic11\", \"Topic11\", \"Topic11\", \"Topic11\", \"Topic11\", \"Topic11\", \"Topic11\", \"Topic11\", \"Topic11\", \"Topic11\", \"Topic11\", \"Topic11\", \"Topic11\", \"Topic11\", \"Topic11\", \"Topic11\", \"Topic11\", \"Topic11\", \"Topic11\", \"Topic12\", \"Topic12\", \"Topic12\", \"Topic12\", \"Topic12\", \"Topic12\", \"Topic12\", \"Topic12\", \"Topic12\", \"Topic12\", \"Topic12\", \"Topic12\", \"Topic12\", \"Topic12\", \"Topic12\", \"Topic12\", \"Topic12\", \"Topic12\", \"Topic12\", \"Topic12\", \"Topic12\", \"Topic12\", \"Topic12\", \"Topic12\", \"Topic12\", \"Topic12\", \"Topic12\", \"Topic12\", \"Topic12\", \"Topic12\", \"Topic12\", \"Topic12\", \"Topic12\", \"Topic12\", \"Topic12\", \"Topic12\", \"Topic12\", \"Topic12\", \"Topic12\", \"Topic12\", \"Topic12\", \"Topic12\", \"Topic12\", \"Topic12\", \"Topic12\", \"Topic12\", \"Topic12\", \"Topic12\", \"Topic12\", \"Topic12\", \"Topic12\", \"Topic13\", \"Topic13\", \"Topic13\", \"Topic13\", \"Topic13\", \"Topic13\", \"Topic13\", \"Topic13\", \"Topic13\", \"Topic13\", \"Topic13\", \"Topic13\", \"Topic13\", \"Topic13\", \"Topic13\", \"Topic13\", \"Topic13\", \"Topic13\", \"Topic13\", \"Topic13\", \"Topic13\", \"Topic13\", \"Topic13\", \"Topic13\", \"Topic13\", \"Topic13\", \"Topic13\", \"Topic13\", \"Topic13\", \"Topic13\", \"Topic13\", \"Topic13\", \"Topic13\", \"Topic13\", \"Topic13\", \"Topic13\", \"Topic13\", \"Topic13\", \"Topic13\", \"Topic13\", \"Topic13\", \"Topic13\", \"Topic13\", \"Topic13\", \"Topic14\", \"Topic14\", \"Topic14\", \"Topic14\", \"Topic14\", \"Topic14\", \"Topic14\", \"Topic14\", \"Topic14\", \"Topic14\", \"Topic14\", \"Topic14\", \"Topic14\", \"Topic14\", \"Topic14\", \"Topic14\", \"Topic14\", \"Topic14\", \"Topic14\", \"Topic14\", \"Topic14\", \"Topic14\", \"Topic14\", \"Topic14\", \"Topic14\", \"Topic14\", \"Topic14\", \"Topic14\", \"Topic14\", \"Topic14\", \"Topic14\", \"Topic14\", \"Topic14\", \"Topic14\", \"Topic14\", \"Topic14\", \"Topic14\", \"Topic14\", \"Topic14\", \"Topic14\", \"Topic14\", \"Topic14\", \"Topic15\", \"Topic15\", \"Topic15\", \"Topic15\", \"Topic15\", \"Topic15\", \"Topic15\", \"Topic15\", \"Topic15\", \"Topic15\", \"Topic15\", \"Topic15\", \"Topic15\", \"Topic15\", \"Topic15\", \"Topic15\", \"Topic15\", \"Topic15\", \"Topic15\", \"Topic15\", \"Topic15\", \"Topic15\", \"Topic15\", \"Topic15\", \"Topic15\", \"Topic15\", \"Topic15\", \"Topic15\", \"Topic15\", \"Topic15\", \"Topic15\", \"Topic15\", \"Topic15\", \"Topic15\", \"Topic15\", \"Topic15\", \"Topic15\", \"Topic15\", \"Topic15\", \"Topic15\", \"Topic15\", \"Topic15\", \"Topic15\", \"Topic15\", \"Topic15\", \"Topic15\", \"Topic15\", \"Topic16\", \"Topic16\", \"Topic16\", \"Topic16\", \"Topic16\", \"Topic16\", \"Topic16\", \"Topic16\", \"Topic16\", \"Topic16\", \"Topic16\", \"Topic16\", \"Topic16\", \"Topic16\", \"Topic16\", \"Topic16\", \"Topic16\", \"Topic16\", \"Topic16\", \"Topic16\", \"Topic16\", \"Topic16\", \"Topic16\", \"Topic16\", \"Topic16\", \"Topic16\", \"Topic16\", \"Topic16\", \"Topic16\", \"Topic16\", \"Topic16\", \"Topic16\", \"Topic16\", \"Topic16\", \"Topic16\", \"Topic16\", \"Topic16\", \"Topic16\", \"Topic16\", \"Topic16\", \"Topic16\", \"Topic16\", \"Topic17\", \"Topic17\", \"Topic17\", \"Topic17\", \"Topic17\", \"Topic17\", \"Topic17\", \"Topic17\", \"Topic17\", \"Topic17\", \"Topic17\", \"Topic17\", \"Topic17\", \"Topic17\", \"Topic17\", \"Topic17\", \"Topic17\", \"Topic17\", \"Topic17\", \"Topic17\", \"Topic17\", \"Topic17\", \"Topic17\", \"Topic17\", \"Topic17\", \"Topic17\", \"Topic17\", \"Topic17\", \"Topic17\", \"Topic17\", \"Topic17\", \"Topic17\", \"Topic17\", \"Topic17\", \"Topic17\", \"Topic17\", \"Topic17\", \"Topic17\", \"Topic17\", \"Topic17\", \"Topic17\", \"Topic17\", \"Topic18\", \"Topic18\", \"Topic18\", \"Topic18\", \"Topic18\", \"Topic18\", \"Topic18\", \"Topic18\", \"Topic18\", \"Topic18\", \"Topic18\", \"Topic18\", \"Topic18\", \"Topic18\", \"Topic18\", \"Topic18\", \"Topic18\", \"Topic18\", \"Topic18\", \"Topic18\", \"Topic18\", \"Topic18\", \"Topic18\", \"Topic18\", \"Topic18\", \"Topic18\", \"Topic18\", \"Topic18\", \"Topic18\", \"Topic18\", \"Topic18\", \"Topic19\", \"Topic19\", \"Topic19\", \"Topic19\", \"Topic19\", \"Topic19\", \"Topic19\", \"Topic19\", \"Topic19\", \"Topic19\", \"Topic19\", \"Topic19\", \"Topic19\", \"Topic19\", \"Topic19\", \"Topic19\", \"Topic19\", \"Topic19\", \"Topic19\", \"Topic19\", \"Topic19\", \"Topic19\", \"Topic19\", \"Topic19\", \"Topic19\", \"Topic19\", \"Topic19\", \"Topic19\", \"Topic19\", \"Topic19\", \"Topic19\", \"Topic19\", \"Topic19\", \"Topic19\", \"Topic19\", \"Topic20\", \"Topic20\", \"Topic20\", \"Topic20\", \"Topic20\", \"Topic20\", \"Topic20\", \"Topic20\", \"Topic20\", \"Topic20\", \"Topic20\", \"Topic20\", \"Topic20\", \"Topic20\", \"Topic20\", \"Topic20\", \"Topic20\", \"Topic20\", \"Topic20\", \"Topic20\", \"Topic20\", \"Topic20\", \"Topic20\", \"Topic20\", \"Topic20\", \"Topic20\", \"Topic20\", \"Topic20\", \"Topic20\", \"Topic20\", \"Topic20\", \"Topic20\", \"Topic20\", \"Topic20\", \"Topic20\", \"Topic20\", \"Topic20\"], \"Freq\": [57151.0, 11366.0, 10841.0, 4830.0, 9411.0, 7606.0, 7192.0, 4941.0, 4498.0, 6190.0, 4000.0, 4898.0, 8874.0, 5821.0, 1920.0, 5784.0, 2152.0, 2201.0, 2176.0, 1775.0, 2726.0, 3636.0, 1958.0, 3608.0, 2711.0, 4158.0, 4406.0, 4424.0, 2544.0, 2570.0, 7605.8828125, 7191.83642578125, 6189.96630859375, 2834.87744140625, 2167.489501953125, 2048.763427734375, 3634.293212890625, 1768.2279052734375, 1717.5025634765625, 1678.153564453125, 1661.4066162109375, 1568.2239990234375, 1500.6866455078125, 1492.1712646484375, 1481.095947265625, 1318.408447265625, 1276.01318359375, 1248.00048828125, 1153.560791015625, 1147.184814453125, 1071.8626708984375, 1063.6087646484375, 1061.4539794921875, 1041.848388671875, 1022.15087890625, 1007.4990234375, 1005.7188720703125, 1002.87841796875, 914.6776123046875, 907.39892578125, 9307.2490234375, 3597.883544921875, 3313.377685546875, 1442.617431640625, 2268.708984375, 2630.37646484375, 1393.7508544921875, 5571.54296875, 3996.72021484375, 4216.8427734375, 2012.1773681640625, 5291.68505859375, 7620.2666015625, 2405.571533203125, 2619.54248046875, 2226.304443359375, 1920.646728515625, 3256.033935546875, 2803.64599609375, 3623.114013671875, 2410.467529296875, 2447.938232421875, 5421.49755859375, 5155.40673828125, 2913.579833984375, 2418.60791015625, 1957.553466796875, 1092.7962646484375, 985.1334228515625, 688.2625122070312, 669.2288818359375, 484.6231689453125, 480.7111511230469, 392.7059326171875, 390.71630859375, 371.5781555175781, 334.8798522949219, 329.8155517578125, 311.5016784667969, 309.86474609375, 304.93524169921875, 304.0239562988281, 294.5280456542969, 287.44964599609375, 277.7568359375, 273.6765441894531, 256.4082336425781, 248.42852783203125, 245.99505615234375, 222.59390258789062, 222.48838806152344, 221.03256225585938, 214.9813995361328, 213.6802978515625, 207.87437438964844, 198.39920043945312, 199.49876403808594, 1246.003662109375, 508.54998779296875, 1162.5797119140625, 916.5457763671875, 609.2566528320312, 3254.683349609375, 1651.52978515625, 1398.02978515625, 611.997314453125, 3273.102294921875, 849.3569946289062, 3443.931884765625, 428.4074401855469, 5910.150390625, 5654.23046875, 915.2623901367188, 553.3171997070312, 535.7293701171875, 731.6864013671875, 690.7018432617188, 1153.0023193359375, 1516.4168701171875, 641.0089721679688, 1290.543212890625, 633.223388671875, 1096.033935546875, 693.5867919921875, 708.0916137695312, 737.6761474609375, 2200.70849609375, 2175.2158203125, 1115.4805908203125, 684.7677001953125, 646.56689453125, 610.4896240234375, 586.9974365234375, 521.4954833984375, 429.0168762207031, 426.4889221191406, 413.25042724609375, 407.1152038574219, 403.2001037597656, 329.196044921875, 325.8865051269531, 298.1000671386719, 288.786865234375, 284.2158203125, 283.3437805175781, 283.3555908203125, 275.4022521972656, 273.4891052246094, 271.9302673339844, 264.88531494140625, 264.4576416015625, 261.80413818359375, 261.3519287109375, 253.08938598632812, 249.8466339111328, 243.47970581054688, 620.27880859375, 389.3527526855469, 567.1734008789062, 1196.5823974609375, 535.2512817382812, 716.4690551757812, 1018.8300170898438, 362.32122802734375, 506.040283203125, 705.9793090820312, 744.3627319335938, 431.0090637207031, 400.3229675292969, 388.33306884765625, 653.2151489257812, 708.26220703125, 587.634033203125, 697.1103515625, 767.8930053710938, 567.8704833984375, 703.292724609375, 558.8246459960938, 440.294677734375, 462.4415588378906, 471.01531982421875, 430.72406005859375, 1036.8841552734375, 769.443603515625, 711.8585815429688, 594.1851806640625, 546.6343994140625, 544.8788452148438, 478.3737487792969, 475.9732666015625, 472.8902587890625, 441.7747802734375, 439.6520690917969, 418.08343505859375, 414.24798583984375, 360.1532897949219, 347.4816589355469, 313.1208190917969, 310.051513671875, 295.799072265625, 285.46124267578125, 281.4823303222656, 276.926513671875, 263.4857482910156, 261.4393005371094, 257.5029296875, 255.89898681640625, 255.814208984375, 237.4862060546875, 222.78330993652344, 222.6847381591797, 220.8970184326172, 994.6936645507812, 322.223876953125, 1439.6842041015625, 564.0106811523438, 1034.68896484375, 879.4133911132812, 435.6785888671875, 368.0028991699219, 1176.2447509765625, 553.2945556640625, 507.2303771972656, 437.96307373046875, 459.8098449707031, 634.4705810546875, 627.0235595703125, 582.74267578125, 546.6876220703125, 466.2916564941406, 420.6182556152344, 481.6390380859375, 435.5792541503906, 1328.7662353515625, 840.4586791992188, 723.7747802734375, 591.8468627929688, 508.83380126953125, 447.167724609375, 442.5455017089844, 421.7498474121094, 407.86773681640625, 331.59674072265625, 324.0767517089844, 288.2738342285156, 288.1861877441406, 285.73577880859375, 284.02691650390625, 280.13623046875, 275.01495361328125, 273.77044677734375, 272.81353759765625, 268.27996826171875, 264.30657958984375, 260.7415466308594, 257.7995910644531, 249.8101043701172, 226.6792449951172, 220.07559204101562, 217.66824340820312, 213.98443603515625, 213.38250732421875, 211.5520782470703, 281.515380859375, 279.8425598144531, 318.49737548828125, 491.594970703125, 603.3929443359375, 674.820068359375, 654.53369140625, 289.48101806640625, 326.8844909667969, 765.9003295898438, 970.1473999023438, 553.6053466796875, 633.6333618164062, 463.8298034667969, 370.2060241699219, 355.0130920410156, 465.2952880859375, 507.9921875, 578.0115966796875, 722.8502807617188, 402.8140563964844, 426.1405029296875, 562.6900024414062, 477.6102600097656, 393.9007568359375, 359.2579345703125, 368.7440185546875, 4829.8095703125, 1774.417236328125, 706.2334594726562, 688.0601196289062, 623.8248901367188, 592.5587768554688, 587.9912719726562, 549.8839721679688, 512.8656616210938, 436.3022766113281, 419.30792236328125, 395.2242736816406, 394.6283874511719, 384.1709899902344, 357.721923828125, 356.53594970703125, 338.9325256347656, 331.32415771484375, 283.7915954589844, 262.6256408691406, 249.79417419433594, 249.59620666503906, 245.90733337402344, 241.73118591308594, 241.6927947998047, 232.17044067382812, 229.14866638183594, 220.3179931640625, 213.1278839111328, 210.67660522460938, 672.10205078125, 986.432861328125, 602.8360595703125, 722.9039916992188, 768.8247680664062, 1040.7430419921875, 423.0818786621094, 585.22119140625, 668.4159545898438, 377.0490417480469, 795.7115478515625, 479.93109130859375, 637.729736328125, 433.3160400390625, 528.878173828125, 517.3798828125, 640.3522338867188, 523.2176513671875, 460.3421630859375, 748.3248291015625, 670.9680786132812, 659.1809692382812, 592.2908325195312, 577.3313598632812, 456.27105712890625, 399.1831359863281, 380.5792236328125, 379.3258361816406, 362.5912170410156, 345.036865234375, 342.6370849609375, 329.8524475097656, 372.5112609863281, 312.2338562011719, 297.9513244628906, 262.2514953613281, 235.20687866210938, 223.4667510986328, 223.0101318359375, 216.05535888671875, 213.18441772460938, 205.1440887451172, 194.40281677246094, 186.6601104736328, 186.05152893066406, 180.53224182128906, 174.57904052734375, 172.48768615722656, 166.8902130126953, 700.0804443359375, 497.0334777832031, 196.87928771972656, 259.1130065917969, 302.21136474609375, 436.64630126953125, 323.2896423339844, 1067.66455078125, 314.9516906738281, 580.4658203125, 403.23895263671875, 258.55267333984375, 258.4084167480469, 751.9898681640625, 562.412353515625, 431.8681640625, 405.7864074707031, 386.3648376464844, 331.7271423339844, 321.78558349609375, 290.7154846191406, 285.8586730957031, 272.9523010253906, 272.62127685546875, 251.50900268554688, 226.860595703125, 224.13035583496094, 218.14569091796875, 210.79229736328125, 209.5721435546875, 206.5001983642578, 204.6345672607422, 201.82569885253906, 197.21926879882812, 194.98834228515625, 192.88426208496094, 191.56121826171875, 188.70025634765625, 180.4588623046875, 174.3888397216797, 173.3025665283203, 172.62611389160156, 172.09742736816406, 685.9707641601562, 386.7663269042969, 307.55133056640625, 210.1416473388672, 292.91693115234375, 274.7442932128906, 439.99676513671875, 345.0452575683594, 383.062255859375, 264.2399597167969, 227.76397705078125, 295.4985046386719, 333.4190979003906, 282.468994140625, 233.849853515625, 238.95230102539062, 220.90762329101562, 57150.1953125, 299.482177734375, 253.0778350830078, 249.63204956054688, 247.0741424560547, 207.32521057128906, 204.21328735351562, 197.3160400390625, 176.88946533203125, 176.4322052001953, 167.50660705566406, 161.32284545898438, 161.12075805664062, 152.83938598632812, 148.79916381835938, 141.96331787109375, 128.4773712158203, 127.95381164550781, 123.00963592529297, 121.18307495117188, 115.04252624511719, 114.75119018554688, 107.12943267822266, 101.41476440429688, 98.8283462524414, 98.36255645751953, 84.21259307861328, 80.17023468017578, 77.99749755859375, 71.57575988769531, 1919.8616943359375, 633.676513671875, 628.4217529296875, 548.6083374023438, 336.1253967285156, 290.85693359375, 280.4960632324219, 279.4293518066406, 269.1421813964844, 262.32122802734375, 236.64141845703125, 235.55105590820312, 232.73353576660156, 223.65687561035156, 211.3448944091797, 206.9450225830078, 198.62405395507812, 198.18792724609375, 197.5792999267578, 195.20285034179688, 188.38897705078125, 176.12452697753906, 176.12452697753906, 173.32080078125, 172.07850646972656, 168.45884704589844, 166.7646026611328, 166.14971923828125, 164.67324829101562, 163.99986267089844, 656.0203857421875, 342.3318176269531, 221.4586944580078, 238.70645141601562, 232.2759552001953, 335.95892333984375, 472.9933776855469, 358.2861633300781, 414.7610168457031, 250.94970703125, 367.1977233886719, 299.71881103515625, 305.8565673828125, 266.4433288574219, 225.82772827148438, 236.70726013183594, 573.73974609375, 334.8718566894531, 320.966064453125, 299.6675720214844, 287.37432861328125, 282.4364013671875, 261.1688232421875, 244.56837463378906, 214.4534912109375, 209.2911834716797, 208.3076934814453, 208.30361938476562, 206.67208862304688, 206.06036376953125, 198.61318969726562, 189.30409240722656, 182.5631103515625, 181.63253784179688, 180.8780059814453, 180.0723419189453, 178.50778198242188, 172.26275634765625, 171.46702575683594, 159.9742889404297, 155.96575927734375, 152.3335418701172, 151.2872772216797, 151.1226806640625, 144.1476593017578, 137.89344787597656, 325.3707580566406, 1876.8665771484375, 552.6856079101562, 315.10809326171875, 255.1553955078125, 363.9549255371094, 210.47499084472656, 269.9285888671875, 367.153564453125, 236.68296813964844, 318.6601867675781, 331.2991638183594, 535.2296752929688, 291.0664367675781, 315.7581481933594, 312.1145324707031, 268.0468444824219, 212.47152709960938, 229.10250854492188, 232.1446075439453, 430.0940856933594, 405.9249267578125, 378.9368896484375, 376.9176330566406, 360.02203369140625, 351.9052734375, 326.5629577636719, 289.9340515136719, 254.56915283203125, 249.3688507080078, 237.31619262695312, 234.6734619140625, 223.64468383789062, 210.5147705078125, 207.40916442871094, 204.51051330566406, 202.35446166992188, 198.752685546875, 197.69432067871094, 196.44296264648438, 186.61090087890625, 185.0483856201172, 184.08395385742188, 174.35458374023438, 174.03485107421875, 172.67652893066406, 170.7972412109375, 169.2416534423828, 168.4875946044922, 167.31576538085938, 306.9970397949219, 329.8582458496094, 286.7781677246094, 508.7049560546875, 329.8719177246094, 328.40875244140625, 378.95611572265625, 429.0254821777344, 232.0141143798828, 368.74212646484375, 286.1643371582031, 227.9388885498047, 243.72637939453125, 285.2225036621094, 257.245361328125, 227.24171447753906, 321.2497253417969, 254.54965209960938, 306.9670715332031, 250.8626251220703, 235.66041564941406, 492.9005126953125, 362.2341003417969, 338.2738342285156, 324.0943298339844, 320.12811279296875, 301.6354064941406, 290.8943786621094, 234.09149169921875, 227.00689697265625, 223.23040771484375, 223.1190185546875, 221.14683532714844, 220.51942443847656, 218.94430541992188, 216.7147979736328, 204.4019012451172, 202.06466674804688, 174.70867919921875, 166.69024658203125, 161.711181640625, 157.6432647705078, 153.21319580078125, 153.0362548828125, 149.18360900878906, 148.0880126953125, 142.72781372070312, 141.94619750976562, 139.655517578125, 137.204833984375, 137.0106658935547, 281.05242919921875, 202.20716857910156, 197.7216033935547, 221.89431762695312, 167.4412078857422, 207.28903198242188, 277.6817321777344, 230.68246459960938, 231.9216766357422, 216.8565673828125, 182.0155792236328, 185.85430908203125, 206.28395080566406, 179.93255615234375, 862.515625, 547.6854858398438, 451.9375305175781, 338.11175537109375, 317.865478515625, 268.6580505371094, 251.4493408203125, 241.3140869140625, 216.2193145751953, 213.6729736328125, 201.88015747070312, 199.74710083007812, 197.86700439453125, 197.19662475585938, 188.53309631347656, 187.47425842285156, 186.2747039794922, 185.014892578125, 181.86968994140625, 179.975341796875, 172.49700927734375, 161.21231079101562, 160.2521209716797, 158.70486450195312, 153.75491333007812, 152.09559631347656, 151.8870086669922, 142.0946044921875, 140.29698181152344, 137.6796875, 224.38800048828125, 201.62673950195312, 441.4526062011719, 201.10812377929688, 221.80892944335938, 399.69580078125, 303.5196838378906, 229.82362365722656, 241.29238891601562, 182.09254455566406, 191.14239501953125, 182.99990844726562, 467.3142395019531, 391.5932312011719, 387.0396728515625, 377.4417419433594, 231.57176208496094, 230.3948974609375, 222.0235595703125, 217.8800506591797, 209.39065551757812, 206.5029754638672, 203.070556640625, 194.56436157226562, 185.74966430664062, 181.6053924560547, 172.28787231445312, 152.8688507080078, 148.31759643554688, 131.2122344970703, 127.04517364501953, 123.5146255493164, 118.4781265258789, 115.87826538085938, 114.5746078491211, 113.90584564208984, 112.64009857177734, 111.60353088378906, 109.43700408935547, 108.89010620117188, 108.46739196777344, 104.10635375976562, 259.658203125, 329.8501281738281, 264.9540100097656, 258.51513671875, 183.50489807128906, 339.4304504394531, 388.56671142578125, 719.2994384765625, 548.6649780273438, 660.85595703125, 581.46923828125, 235.38177490234375, 211.0749053955078, 212.24331665039062, 309.7123718261719, 233.89732360839844, 186.30735778808594, 1015.227294921875, 526.0377807617188, 382.7437744140625, 311.8721618652344, 235.7923583984375, 217.82174682617188, 206.80345153808594, 195.21807861328125, 192.3816375732422, 188.70449829101562, 186.16128540039062, 169.12562561035156, 158.6764373779297, 153.9356231689453, 152.25851440429688, 145.45469665527344, 145.0932159423828, 144.34364318847656, 143.2782745361328, 139.52879333496094, 136.9620819091797, 136.43826293945312, 127.40997314453125, 126.28018951416016, 123.87995910644531, 122.45250701904297, 121.68798828125, 121.44242858886719, 118.83606719970703, 118.73403930664062, 376.6822509765625, 203.29481506347656, 184.38734436035156, 186.13168334960938, 173.98199462890625, 226.71823120117188, 196.25650024414062, 191.7198944091797, 157.00845336914062, 148.14849853515625, 144.09518432617188, 169.8810577392578, 713.8519287109375, 604.93603515625, 336.168701171875, 263.98712158203125, 249.95016479492188, 246.99127197265625, 214.3887176513672, 211.95321655273438, 205.78404235839844, 197.58551025390625, 184.31126403808594, 179.73377990722656, 179.55709838867188, 177.58412170410156, 175.64443969726562, 174.4188690185547, 168.35104370117188, 163.58009338378906, 155.9904327392578, 154.72003173828125, 152.3279571533203, 146.95223999023438, 137.18621826171875, 131.07241821289062, 123.75070190429688, 123.26142883300781, 119.76260375976562, 118.59581756591797, 117.12174987792969, 114.18115234375, 282.43121337890625, 528.95654296875, 959.8829956054688, 180.37843322753906, 730.25732421875, 646.9851684570312, 545.5809326171875, 222.928466796875, 305.703857421875, 270.8917236328125, 266.3332214355469, 159.5323028564453, 694.8457641601562, 514.3057861328125, 419.4768371582031, 253.13783264160156, 246.8736572265625, 231.25596618652344, 226.8441162109375, 226.7622528076172, 207.19044494628906, 191.72628784179688, 187.00833129882812, 186.88697814941406, 183.7748565673828, 159.5524444580078, 159.3247833251953, 154.7399444580078, 150.87152099609375, 146.2919464111328, 141.60324096679688, 140.3767547607422, 134.7847900390625, 127.0935287475586, 123.66425323486328, 122.3131332397461, 119.8845443725586, 118.57764434814453, 117.1813735961914, 116.47898864746094, 116.11571502685547, 113.71251678466797, 456.014892578125, 762.8052368164062, 586.23095703125, 439.2964172363281, 413.02691650390625, 369.95745849609375, 353.3965759277344, 322.76422119140625, 291.2528381347656, 291.11614990234375, 275.7574768066406, 259.6547546386719, 245.79049682617188, 201.13197326660156, 185.9860382080078, 180.3152313232422, 179.7531280517578, 170.9541778564453, 167.7736358642578, 157.03497314453125, 149.18157958984375, 141.25274658203125, 139.15692138671875, 138.90487670898438, 124.03185272216797, 119.54692077636719, 116.70320892333984, 102.73381805419922, 99.30870056152344, 96.41053009033203, 95.79165649414062, 291.8361511230469, 263.927490234375, 242.80526733398438, 169.0704803466797, 154.8641357421875, 504.13134765625, 339.2156066894531, 317.772216796875, 290.9234313964844, 268.9600830078125, 267.4205627441406, 261.4175720214844, 250.12661743164062, 232.4676971435547, 212.7186737060547, 190.75491333007812, 189.4272918701172, 158.76370239257812, 138.7353057861328, 138.5198211669922, 137.72573852539062, 137.4993133544922, 130.80975341796875, 126.05680084228516, 119.7228775024414, 101.34314727783203, 97.22228240966797, 89.55424499511719, 89.26876831054688, 88.9432144165039, 86.8368148803711, 86.03533172607422, 85.73216247558594, 83.57709503173828, 82.48657989501953, 457.64776611328125, 229.92605590820312, 198.862060546875, 274.03131103515625, 256.52276611328125, 95.38390350341797, 101.23242950439453], \"Term\": [\"ax\", \"lines\", \"organization\", \"max\", \"would\", \"writes\", \"article\", \"university\", \"nntp_posting\", \"dont\", \"host\", \"people\", \"one\", \"like\", \"space\", \"know\", \"year\", \"god\", \"jesus\", \"windows\", \"right\", \"good\", \"thanks\", \"well\", \"anyone\", \"think\", \"time\", \"get\", \"system\", \"said\", \"writes\", \"article\", \"dont\", \"much\", \"really\", \"going\", \"good\", \"sure\", \"cant\", \"thats\", \"take\", \"give\", \"little\", \"thing\", \"doesnt\", \"enough\", \"tell\", \"youre\", \"hard\", \"actually\", \"trying\", \"yes\", \"isnt\", \"done\", \"put\", \"else\", \"maybe\", \"lot\", \"kind\", \"word\", \"would\", \"well\", \"could\", \"didnt\", \"something\", \"make\", \"around\", \"like\", \"think\", \"time\", \"still\", \"know\", \"one\", \"want\", \"way\", \"go\", \"never\", \"im\", \"even\", \"get\", \"right\", \"see\", \"lines\", \"organization\", \"people\", \"also\", \"thanks\", \"email\", \"sale\", \"advance\", \"phone\", \"cable\", \"hd\", \"wiring\", \"newsreader_tin\", \"nj\", \"thank\", \"circuit\", \"laptop\", \"appreciated\", \"unix\", \"version_pl\", \"drives\", \"vesa\", \"display\", \"vga\", \"battery\", \"nec\", \"cmos\", \"motherboard\", \"hello\", \"switch\", \"audio\", \"pin\", \"outlets\", \"ac\", \"opinions_expressed\", \"drive\", \"hi\", \"info\", \"ca\", \"address\", \"host\", \"please\", \"mail\", \"interested\", \"nntp_posting\", \"keywords\", \"university\", \"engineering\", \"lines\", \"organization\", \"computer\", \"box\", \"fax\", \"inc\", \"distribution_world\", \"help\", \"anyone\", \"internet\", \"reply\", \"com\", \"need\", \"looking\", \"card\", \"new\", \"god\", \"jesus\", \"christian\", \"bible\", \"christians\", \"truth\", \"exist\", \"faith\", \"therefore\", \"church\", \"meaning\", \"homeopathy\", \"gods\", \"lord\", \"context\", \"reality\", \"punishment\", \"knowing\", \"beliefs\", \"christ\", \"existence\", \"heaven\", \"verses\", \"missed\", \"moral\", \"christianity\", \"evil\", \"false\", \"understanding\", \"kid\", \"claim\", \"argument\", \"view\", \"life\", \"evidence\", \"book\", \"believe\", \"knowledge\", \"cannot\", \"true\", \"fact\", \"words\", \"human\", \"society\", \"john\", \"must\", \"law\", \"say\", \"people\", \"us\", \"one\", \"may\", \"reason\", \"point\", \"many\", \"question\", \"key\", \"chip\", \"board\", \"contact\", \"encryption\", \"division\", \"keys\", \"monitor\", \"player\", \"runs\", \"wiretaps\", \"specifically\", \"van\", \"clipper\", \"commercial\", \"algorithm\", \"report\", \"pub\", \"review\", \"nsa\", \"winning\", \"encrypted\", \"excellent\", \"crypto\", \"secure\", \"serial\", \"art\", \"ensure\", \"analysis\", \"scoring\", \"technology\", \"industry\", \"information\", \"access\", \"available\", \"data\", \"faq\", \"security\", \"system\", \"provide\", \"send\", \"source\", \"code\", \"new\", \"two\", \"may\", \"used\", \"bit\", \"message\", \"also\", \"number\", \"mr_stephanopoulos\", \"president\", \"went\", \"th\", \"house\", \"room\", \"building\", \"period\", \"ground\", \"five\", \"led\", \"night\", \"finally\", \"water\", \"weeks\", \"rd\", \"morning\", \"radio\", \"minutes\", \"edge\", \"hot\", \"nasa\", \"meeting\", \"mother\", \"east\", \"girl\", \"mission\", \"expected\", \"weekend\", \"benefits\", \"dc\", \"chance\", \"near\", \"took\", \"days\", \"three\", \"home\", \"wonder\", \"four\", \"day\", \"said\", \"let\", \"power\", \"left\", \"started\", \"page\", \"wont\", \"second\", \"made\", \"two\", \"working\", \"told\", \"us\", \"new\", \"back\", \"came\", \"first\", \"max\", \"windows\", \"dos\", \"server\", \"memory\", \"pc\", \"mac\", \"ram\", \"format\", \"vlb\", \"scsi\", \"mouse\", \"xfree\", \"mit\", \"ide\", \"motif\", \"mhz\", \"bbs\", \"dx\", \"font\", \"interface\", \"port\", \"modes\", \"colors\", \"svga\", \"resolution\", \"intel\", \"disks\", \"becomes\", \"fonts\", \"mb\", \"file\", \"color\", \"files\", \"version\", \"software\", \"application\", \"running\", \"program\", \"screen\", \"using\", \"cards\", \"bit\", \"speed\", \"card\", \"run\", \"system\", \"problem\", \"available\", \"armenians\", \"armenian\", \"jews\", \"religion\", \"men\", \"jewish\", \"turkish\", \"greek\", \"women\", \"died\", \"child\", \"turks\", \"peace\", \"murder\", \"serdar_argic\", \"religious\", \"soldiers\", \"marriage\", \"muslim\", \"sumgait\", \"kings\", \"gay\", \"turkey\", \"woman\", \"azerbaijani\", \"rose\", \"armenia\", \"sin\", \"muslims\", \"broken\", \"children\", \"death\", \"acts\", \"yalanci\", \"killed\", \"dead\", \"war\", \"people\", \"history\", \"said\", \"world\", \"published\", \"today\", \"players\", \"brian\", \"couldnt\", \"baseball\", \"league\", \"dave\", \"illinois\", \"connected\", \"tb\", \"trade\", \"errors\", \"fans\", \"sports\", \"command\", \"location\", \"buffalo\", \"defenseman\", \"ny\", \"blue\", \"born\", \"gif\", \"scores\", \"copies\", \"named\", \"effects\", \"fly\", \"ham\", \"tel\", \"dog\", \"widget\", \"list\", \"text\", \"los_angeles\", \"release\", \"youll\", \"front\", \"paul\", \"pittsburgh\", \"distribution_na\", \"ie\", \"begin\", \"new_york\", \"david\", \"jim\", \"california\", \"univ\", \"user\", \"ax\", \"miles\", \"deity\", \"blues\", \"brian_kendig\", \"atheists\", \"brother\", \"supports\", \"rangers\", \"estimate\", \"stage\", \"eisa\", \"slap\", \"thanx\", \"vl\", \"iii\", \"qax\", \"capital\", \"virtue\", \"tank\", \"custom\", \"animation\", \"rumors\", \"edges\", \"frequency\", \"isa\", \"progress\", \"slave\", \"wri\", \"dram\", \"space\", \"window\", \"april\", \"image\", \"images\", \"dr\", \"launch\", \"chief\", \"gov\", \"conference\", \"spacecraft\", \"north\", \"orbit\", \"flight\", \"aerospace\", \"km\", \"satellite\", \"features\", \"surface\", \"manager\", \"miller\", \"software_vax\", \"vms_vnews\", \"operation\", \"yesterday\", \"description\", \"students\", \"round\", \"pm\", \"gfci\", \"research\", \"project\", \"laboratory\", \"sci\", \"lab\", \"earth\", \"center\", \"science\", \"news\", \"series\", \"program\", \"national\", \"also\", \"first\", \"st\", \"may\", \"teams\", \"hawks\", \"fbi\", \"defense\", \"rate\", \"vancouver\", \"uk\", \"shot\", \"criminals\", \"st_louis\", \"club\", \"firearms\", \"har\", \"tampa_bay\", \"billion\", \"raised\", \"morris\", \"cup\", \"draft\", \"arena\", \"coach\", \"davidian\", \"calgary\", \"health_care\", \"statistics\", \"norris\", \"devotion\", \"regardless\", \"stanley_cup\", \"ruled\", \"smith\", \"year\", \"gun\", \"record\", \"average\", \"points\", \"weapons\", \"goal\", \"kids\", \"quickly\", \"fire\", \"hit\", \"last\", \"cover\", \"numbers\", \"play\", \"total\", \"al\", \"game\", \"years\", \"yo\", \"oil\", \"disk\", \"ibm\", \"model\", \"spanking\", \"engine\", \"six\", \"lower\", \"doug\", \"hard_drive\", \"dealer\", \"types\", \"brown\", \"manufacturers\", \"owner\", \"ohio_state\", \"loose\", \"ohio\", \"motor\", \"professional\", \"larger\", \"sold\", \"operations\", \"electronics\", \"status\", \"differences\", \"svr\", \"bye\", \"highly\", \"included\", \"development\", \"product\", \"reference\", \"test\", \"required\", \"cost\", \"standard\", \"require\", \"price\", \"level\", \"door\", \"section\", \"low\", \"type\", \"design\", \"used\", \"check\", \"new\", \"high\", \"change\", \"wire\", \"city\", \"andrew\", \"blood\", \"hands\", \"rise\", \"msg\", \"pain\", \"wrench\", \"posts\", \"middle\", \"piece\", \"writing\", \"daily\", \"studies\", \"suspect\", \"mystery\", \"disease\", \"brain\", \"treatment\", \"direction\", \"suffer\", \"hitler\", \"liar\", \"statements\", \"keeps\", \"confusing\", \"aunt\", \"roberts\", \"showed\", \"food\", \"stupid\", \"concerned\", \"articles\", \"turns\", \"dod\", \"cause\", \"hours\", \"body\", \"study\", \"learn\", \"condition\", \"face\", \"ed\", \"israel\", \"la\", \"israeli\", \"political\", \"land\", \"russian\", \"arab\", \"added\", \"wd\", \"jobs\", \"german\", \"lebanon\", \"arrests\", \"quotes\", \"western\", \"un\", \"san_francisco\", \"announced\", \"israelis\", \"success\", \"limbaugh\", \"policy_research\", \"duke\", \"arabs\", \"borders\", \"prices\", \"russia\", \"percent\", \"answered\", \"spell\", \"europe\", \"european\", \"american\", \"countries\", \"members\", \"state\", \"government\", \"country\", \"center\", \"media\", \"world\", \"opinions\", \"black\", \"gordon_banks\", \"genocide\", \"rights\", \"ott\", \"federal\", \"constitution\", \"illegal\", \"serves\", \"court\", \"protected\", \"senate\", \"britain\", \"newsletter\", \"discipline\", \"domain\", \"surrender\", \"define\", \"militia\", \"officers\", \"columbia\", \"schools\", \"weapon\", \"bear\", \"second_amendment\", \"larry\", \"civil\", \"amendment\", \"cruel\", \"butcher\", \"apply\", \"crime\", \"criminal\", \"legal\", \"property\", \"laws\", \"police\", \"law\", \"public\", \"government\", \"state\", \"states\", \"health\", \"soon\", \"right\", \"case\", \"national\", \"car\", \"bike\", \"cars\", \"boston\", \"ride\", \"rear\", \"coverage\", \"pat\", \"auto\", \"cb\", \"stars\", \"bolt\", \"dream\", \"alan\", \"echl\", \"showing\", \"pushing\", \"cold\", \"motorcycle\", \"david_davidian\", \"timer\", \"riding\", \"super\", \"keith\", \"brake\", \"plastic\", \"midi\", \"espn\", \"funding\", \"suitable\", \"road\", \"hall\", \"pull\", \"air\", \"corporation\", \"speed\", \"turn\", \"usa\", \"mike\", \"safety\", \"traffic\", \"nntp_posting\", \"hockey\", \"nhl\", \"matthew\", \"bus\", \"mon\", \"hockey_league\", \"canadian\", \"nyr\", \"moon\", \"somebody\", \"devils\", \"buf\", \"chi\", \"nyi\", \"played\", \"stl\", \"ahl\", \"goals\", \"wings\", \"wires\", \"ye\", \"pts\", \"winnipeg\", \"leafs\", \"toss\", \"ihl\", \"circuits\", \"finals\", \"hed\", \"hugs\", \"pts_pt\", \"season\", \"team\", \"la_vs\", \"game\", \"win\", \"games\", \"ice\", \"vs\", \"play\", \"first\", \"nd\", \"gd\", \"islam\", \"moving\", \"mt\", \"ei\", \"wt\", \"sk\", \"ul\", \"rc\", \"mq\", \"ap\", \"cw\", \"mg\", \"lw\", \"pl_pl\", \"mn\", \"di_di\", \"vedas\", \"tg\", \"fp\", \"hm\", \"mk\", \"benedikt_rosenau\", \"bhj_bhj\", \"lg\", \"gq\", \"fq\", \"ci\", \"shk\", \"ei_ei\", \"cubs_suck\", \"graphics\", \"peter\", \"package\", \"chips\", \"cal\", \"os\", \"pit\", \"bos\", \"min\", \"det\", \"tor\", \"genoa\", \"wide\", \"versions\", \"characters\", \"md\", \"xterm\", \"docs\", \"bikes\", \"lee\", \"xt\", \"xv\", \"formats\", \"mf\", \"mc\", \"vd\", \"expos\", \"barnes\", \"environmental\", \"portable\", \"sj\", \"pp\", \"convert\", \"phi\", \"que\", \"guns\", \"law_enforcement\", \"pl\", \"clipper_chip\", \"san_jose\", \"case_western\", \"reserve_university\", \"boy\", \"detroit\", \"tim\", \"key_escrow\", \"cleveland_ohio\", \"tm\", \"rob\", \"patients\", \"panel\", \"white_house\", \"announcement\", \"ins_cwru\", \"carl\", \"em\", \"speaker\", \"alaska\", \"drink\", \"host_hela\", \"fancy\", \"supposedly\", \"semi\", \"checking\", \"kent\", \"steve\", \"drugs\", \"drug\", \"jim\", \"usa\", \"rates\", \"air\"], \"Total\": [57151.0, 11366.0, 10841.0, 4830.0, 9411.0, 7606.0, 7192.0, 4941.0, 4498.0, 6190.0, 4000.0, 4898.0, 8874.0, 5821.0, 1920.0, 5784.0, 2152.0, 2201.0, 2176.0, 1775.0, 2726.0, 3636.0, 1958.0, 3608.0, 2711.0, 4158.0, 4406.0, 4424.0, 2544.0, 2570.0, 7606.85546875, 7192.80908203125, 6190.93896484375, 2835.850341796875, 2168.46240234375, 2049.736328125, 3636.177490234375, 1769.2005615234375, 1718.4752197265625, 1679.126220703125, 1662.3792724609375, 1569.1966552734375, 1501.6593017578125, 1493.1439208984375, 1482.068603515625, 1319.381103515625, 1276.98583984375, 1248.97314453125, 1154.533447265625, 1148.157470703125, 1072.8353271484375, 1064.5814208984375, 1062.4266357421875, 1042.821044921875, 1023.1239624023438, 1008.4721069335938, 1006.6919555664062, 1003.8515014648438, 915.6506958007812, 908.3720092773438, 9411.357421875, 3608.341064453125, 3330.225341796875, 1448.45849609375, 2289.408203125, 2674.378173828125, 1399.7303466796875, 5821.30712890625, 4158.5927734375, 4406.66162109375, 2061.904296875, 5784.1748046875, 8874.537109375, 2552.764892578125, 2804.94482421875, 2409.472900390625, 2030.881591796875, 3819.8349609375, 3202.681884765625, 4424.85546875, 2726.953369140625, 2882.03955078125, 11366.12109375, 10841.380859375, 4898.53466796875, 4467.83935546875, 1958.5257568359375, 1093.7685546875, 986.1060180664062, 689.235107421875, 670.2014770507812, 485.5956115722656, 481.68359375, 393.6783752441406, 391.6887512207031, 372.55059814453125, 335.852294921875, 330.7879943847656, 312.47412109375, 310.8371887207031, 305.9076843261719, 304.99639892578125, 295.50048828125, 288.4220886230469, 278.7292785644531, 274.64898681640625, 257.38067626953125, 249.40098571777344, 246.96751403808594, 223.5663604736328, 223.46084594726562, 222.00502014160156, 215.953857421875, 214.6527557373047, 208.84683227539062, 199.3716583251953, 200.479736328125, 1290.570556640625, 519.76171875, 1217.459716796875, 985.0905151367188, 659.9186401367188, 4000.5380859375, 1930.209716796875, 1642.544921875, 677.9299926757812, 4498.82568359375, 990.7498779296875, 4941.65966796875, 461.5496826171875, 11366.12109375, 10841.380859375, 1170.9415283203125, 647.89306640625, 629.3595581054688, 963.056396484375, 891.5589599609375, 1819.6373291015625, 2711.52783203125, 820.321533203125, 2332.57666015625, 839.5359497070312, 2447.112060546875, 1084.13916015625, 1237.8834228515625, 2922.845703125, 2201.684326171875, 2176.191650390625, 1116.4561767578125, 685.7435913085938, 647.5427856445312, 611.4655151367188, 587.9733276367188, 522.4713745117188, 429.99261474609375, 427.46466064453125, 414.2261657714844, 408.0909423828125, 404.17584228515625, 330.1717834472656, 326.86224365234375, 299.0758056640625, 289.7626037597656, 285.1915588378906, 284.31951904296875, 284.3313293457031, 276.37799072265625, 274.46484375, 272.906005859375, 265.8610534667969, 265.4333801269531, 262.7798767089844, 262.3276672363281, 254.06517028808594, 250.82241821289062, 244.4554901123047, 707.8138427734375, 418.6078796386719, 671.4189453125, 1661.2296142578125, 652.5398559570312, 1085.6041259765625, 2066.184814453125, 431.6780090332031, 760.7670288085938, 1332.0478515625, 1547.2091064453125, 597.6149291992188, 524.0026245117188, 505.90966796875, 1390.759521484375, 1868.1390380859375, 1307.858154296875, 2634.4560546875, 4898.53466796875, 2997.804443359375, 8874.537109375, 2823.359375, 1058.9466552734375, 1957.637939453125, 2744.00244140625, 1760.6656494140625, 1037.849853515625, 770.4096069335938, 712.8245849609375, 595.1511840820312, 547.6004028320312, 545.8448486328125, 479.3396301269531, 476.93914794921875, 473.85614013671875, 442.74066162109375, 440.6179504394531, 419.04931640625, 415.2138671875, 361.1191711425781, 348.4475402832031, 314.0867004394531, 311.01739501953125, 296.76495361328125, 286.4271240234375, 282.4482116699219, 277.89239501953125, 264.4516296386719, 262.4051818847656, 258.46881103515625, 256.8648681640625, 256.78009033203125, 238.45208740234375, 223.7491912841797, 223.65061950683594, 221.86289978027344, 1047.5909423828125, 343.88372802734375, 2055.263427734375, 677.0245971679688, 1596.56884765625, 1294.581298828125, 520.1676025390625, 424.8287658691406, 2544.8212890625, 867.9763793945312, 791.8031005859375, 718.6068725585938, 830.9857788085938, 2922.845703125, 3227.633056640625, 2823.359375, 2438.700439453125, 1611.037109375, 1000.9913330078125, 4467.83935546875, 1522.7877197265625, 1329.7427978515625, 841.4354858398438, 724.7515869140625, 592.8236694335938, 509.81048583984375, 448.1444091796875, 443.5221862792969, 422.7265319824219, 408.84442138671875, 332.57342529296875, 325.0534362792969, 289.2505187988281, 289.1628723144531, 286.71246337890625, 285.00360107421875, 281.1129150390625, 275.99163818359375, 274.74713134765625, 273.79022216796875, 269.25665283203125, 265.28326416015625, 261.7182312011719, 258.7762756347656, 250.78680419921875, 227.65594482421875, 221.0522918701172, 218.6449432373047, 214.9611358642578, 214.3592071533203, 212.52877807617188, 284.9664001464844, 284.75958251953125, 326.5164794921875, 545.465576171875, 688.6902465820312, 840.0982666015625, 897.7579956054688, 305.93341064453125, 377.9403991699219, 1645.891357421875, 2570.276123046875, 961.33349609375, 1267.17333984375, 762.6871337890625, 497.7603454589844, 458.7203369140625, 829.8848876953125, 1046.167236328125, 1758.1585693359375, 3227.633056640625, 748.4151611328125, 949.9734497070312, 2997.804443359375, 2922.845703125, 1722.0438232421875, 797.8281860351562, 2904.5615234375, 4830.771484375, 1775.3795166015625, 707.1958618164062, 689.0225219726562, 624.7872924804688, 593.5211791992188, 588.9536743164062, 550.8463745117188, 513.8280639648438, 437.2646179199219, 420.270263671875, 396.1866149902344, 395.5907287597656, 385.1333312988281, 358.68426513671875, 357.498291015625, 339.8948669433594, 332.2864990234375, 284.7539367675781, 263.5879821777344, 250.7565155029297, 250.5585479736328, 246.8696746826172, 242.6935272216797, 242.65513610839844, 233.13278198242188, 230.1110076904297, 221.28033447265625, 214.09022521972656, 211.63894653320312, 682.6539916992188, 1094.2135009765625, 672.4607543945312, 838.4326171875, 902.4468994140625, 1304.113525390625, 474.5074768066406, 856.3786010742188, 1105.40087890625, 483.97772216796875, 1856.5625, 780.95361328125, 1611.037109375, 696.6310424804688, 1237.8834228515625, 1177.948486328125, 2544.8212890625, 2055.604736328125, 1596.56884765625, 749.299560546875, 671.9428100585938, 660.1557006835938, 593.2655639648438, 578.3060913085938, 457.2457275390625, 400.1578063964844, 381.55389404296875, 380.3005065917969, 363.5658874511719, 346.01153564453125, 343.61175537109375, 330.8271179199219, 373.64080810546875, 313.2085266113281, 298.9259948730469, 263.2261657714844, 236.18154907226562, 224.44142150878906, 223.98480224609375, 217.030029296875, 214.15908813476562, 206.11875915527344, 195.3774871826172, 187.63478088378906, 187.0261993408203, 181.5069122314453, 175.5537109375, 173.4623565673828, 167.86488342285156, 775.7401123046875, 570.38671875, 201.80035400390625, 282.490966796875, 377.58917236328125, 693.602783203125, 450.0422668457031, 4898.53466796875, 505.5419616699219, 2570.276123046875, 1634.419189453125, 446.6972961425781, 720.4814453125, 752.9601440429688, 563.3826293945312, 432.8383483886719, 406.756591796875, 387.33502197265625, 332.69732666015625, 322.7557678222656, 291.6856689453125, 286.828857421875, 273.9224853515625, 273.5914611816406, 252.4792022705078, 227.83079528808594, 225.10055541992188, 219.1158905029297, 211.7624969482422, 210.54234313964844, 207.47039794921875, 205.60476684570312, 202.7958984375, 198.18946838378906, 195.9585418701172, 193.85446166992188, 192.5314178466797, 189.6704559326172, 181.42906188964844, 175.35903930664062, 174.27276611328125, 173.5963134765625, 173.067626953125, 817.4261474609375, 443.4161376953125, 352.5240173339844, 222.38893127441406, 350.19622802734375, 325.1203308105469, 663.0728149414062, 472.5543518066406, 566.3275756835938, 322.1942443847656, 256.78924560546875, 548.6675415039062, 862.8382568359375, 565.5406494140625, 331.60406494140625, 412.6489562988281, 323.5111083984375, 57151.17578125, 300.45281982421875, 254.04847717285156, 250.60269165039062, 248.04478454589844, 208.2958526611328, 205.18392944335938, 198.28668212890625, 177.860107421875, 177.40284729003906, 168.4772491455078, 162.29348754882812, 162.09140014648438, 153.81002807617188, 149.76980590820312, 142.9339599609375, 129.44801330566406, 128.92445373535156, 123.98027801513672, 122.15371704101562, 116.01316833496094, 115.72183227539062, 108.1000747680664, 102.38540649414062, 99.79898834228516, 99.33319854736328, 85.18323516845703, 81.14087677001953, 78.9681396484375, 72.54640197753906, 1920.8333740234375, 634.648193359375, 629.3934326171875, 549.5800170898438, 337.0970458984375, 291.8285827636719, 281.46771240234375, 280.4010009765625, 270.11383056640625, 263.2928771972656, 237.61309814453125, 236.52273559570312, 233.70521545410156, 224.62855529785156, 212.3165740966797, 207.9167022705078, 199.59573364257812, 199.15960693359375, 198.5509796142578, 196.17453002929688, 189.36065673828125, 177.09620666503906, 177.09620666503906, 174.29248046875, 173.05018615722656, 169.43052673339844, 167.7362823486328, 167.12139892578125, 165.64492797851562, 164.97154235839844, 784.45947265625, 412.76995849609375, 247.67919921875, 280.6006164550781, 284.533203125, 560.4000854492188, 1038.318603515625, 658.016845703125, 1216.1922607421875, 390.40679931640625, 1105.40087890625, 936.159912109375, 4467.83935546875, 2904.5615234375, 762.7606811523438, 2823.359375, 574.715087890625, 335.8471984863281, 321.94140625, 300.6429138183594, 288.34967041015625, 283.4117431640625, 262.1441650390625, 245.54371643066406, 215.4288330078125, 210.2665252685547, 209.2830352783203, 209.27896118164062, 207.64743041992188, 207.03570556640625, 199.58853149414062, 190.27943420410156, 183.5384521484375, 182.60787963867188, 181.8533477783203, 181.0476837158203, 179.48312377929688, 173.23809814453125, 172.44236755371094, 160.9496307373047, 156.94110107421875, 153.3088836669922, 152.2626190185547, 152.0980224609375, 145.1230010986328, 138.86878967285156, 329.3479919433594, 2152.056884765625, 604.6536254882812, 333.1219787597656, 272.6522521972656, 415.0318298339844, 222.01048278808594, 299.513427734375, 473.1784973144531, 268.9244384765625, 469.26690673828125, 503.75244140625, 1365.2054443359375, 458.267822265625, 620.20947265625, 757.28125, 482.27130126953125, 279.6646423339844, 967.42138671875, 1431.2332763671875, 431.0671691894531, 406.89801025390625, 379.90997314453125, 377.8907165527344, 360.9951171875, 352.87835693359375, 327.5360412597656, 290.9071350097656, 255.54222106933594, 250.3419189453125, 238.2892608642578, 235.6465301513672, 224.6177520751953, 211.4878387451172, 208.38223266601562, 205.48358154296875, 203.32752990722656, 199.7257537841797, 198.66738891601562, 197.41603088378906, 187.58396911621094, 186.02145385742188, 185.05702209472656, 175.32765197753906, 175.00791931152344, 173.64959716796875, 171.7703094482422, 170.2147216796875, 169.46066284179688, 168.28883361816406, 332.8192138671875, 367.9273681640625, 316.517578125, 630.507568359375, 386.87762451171875, 397.9766540527344, 661.4092407226562, 855.5586547851562, 296.4787292480469, 820.7977905273438, 543.5095825195312, 302.67156982421875, 377.3206481933594, 671.0132446289062, 504.86859130859375, 344.3439025878906, 2438.700439453125, 672.8650512695312, 2922.845703125, 996.7266235351562, 994.155517578125, 493.8743591308594, 363.20794677734375, 339.2476806640625, 325.06817626953125, 321.1019592285156, 302.6092529296875, 291.86822509765625, 235.0653076171875, 227.980712890625, 224.2042236328125, 224.09283447265625, 222.1206512451172, 221.4932403564453, 219.91812133789062, 217.68861389160156, 205.37571716308594, 203.03848266601562, 175.6824951171875, 167.6640625, 162.68499755859375, 158.61708068847656, 154.18701171875, 154.01007080078125, 150.1574249267578, 149.06182861328125, 143.70162963867188, 142.92001342773438, 140.62933349609375, 138.17864990234375, 137.98448181152344, 319.98223876953125, 236.45672607421875, 230.9983367919922, 275.2596130371094, 191.1443328857422, 309.397216796875, 604.4356079101562, 409.270751953125, 417.016845703125, 407.9805908203125, 263.09844970703125, 293.03680419921875, 704.2664184570312, 284.1938781738281, 863.4917602539062, 548.66162109375, 452.9136962890625, 339.0879211425781, 318.8416442871094, 269.63421630859375, 252.4254913330078, 242.2902374267578, 217.19546508789062, 214.6491241455078, 202.85630798339844, 200.72325134277344, 198.84315490722656, 198.1727752685547, 189.50924682617188, 188.45040893554688, 187.2508544921875, 185.9910430908203, 182.84584045410156, 180.9514923095703, 173.47354125976562, 162.18846130371094, 161.228271484375, 159.68101501464844, 154.73106384277344, 153.07174682617188, 152.8631591796875, 143.0707550048828, 141.27313232421875, 138.6558380126953, 234.29347229003906, 209.60491943359375, 738.414306640625, 246.06739807128906, 375.1402893066406, 1582.815673828125, 1497.7447509765625, 578.0157470703125, 1038.318603515625, 421.7209777832031, 1634.419189453125, 678.2809448242188, 468.2840881347656, 392.5630798339844, 388.009521484375, 378.4115905761719, 232.5415802001953, 231.36471557617188, 222.99337768554688, 218.84986877441406, 210.3604736328125, 207.47279357910156, 204.04037475585938, 195.5341796875, 186.71949768066406, 182.57521057128906, 173.2576904296875, 153.8386688232422, 149.28741455078125, 132.1820526123047, 128.01499938964844, 124.48445892333984, 119.44795989990234, 116.84809875488281, 115.54444122314453, 114.87567901611328, 113.60993194580078, 112.5733642578125, 110.4068374633789, 109.85993957519531, 109.43722534179688, 105.07618713378906, 268.0575866699219, 350.8988342285156, 299.88427734375, 304.4847106933594, 203.1118927001953, 428.29315185546875, 543.1166381835938, 1307.858154296875, 923.4594116210938, 1497.7447509765625, 1582.815673828125, 375.5580749511719, 334.6865539550781, 551.9692993164062, 2726.953369140625, 1257.9608154296875, 936.159912109375, 1016.202880859375, 527.0133666992188, 383.71942138671875, 312.8478088378906, 236.76795959472656, 218.79734802246094, 207.779052734375, 196.1936798095703, 193.35723876953125, 189.6800994873047, 187.1368865966797, 170.10122680664062, 159.65203857421875, 154.91122436523438, 153.23411560058594, 146.4302978515625, 146.06881713867188, 145.31924438476562, 144.25387573242188, 140.50439453125, 137.93768310546875, 137.4138641357422, 128.3855743408203, 127.25581359863281, 124.85558319091797, 123.42813110351562, 122.66361236572266, 122.41805267333984, 119.81169128417969, 119.70966339111328, 431.8963928222656, 269.8348693847656, 268.84259033203125, 336.0624694824219, 313.7190246582031, 696.6310424804688, 577.8681640625, 894.0675048828125, 481.1060791015625, 287.96160888671875, 237.79153442382812, 4498.82568359375, 714.8355712890625, 605.919677734375, 337.15234375, 264.97076416015625, 250.93377685546875, 247.97488403320312, 215.37232971191406, 212.93682861328125, 206.7676544189453, 198.56912231445312, 185.2948760986328, 180.71739196777344, 180.54071044921875, 178.56773376464844, 176.6280517578125, 175.40248107910156, 169.33465576171875, 164.56370544433594, 156.9740447998047, 155.70364379882812, 153.3115692138672, 147.93585205078125, 138.16983032226562, 132.0560302734375, 124.73432159423828, 124.24504852294922, 120.74622344970703, 119.57943725585938, 118.1053695678711, 115.1647720336914, 285.6784973144531, 571.7291259765625, 1095.871337890625, 188.0541534423828, 967.42138671875, 845.9701538085938, 743.1845703125, 311.22039794921875, 605.255126953125, 757.28125, 2904.5615234375, 315.17010498046875, 695.7590942382812, 515.2191162109375, 420.3901672363281, 254.05116271972656, 247.7869873046875, 232.16929626464844, 227.75743103027344, 227.6755828857422, 208.10377502441406, 192.6396026611328, 187.92166137695312, 187.80030822753906, 184.6881866455078, 160.4657745361328, 160.2381134033203, 155.6532745361328, 151.78485107421875, 147.21231079101562, 142.51657104492188, 141.2900848388672, 135.69810485839844, 128.00685119628906, 124.57757568359375, 123.22645568847656, 120.79786682128906, 119.490966796875, 118.09469604492188, 117.3923110961914, 117.0297622680664, 114.62583923339844, 467.583251953125, 763.7721557617188, 587.1978759765625, 440.2633972167969, 413.993896484375, 370.9244384765625, 354.3635559082031, 323.731201171875, 292.2198181152344, 292.0831298828125, 276.7244567871094, 260.6217346191406, 246.75746154785156, 202.09893798828125, 186.9530029296875, 181.28219604492188, 180.7200927734375, 171.921142578125, 168.7406005859375, 158.00193786621094, 150.14854431152344, 142.21971130371094, 140.12388610839844, 139.87184143066406, 124.99882507324219, 120.5138931274414, 117.67018127441406, 103.70079040527344, 100.27567291259766, 97.37750244140625, 96.75862884521484, 308.99261474609375, 283.0477600097656, 313.4270324707031, 216.01148986816406, 227.5153350830078, 505.1112365722656, 340.19549560546875, 318.7521057128906, 291.9033203125, 269.9399719238281, 268.40045166015625, 262.3974609375, 251.1064910888672, 233.44757080078125, 213.69854736328125, 191.7347869873047, 190.40716552734375, 159.7435760498047, 139.71517944335938, 139.49969482421875, 138.7056121826172, 138.47918701171875, 131.7896270751953, 127.03668212890625, 120.7027587890625, 102.32302856445312, 98.20216369628906, 90.53412628173828, 90.24864959716797, 89.923095703125, 87.81669616699219, 87.01521301269531, 86.71204376220703, 84.55697631835938, 83.46646118164062, 507.6908264160156, 270.8044738769531, 246.39710998535156, 565.5406494140625, 894.0675048828125, 140.78309631347656, 336.0624694824219], \"loglift\": [30.0, 29.0, 28.0, 27.0, 26.0, 25.0, 24.0, 23.0, 22.0, 21.0, 20.0, 19.0, 18.0, 17.0, 16.0, 15.0, 14.0, 13.0, 12.0, 11.0, 10.0, 9.0, 8.0, 7.0, 6.0, 5.0, 4.0, 3.0, 2.0, 1.0, 1.3671000003814697, 1.3671000003814697, 1.3671000003814697, 1.3668999671936035, 1.3667999505996704, 1.3667000532150269, 1.3667000532150269, 1.3667000532150269, 1.3666000366210938, 1.3666000366210938, 1.3666000366210938, 1.3666000366210938, 1.3666000366210938, 1.3666000366210938, 1.3666000366210938, 1.3665000200271606, 1.3665000200271606, 1.3664000034332275, 1.3664000034332275, 1.3664000034332275, 1.3662999868392944, 1.3662999868392944, 1.3662999868392944, 1.3662999868392944, 1.3662999868392944, 1.3662999868392944, 1.3661999702453613, 1.3661999702453613, 1.3661999702453613, 1.3660999536514282, 1.3560999631881714, 1.364300012588501, 1.3621000051498413, 1.3631999492645264, 1.3581000566482544, 1.350600004196167, 1.3629000186920166, 1.3234000205993652, 1.3274999856948853, 1.323199987411499, 1.3428000211715698, 1.2782000303268433, 1.2148000001907349, 1.307800054550171, 1.298799991607666, 1.2882000207901, 1.311400055885315, 1.2074999809265137, 1.2340999841690063, 1.1672999858856201, 1.243899941444397, 1.2039999961853027, 0.6269999742507935, 0.6238999962806702, 0.8476999998092651, 0.7534999847412109, 2.4844000339508057, 2.4839999675750732, 2.4839000701904297, 2.4835000038146973, 2.4835000038146973, 2.4828999042510986, 2.4828999042510986, 2.4823999404907227, 2.4823999404907227, 2.482300043106079, 2.4820001125335693, 2.4820001125335693, 2.481800079345703, 2.481800079345703, 2.4816999435424805, 2.4816999435424805, 2.481600046157837, 2.4814999103546143, 2.4814000129699707, 2.4814000129699707, 2.481100082397461, 2.4809999465942383, 2.4809999465942383, 2.480600118637085, 2.480600118637085, 2.4804999828338623, 2.4804000854492188, 2.4804000854492188, 2.480299949645996, 2.4800000190734863, 2.4800000190734863, 2.4498000144958496, 2.463099956512451, 2.438800096511841, 2.4128000736236572, 2.4049999713897705, 2.278599977493286, 2.3289999961853027, 2.323699951171875, 2.3826000690460205, 2.166800022125244, 2.330899953842163, 2.123800039291382, 2.410399913787842, 1.8309999704360962, 1.8339999914169312, 2.238600015640259, 2.3271000385284424, 2.3238000869750977, 2.210200071334839, 2.2297000885009766, 2.028599977493286, 1.9038000106811523, 2.238300085067749, 1.8930000066757202, 2.202899932861328, 1.6816999912261963, 2.038300037384033, 1.926300048828125, 1.1081000566482544, 2.567500114440918, 2.567500114440918, 2.5671000480651855, 2.5666000843048096, 2.566499948501587, 2.5664000511169434, 2.5662999153137207, 2.5660998821258545, 2.565700054168701, 2.565700054168701, 2.5655999183654785, 2.5655999183654785, 2.5655999183654785, 2.565000057220459, 2.565000057220459, 2.56469988822937, 2.5645999908447266, 2.5645999908447266, 2.564500093460083, 2.564500093460083, 2.5643999576568604, 2.5643999576568604, 2.5643999576568604, 2.564300060272217, 2.564300060272217, 2.564300060272217, 2.564300060272217, 2.5641000270843506, 2.5641000270843506, 2.563999891281128, 2.436000108718872, 2.495500087738037, 2.3993000984191895, 2.2399001121520996, 2.3698999881744385, 2.152400016784668, 1.8609000444412231, 2.3928000926971436, 2.1603000164031982, 1.9330999851226807, 1.836300015449524, 2.2411999702453613, 2.298799991607666, 2.303499937057495, 1.8122999668121338, 1.598099946975708, 1.767899990081787, 1.2384999990463257, 0.714900016784668, 0.90420001745224, 0.03280000016093254, 0.9480999708175659, 1.6904000043869019, 1.125, 0.8057000041007996, 1.159999966621399, 2.8619000911712646, 2.861599922180176, 2.8615000247955322, 2.8612000942230225, 2.8610999584198, 2.8610999584198, 2.86080002784729, 2.86080002784729, 2.86080002784729, 2.860599994659424, 2.860599994659424, 2.8605000972747803, 2.8605000972747803, 2.8601999282836914, 2.860100030899048, 2.859800100326538, 2.8596999645233154, 2.859600067138672, 2.859499931335449, 2.8594000339508057, 2.8594000339508057, 2.8592000007629395, 2.859100103378296, 2.859100103378296, 2.859100103378296, 2.859100103378296, 2.858799934387207, 2.8585000038146973, 2.8585000038146973, 2.8585000038146973, 2.811000108718872, 2.797800064086914, 2.5069000720977783, 2.6802000999450684, 2.4291000366210938, 2.476099967956543, 2.6856000423431396, 2.7191998958587646, 2.091099977493286, 2.412600040435791, 2.4175000190734863, 2.3677000999450684, 2.2709999084472656, 1.3352999687194824, 1.2243000268936157, 1.2848999500274658, 1.3674999475479126, 1.6230000257492065, 1.9958000183105469, 0.6353999972343445, 1.611199975013733, 2.901700019836426, 2.90120005607605, 2.901099920272827, 2.9007999897003174, 2.9005000591278076, 2.9001998901367188, 2.9001998901367188, 2.900099992752075, 2.9000000953674316, 2.8994998931884766, 2.899399995803833, 2.8989999294281006, 2.8989999294281006, 2.8989999294281006, 2.8989999294281006, 2.898900032043457, 2.898900032043457, 2.8987998962402344, 2.8987998962402344, 2.8987998962402344, 2.898699998855591, 2.898699998855591, 2.8986001014709473, 2.8984999656677246, 2.898099899291992, 2.8980000019073486, 2.897900104522705, 2.897900104522705, 2.8977999687194824, 2.8977999687194824, 2.890199899673462, 2.884999990463257, 2.877500057220459, 2.7983999252319336, 2.77020001411438, 2.683300018310547, 2.586400032043457, 2.847100019454956, 2.7572999000549316, 2.137399911880493, 1.9280999898910522, 2.3505001068115234, 2.2093000411987305, 2.405100107192993, 2.606300115585327, 2.6461000442504883, 2.3238000869750977, 2.180000066757202, 1.7899999618530273, 1.4061000347137451, 2.282900094985962, 2.1006999015808105, 1.2295000553131104, 1.09089994430542, 1.4271999597549438, 2.104599952697754, 0.8385000228881836, 3.0492000579833984, 3.0488998889923096, 3.048099994659424, 3.0480000972747803, 3.0478999614715576, 3.047800064086914, 3.047800064086914, 3.0476999282836914, 3.047600030899048, 3.0471999645233154, 3.047100067138672, 3.046999931335449, 3.046999931335449, 3.0469000339508057, 3.046799898147583, 3.0467000007629395, 3.046600103378296, 3.0464999675750732, 3.046099901199341, 3.045799970626831, 3.045599937438965, 3.045599937438965, 3.0455000400543213, 3.0455000400543213, 3.0455000400543213, 3.045300006866455, 3.0452001094818115, 3.045099973678589, 3.0448999404907227, 3.0448999404907227, 3.033900022506714, 2.94569993019104, 2.9400999546051025, 2.90120005607605, 2.88919997215271, 2.823899984359741, 2.9347000122070312, 2.6686999797821045, 2.5464000701904297, 2.799799919128418, 2.202199935913086, 2.5625998973846436, 2.1226999759674072, 2.574700117111206, 2.1989998817443848, 2.2267000675201416, 1.669600009918213, 1.6811000108718872, 1.805799961090088, 3.1003000736236572, 3.1001999378204346, 3.1001999378204346, 3.0999999046325684, 3.099900007247925, 3.0994999408721924, 3.0992000102996826, 3.099100112915039, 3.099100112915039, 3.098900079727173, 3.09879994392395, 3.09879994392395, 3.0987000465393066, 3.098599910736084, 3.0985000133514404, 3.098400115966797, 3.097899913787842, 3.0975000858306885, 3.0973000526428223, 3.0973000526428223, 3.097100019454956, 3.097100019454956, 3.09689998626709, 3.09660005569458, 3.096400022506714, 3.096400022506714, 3.0961999893188477, 3.096100091934204, 3.0959999561309814, 3.0957999229431152, 2.999000072479248, 2.9639999866485596, 3.076900005340576, 3.015199899673462, 2.8789000511169434, 2.6389000415802, 2.7708001136779785, 1.5781999826431274, 2.6284000873565674, 1.613700032234192, 1.7021000385284424, 2.554800033569336, 2.076200008392334, 3.112600088119507, 3.1122000217437744, 3.111599922180176, 3.1115000247955322, 3.1113998889923096, 3.1110000610351562, 3.1108999252319336, 3.1105000972747803, 3.1105000972747803, 3.110300064086914, 3.110300064086914, 3.109999895095825, 3.109600067138672, 3.109600067138672, 3.1094000339508057, 3.109299898147583, 3.109299898147583, 3.1092000007629395, 3.109100103378296, 3.109100103378296, 3.1089999675750732, 3.1089000701904297, 3.1089000701904297, 3.108799934387207, 3.1087000370025635, 3.1085000038146973, 3.108299970626831, 3.108299970626831, 3.108299970626831, 3.108299970626831, 2.9386000633239746, 2.9772000312805176, 2.977400064468384, 3.0571999549865723, 2.93530011177063, 2.945499897003174, 2.7037999629974365, 2.7994000911712646, 2.722899913787842, 2.915600061416626, 2.9939000606536865, 2.494999885559082, 2.1630001068115234, 2.4196999073028564, 2.7646000385284424, 2.567500114440918, 2.7323999404907227, 3.1357998847961426, 3.1326000690460205, 3.131999969482422, 3.131999969482422, 3.1319000720977783, 3.131200075149536, 3.1310999393463135, 3.1308999061584473, 3.1303999423980713, 3.1303999423980713, 3.1301000118255615, 3.1298000812530518, 3.1298000812530518, 3.129499912261963, 3.129300117492676, 3.128999948501587, 3.1282999515533447, 3.1282999515533447, 3.128000020980835, 3.1278998851776123, 3.1273999214172363, 3.1273999214172363, 3.126800060272217, 3.126300096511841, 3.1261000633239746, 3.125999927520752, 3.1243999004364014, 3.123800039291382, 3.123500108718872, 3.1224000453948975, 3.2513999938964844, 3.2504000663757324, 3.2504000663757324, 3.250200033187866, 3.249000072479248, 3.2486000061035156, 3.248500108718872, 3.248500108718872, 3.248300075531006, 3.248199939727783, 3.24780011177063, 3.24780011177063, 3.24780011177063, 3.2476000785827637, 3.247299909591675, 3.2472000122070312, 3.2471001148223877, 3.246999979019165, 3.246999979019165, 3.246999979019165, 3.246799945831299, 3.2464001178741455, 3.2464001178741455, 3.246299982070923, 3.246299982070923, 3.2462000846862793, 3.2460999488830566, 3.2460999488830566, 3.2460999488830566, 3.246000051498413, 3.0731000900268555, 3.0648000240325928, 3.140000104904175, 3.0901999473571777, 3.0490000247955322, 2.740299940109253, 2.4656999111175537, 2.6440000534057617, 2.1761999130249023, 2.809999942779541, 2.149899959564209, 2.11299991607666, 0.5703999996185303, 0.863099992275238, 2.0348000526428223, 0.7731000185012817, 3.325900077819824, 3.324700117111206, 3.3245999813079834, 3.324399948120117, 3.324199914932251, 3.324199914932251, 3.323899984359741, 3.3236000537872314, 3.3231000900268555, 3.322999954223633, 3.3229000568389893, 3.3229000568389893, 3.3229000568389893, 3.3229000568389893, 3.322700023651123, 3.322499990463257, 3.3222999572753906, 3.3222999572753906, 3.322200059890747, 3.322200059890747, 3.322200059890747, 3.322000026702881, 3.321899890899658, 3.321500062942505, 3.3213999271392822, 3.321199893951416, 3.321199893951416, 3.321199893951416, 3.3208999633789062, 3.3206000328063965, 3.315500020980835, 3.1907999515533447, 3.2376999855041504, 3.2720000743865967, 3.2613000869750977, 3.1963000297546387, 3.2743000984191895, 3.223599910736084, 3.073899984359741, 3.199899911880493, 2.9405999183654785, 2.9084999561309814, 2.391200065612793, 2.873699903488159, 2.6524999141693115, 2.441200017929077, 2.740299940109253, 3.052799940109253, 1.8870999813079834, 1.5087000131607056, 3.384500026702881, 3.384399890899658, 3.384200096130371, 3.384200096130371, 3.3840999603271484, 3.384000062942505, 3.3838000297546387, 3.3833999633789062, 3.382999897003174, 3.3828999996185303, 3.382699966430664, 3.382699966430664, 3.382499933242798, 3.382200002670288, 3.3821001052856445, 3.3821001052856445, 3.381999969482422, 3.3819000720977783, 3.3819000720977783, 3.3819000720977783, 3.3815999031066895, 3.3815999031066895, 3.381500005722046, 3.381200075149536, 3.381200075149536, 3.381200075149536, 3.3810999393463135, 3.3810999393463135, 3.38100004196167, 3.38100004196167, 3.305999994277954, 3.277600049972534, 3.288100004196167, 3.172100067138672, 3.227400064468384, 3.194700002670288, 2.8297998905181885, 2.6965999603271484, 3.1415998935699463, 2.5866000652313232, 2.745300054550171, 3.1031999588012695, 2.949700117111206, 2.5313000679016113, 2.7125000953674316, 2.9711999893188477, 1.3597999811172485, 2.414799928665161, 1.1332000494003296, 2.007200002670288, 1.9472999572753906, 3.5162999629974365, 3.5155999660491943, 3.515399932861328, 3.5153000354766846, 3.5153000354766846, 3.5151000022888184, 3.515000104904175, 3.51419997215271, 3.5139999389648438, 3.5139000415802, 3.5139000415802, 3.5139000415802, 3.5139000415802, 3.5139000415802, 3.5137999057769775, 3.5134999752044678, 3.5134999752044678, 3.512700080871582, 3.512500047683716, 3.5123000144958496, 3.5120999813079834, 3.51200008392334, 3.51200008392334, 3.5118000507354736, 3.511699914932251, 3.5114998817443848, 3.5114998817443848, 3.511399984359741, 3.511199951171875, 3.511199951171875, 3.3886001110076904, 3.361799955368042, 3.362799882888794, 3.302799940109253, 3.3859000205993652, 3.117799997329712, 2.740499973297119, 2.944999933242798, 2.9316000938415527, 2.8863000869750977, 3.149899959564209, 3.062999963760376, 2.2904000282287598, 3.061199903488159, 3.575200080871582, 3.57450008392334, 3.574199914932251, 3.5734000205993652, 3.573199987411499, 3.572700023651123, 3.5724000930786133, 3.5722999572753906, 3.5717999935150146, 3.5717999935150146, 3.571500062942505, 3.5713999271392822, 3.5713999271392822, 3.5713999271392822, 3.571199893951416, 3.5710999965667725, 3.5710999965667725, 3.5710999965667725, 3.571000099182129, 3.5708999633789062, 3.57069993019104, 3.5703001022338867, 3.570199966430664, 3.570199966430664, 3.569999933242798, 3.5699000358581543, 3.5699000358581543, 3.569499969482422, 3.5694000720977783, 3.569200038909912, 3.533099889755249, 3.5374999046325684, 3.0618999004364014, 3.3745999336242676, 3.050800085067749, 2.2000999450683594, 1.9800000190734863, 2.6540000438690186, 2.117000102996826, 2.7365000247955322, 1.430299997329712, 2.266200065612793, 3.5943000316619873, 3.593899965286255, 3.593899965286255, 3.5938000679016113, 3.5922000408172607, 3.5922000408172607, 3.5920000076293945, 3.591900110244751, 3.5917999744415283, 3.5917000770568848, 3.591599941253662, 3.591399908065796, 3.591200113296509, 3.5910000801086426, 3.5908000469207764, 3.5899999141693115, 3.589900016784668, 3.5889999866485596, 3.5887999534606934, 3.588599920272827, 3.588200092315674, 3.5880000591278076, 3.587899923324585, 3.587899923324585, 3.5878000259399414, 3.5876998901367188, 3.5875000953674316, 3.5875000953674316, 3.5875000953674316, 3.587100028991699, 3.564500093460083, 3.5344998836517334, 3.4725000858306885, 3.4326999187469482, 3.4948999881744385, 3.363800048828125, 3.2614998817443848, 2.998500108718872, 3.075700044631958, 2.7781999111175537, 2.5950000286102295, 3.129199981689453, 3.1354000568389893, 2.6405999660491943, 1.4211000204086304, 1.9140000343322754, 1.9819999933242798, 3.67930006980896, 3.6784000396728516, 3.6777000427246094, 3.6770999431610107, 3.676100015640259, 3.675800085067749, 3.67549991607666, 3.675299882888794, 3.6751999855041504, 3.675100088119507, 3.674999952316284, 3.674499988555908, 3.674099922180176, 3.6738998889923096, 3.6738998889923096, 3.6735999584198, 3.6735000610351562, 3.6735000610351562, 3.6735000610351562, 3.67330002784729, 3.673099994659424, 3.673099994659424, 3.672600030899048, 3.672499895095825, 3.6723999977111816, 3.672300100326538, 3.672300100326538, 3.6721999645233154, 3.672100067138672, 3.672100067138672, 3.5434999465942383, 3.3970999717712402, 3.3032000064849854, 3.089400053024292, 3.0906999111175537, 2.5576999187469482, 2.6003000736236572, 2.140500068664551, 2.560499906539917, 3.0155999660491943, 3.17930006980896, 0.40380001068115234, 3.803100109100342, 3.8029000759124756, 3.8015999794006348, 3.800800085067749, 3.800600051879883, 3.80049991607666, 3.7999000549316406, 3.7999000549316406, 3.799799919128418, 3.7995998859405518, 3.7992000579833984, 3.799099922180176, 3.799099922180176, 3.7990000247955322, 3.7988998889923096, 3.7988998889923096, 3.7987000942230225, 3.7985000610351562, 3.7981998920440674, 3.7981998920440674, 3.798099994659424, 3.797800064086914, 3.7973999977111816, 3.796999931335449, 3.796600103378296, 3.796600103378296, 3.796299934387207, 3.796299934387207, 3.7962000370025635, 3.7959001064300537, 3.793100118637085, 3.726799964904785, 3.671999931335449, 3.7627999782562256, 3.5232999324798584, 3.536400079727173, 3.4953999519348145, 3.470900058746338, 3.121500015258789, 2.7764999866485596, 1.4151999950408936, 3.123699903488159, 3.906899929046631, 3.9065001010894775, 3.906100034713745, 3.9047000408172607, 3.904599905014038, 3.9042999744415283, 3.9042000770568848, 3.9042000770568848, 3.903899908065796, 3.9035000801086426, 3.90339994430542, 3.90339994430542, 3.9033000469207764, 3.9024999141693115, 3.9024999141693115, 3.902400016784668, 3.9021999835968018, 3.9019999504089355, 3.9017999172210693, 3.9017999172210693, 3.9014999866485596, 3.901099920272827, 3.900899887084961, 3.9007999897003174, 3.900700092315674, 3.900599956512451, 3.9005000591278076, 3.900399923324585, 3.900399923324585, 3.9003000259399414, 3.88319993019104, 4.071899890899658, 4.071499824523926, 4.071000099182129, 4.070799827575684, 4.0706000328063965, 4.070400238037109, 4.070199966430664, 4.069799900054932, 4.069799900054932, 4.069699764251709, 4.069399833679199, 4.069200038909912, 4.068399906158447, 4.067999839782715, 4.067800045013428, 4.067800045013428, 4.067500114440918, 4.067399978637695, 4.066999912261963, 4.066699981689453, 4.066299915313721, 4.066199779510498, 4.066199779510498, 4.065400123596191, 4.065100193023682, 4.064899921417236, 4.063799858093262, 4.063499927520752, 4.063199996948242, 4.0630998611450195, 4.015999794006348, 4.003200054168701, 3.8178999423980713, 3.8280999660491943, 3.688499927520752, 4.2058000564575195, 4.204800128936768, 4.204599857330322, 4.2042999267578125, 4.204100131988525, 4.204100131988525, 4.203999996185303, 4.203800201416016, 4.203499794006348, 4.203100204467773, 4.202600002288818, 4.202600002288818, 4.201600074768066, 4.200699806213379, 4.200699806213379, 4.2006001472473145, 4.2006001472473145, 4.200200080871582, 4.199999809265137, 4.1996002197265625, 4.1981000900268555, 4.197700023651123, 4.196800231933594, 4.196800231933594, 4.196800231933594, 4.196499824523926, 4.196400165557861, 4.196300029754639, 4.196100234985352, 4.195899963378906, 4.103899955749512, 4.044099807739258, 3.9934000968933105, 3.4832000732421875, 2.9591000080108643, 3.8183999061584473, 3.0078001022338867], \"logprob\": [30.0, 29.0, 28.0, 27.0, 26.0, 25.0, 24.0, 23.0, 22.0, 21.0, 20.0, 19.0, 18.0, 17.0, 16.0, 15.0, 14.0, 13.0, 12.0, 11.0, 10.0, 9.0, 8.0, 7.0, 6.0, 5.0, 4.0, 3.0, 2.0, 1.0, -4.045899868011475, -4.101900100708008, -4.2519001960754395, -5.032800197601318, -5.301300048828125, -5.357600212097168, -4.78439998626709, -5.504899978637695, -5.533999919891357, -5.557199954986572, -5.567200183868408, -5.624899864196777, -5.668900012969971, -5.674600124359131, -5.68209981918335, -5.798399925231934, -5.831099987030029, -5.853300094604492, -5.932000160217285, -5.9375, -6.005499839782715, -6.013199806213379, -6.015200138092041, -6.033899784088135, -6.0528998374938965, -6.067399978637695, -6.0690999031066895, -6.072000026702881, -6.164000034332275, -6.171999931335449, -3.844099998474121, -4.79449987411499, -4.8769001960754395, -5.708399772644043, -5.2555999755859375, -5.107699871063232, -5.742800235748291, -4.3572001457214355, -4.6894001960754395, -4.635799884796143, -5.3755998611450195, -4.408699989318848, -4.044000148773193, -5.1971001625061035, -5.111800193786621, -5.274499893188477, -5.4222002029418945, -4.8942999839782715, -5.043900012969971, -4.787499904632568, -5.195000171661377, -5.179599761962891, -4.384500026702881, -4.434800148010254, -5.005499839782715, -5.191699981689453, -4.2855000495910645, -4.8684000968933105, -4.972099781036377, -5.330699920654297, -5.358799934387207, -5.68149995803833, -5.689599990844727, -5.8917999267578125, -5.896900177001953, -5.9471001625061035, -6.05109977722168, -6.066400051116943, -6.123499870300293, -6.128799915313721, -6.144800186157227, -6.147799968719482, -6.179500102996826, -6.20389986038208, -6.2382001876831055, -6.252999782562256, -6.3180999755859375, -6.349699974060059, -6.359600067138672, -6.45959997177124, -6.460000038146973, -6.466599941253662, -6.4944000244140625, -6.500400066375732, -6.5279998779296875, -6.5746002197265625, -6.5690999031066895, -4.737199783325195, -5.633299827575684, -4.80649995803833, -5.044300079345703, -5.452700138092041, -3.777100086212158, -4.455399990081787, -4.622099876403809, -5.448200225830078, -3.771399974822998, -5.1203999519348145, -3.7204999923706055, -5.804800033569336, -3.180500030517578, -3.2246999740600586, -5.0457000732421875, -5.548999786376953, -5.581299781799316, -5.269599914550781, -5.327199935913086, -4.814799785614014, -4.540800094604492, -5.401899814605713, -4.702099800109863, -5.414100170135498, -4.8653998374938965, -5.322999954223633, -5.302299976348877, -5.26140022277832, -4.085299968719482, -4.0970001220703125, -4.764800071716309, -5.252799987792969, -5.310200214385986, -5.367599964141846, -5.406799793243408, -5.525100231170654, -5.720300197601318, -5.726200103759766, -5.757800102233887, -5.77269983291626, -5.782400131225586, -5.985199928283691, -5.995299816131592, -6.084400177001953, -6.116099834442139, -6.1321001052856445, -6.135200023651123, -6.1350998878479, -6.163599967956543, -6.170599937438965, -6.176300048828125, -6.202499866485596, -6.20419979095459, -6.214200019836426, -6.216000080108643, -6.2480998039245605, -6.261000156402588, -6.286799907684326, -5.3516998291015625, -5.817299842834473, -5.441199779510498, -4.6946001052856445, -5.499100208282471, -5.207499980926514, -4.855400085449219, -5.8892998695373535, -5.555200099945068, -5.2221999168396, -5.169300079345703, -5.715700149536133, -5.789599895477295, -5.820000171661377, -5.299900054931641, -5.218999862670898, -5.405700206756592, -5.234899997711182, -5.138199806213379, -5.439899921417236, -5.226099967956543, -5.455999851226807, -5.694399833679199, -5.645299911499023, -5.6269001960754395, -5.716400146484375, -4.543000221252441, -4.841300010681152, -4.919099807739258, -5.099800109863281, -5.183199882507324, -5.186399936676025, -5.3165998458862305, -5.321599960327148, -5.328100204467773, -5.396200180053711, -5.401000022888184, -5.451300144195557, -5.4604997634887695, -5.600500106811523, -5.636300086975098, -5.7403998374938965, -5.750199794769287, -5.797299861907959, -5.832900047302246, -5.84689998626709, -5.8632001876831055, -5.913000106811523, -5.92080020904541, -5.935999870300293, -5.942200183868408, -5.942500114440918, -6.016900062561035, -6.0808000564575195, -6.081200122833252, -6.089300155639648, -4.58459997177124, -5.711699962615967, -4.214799880981445, -5.151899814605713, -4.545100212097168, -4.707699775695801, -5.410099983215332, -5.57889986038208, -4.416900157928467, -5.17110013961792, -5.257999897003174, -5.404900074005127, -5.356200218200684, -5.034200191497803, -5.046000003814697, -5.119200229644775, -5.18310022354126, -5.342199802398682, -5.445300102233887, -5.309800148010254, -5.410299777984619, -4.25540018081665, -4.713500022888184, -4.8628997802734375, -5.064199924468994, -5.2153000831604, -5.3445000648498535, -5.354899883270264, -5.4029998779296875, -5.436500072479248, -5.643499851226807, -5.666399955749512, -5.7835001945495605, -5.78380012512207, -5.792300224304199, -5.798299789428711, -5.812099933624268, -5.830599784851074, -5.835100173950195, -5.838600158691406, -5.855400085449219, -5.870299816131592, -5.883900165557861, -5.895199775695801, -5.926700115203857, -6.023900032043457, -6.053400039672852, -6.0644001960754395, -6.081500053405762, -6.0843000411987305, -6.092899799346924, -5.807199954986572, -5.813199996948242, -5.683800220489502, -5.249800205230713, -5.0447998046875, -4.933000087738037, -4.963500022888184, -5.779300212860107, -5.657800197601318, -4.806399822235107, -4.570000171661377, -5.13100004196167, -4.9959001541137695, -5.3078999519348145, -5.533400058746338, -5.575300216674805, -5.304699897766113, -5.216899871826172, -5.087800025939941, -4.864200115203857, -5.44890022277832, -5.392600059509277, -5.114699840545654, -5.278600215911865, -5.47130012512207, -5.563399791717529, -5.537300109863281, -2.8178000450134277, -3.819200038909912, -4.7403998374938965, -4.766499996185303, -4.864500045776367, -4.915900230407715, -4.923699855804443, -4.990699768066406, -5.060400009155273, -5.2220001220703125, -5.2617998123168945, -5.320899963378906, -5.322400093078613, -5.349299907684326, -5.420599937438965, -5.423900127410889, -5.474599838256836, -5.497300148010254, -5.652100086212158, -5.729599952697754, -5.779699802398682, -5.7804999351501465, -5.795400142669678, -5.812600135803223, -5.812699794769287, -5.85290002822876, -5.866000175476074, -5.905300140380859, -5.938499927520752, -5.950099945068359, -4.789999961853027, -4.406300067901611, -4.89870023727417, -4.717100143432617, -4.6554999351501465, -4.352700233459473, -5.252799987792969, -4.928400039672852, -4.795499801635742, -5.368000030517578, -4.621099948883057, -5.126699924468994, -4.84250020980835, -5.228899955749512, -5.029600143432617, -5.051599979400635, -4.838399887084961, -5.04040002822876, -5.168399810791016, -4.63040018081665, -4.739500045776367, -4.757199764251709, -4.864200115203857, -4.889800071716309, -5.125100135803223, -5.258800029754639, -5.30649995803833, -5.309800148010254, -5.354899883270264, -5.4045000076293945, -5.411499977111816, -5.44950008392334, -5.327899932861328, -5.50439977645874, -5.551300048828125, -5.678899765014648, -5.787700176239014, -5.838900089263916, -5.841000080108643, -5.872700214385986, -5.886000156402588, -5.924499988555908, -5.978300094604492, -6.018899917602539, -6.022200107574463, -6.052299976348877, -6.0858001708984375, -6.097899913787842, -6.130899906158447, -4.697000026702881, -5.0395002365112305, -5.96560001373291, -5.690899848937988, -5.537099838256836, -5.169099807739258, -5.469600200653076, -4.275000095367432, -5.495800018310547, -4.884399890899658, -5.248700141906738, -5.6930999755859375, -5.693699836730957, -4.6132001876831055, -4.90369987487793, -5.167799949645996, -5.230100154876709, -5.279200077056885, -5.431600093841553, -5.462100028991699, -5.563600063323975, -5.580399990081787, -5.6265997886657715, -5.627900123596191, -5.708499908447266, -5.811600208282471, -5.823699951171875, -5.850800037384033, -5.8850998878479, -5.890900135040283, -5.905600070953369, -5.914700031280518, -5.928500175476074, -5.951600074768066, -5.9629998207092285, -5.973899841308594, -5.9807000160217285, -5.995800018310547, -6.04040002822876, -6.074699878692627, -6.080900192260742, -6.084799766540527, -6.087900161743164, -4.705100059509277, -5.27810001373291, -5.507299900054932, -5.888199806213379, -5.556099891662598, -5.620100021362305, -5.149199962615967, -5.392300128936768, -5.287700176239014, -5.65910005569458, -5.807600021362305, -5.547299861907959, -5.426499843597412, -5.592400074005127, -5.781300067901611, -5.759699821472168, -5.838200092315674, -0.2605000138282776, -5.511899948120117, -5.680300235748291, -5.693999767303467, -5.7042999267578125, -5.879700183868408, -5.894800186157227, -5.929200172424316, -6.038400173187256, -6.040999889373779, -6.092899799346924, -6.1305999755859375, -6.131800174713135, -6.184599876403809, -6.211400032043457, -6.258399963378906, -6.3582000732421875, -6.362299919128418, -6.401700019836426, -6.4166998863220215, -6.468699932098389, -6.471199989318848, -6.539899826049805, -6.594799995422363, -6.62060022354126, -6.62529993057251, -6.780600070953369, -6.829800128936768, -6.8572998046875, -6.94320011138916, -3.537899971008301, -4.646299839019775, -4.654699802398682, -4.790500164031982, -5.280399799346924, -5.425099849700928, -5.461299896240234, -5.465099811553955, -5.502600193023682, -5.528299808502197, -5.63129997253418, -5.636000156402588, -5.6479997634887695, -5.68779993057251, -5.7444000244140625, -5.765399932861328, -5.80649995803833, -5.808700084686279, -5.811699867248535, -5.823800086975098, -5.859399795532227, -5.926700115203857, -5.926700115203857, -5.942699909210205, -5.949900150299072, -5.971199989318848, -5.981299877166748, -5.985000133514404, -5.993899822235107, -5.998000144958496, -4.611700057983398, -5.2621002197265625, -5.697700023651123, -5.622700214385986, -5.650000095367432, -5.280900001525879, -4.938799858093262, -5.216599941253662, -5.070199966430664, -5.5725998878479, -5.191999912261963, -5.394999980926514, -5.374800205230713, -5.512700080871582, -5.678100109100342, -5.631100177764893, -4.670000076293945, -5.208499908447266, -5.250899791717529, -5.319499969482422, -5.361400127410889, -5.378799915313721, -5.456999778747559, -5.52269983291626, -5.654099941253662, -5.678500175476074, -5.683199882507324, -5.683199882507324, -5.691100120544434, -5.693999767303467, -5.730800151824951, -5.778900146484375, -5.815100193023682, -5.820199966430664, -5.824399948120117, -5.828800201416016, -5.837600231170654, -5.873199939727783, -5.877799987792969, -5.947199821472168, -5.972599983215332, -5.996099948883057, -6.002999782562256, -6.0040998458862305, -6.051400184631348, -6.095699787139893, -5.237199783325195, -3.484800100326538, -4.707399845123291, -5.2692999839782715, -5.480299949645996, -5.125199794769287, -5.672800064086914, -5.423999786376953, -5.116399765014648, -5.555500030517578, -5.2581000328063965, -5.219200134277344, -4.739500045776367, -5.348700046539307, -5.267199993133545, -5.278800010681152, -5.431000232696533, -5.663400173187256, -5.5879998207092285, -5.57480001449585, -4.89900016784668, -4.956900119781494, -5.025700092315674, -5.031000137329102, -5.076900005340576, -5.099699974060059, -5.1743998527526855, -5.293399810791016, -5.423399925231934, -5.4440999031066895, -5.493599891662598, -5.504799842834473, -5.552999973297119, -5.613500118255615, -5.628300189971924, -5.642399787902832, -5.6529998779296875, -5.671000003814697, -5.676300048828125, -5.682600021362305, -5.734000205993652, -5.742400169372559, -5.747600078582764, -5.8018999099731445, -5.803800106048584, -5.811600208282471, -5.822500228881836, -5.831699848175049, -5.83620023727417, -5.843100070953369, -5.236199855804443, -5.164400100708008, -5.304299831390381, -4.731200218200684, -5.164299964904785, -5.168799877166748, -5.025599956512451, -4.901500225067139, -5.516200065612793, -5.0528998374938965, -5.30649995803833, -5.533899784088135, -5.4670000076293945, -5.309800148010254, -5.413000106811523, -5.5370001792907715, -5.190800189971924, -5.423500061035156, -5.236299991607666, -5.4380998611450195, -5.5005998611450195, -4.631199836730957, -4.939199924468994, -5.007699966430664, -5.05049991607666, -5.06279993057251, -5.122300148010254, -5.158599853515625, -5.375800132751465, -5.406499862670898, -5.423299789428711, -5.423799991607666, -5.432700157165527, -5.435500144958496, -5.442699909210205, -5.452899932861328, -5.51140022277832, -5.522900104522705, -5.668399810791016, -5.715400218963623, -5.745699882507324, -5.771200180053711, -5.799699783325195, -5.80079984664917, -5.826300144195557, -5.833700180053711, -5.87060022354126, -5.876100063323975, -5.892300128936768, -5.909999847412109, -5.911499977111816, -5.192999839782715, -5.522200107574463, -5.5447001457214355, -5.429299831390381, -5.710899829864502, -5.497399806976318, -5.204999923706055, -5.390500068664551, -5.3850998878479, -5.452300071716309, -5.627399921417236, -5.606599807739258, -5.502299785614014, -5.638899803161621, -4.013700008392334, -4.467800140380859, -4.659999847412109, -4.950099945068359, -5.011899948120117, -5.180099964141846, -5.246300220489502, -5.287399768829346, -5.397200107574463, -5.40910005569458, -5.465799808502197, -5.476500034332275, -5.485899925231934, -5.489299774169922, -5.534200191497803, -5.539899826049805, -5.546299934387207, -5.553100109100342, -5.570199966430664, -5.580699920654297, -5.6230998039245605, -5.690800189971924, -5.696800231933594, -5.706500053405762, -5.738100051879883, -5.749000072479248, -5.750400066375732, -5.816999912261963, -5.829699993133545, -5.848599910736084, -5.360099792480469, -5.467100143432617, -4.6834001541137695, -5.469699859619141, -5.371699810028076, -4.782800197601318, -5.05810022354126, -5.33620023727417, -5.287499904632568, -5.568999767303467, -5.520500183105469, -5.564000129699707, -4.606400012969971, -4.783199787139893, -4.794899940490723, -4.820000171661377, -5.308599948883057, -5.313700199127197, -5.3506999015808105, -5.369500160217285, -5.409200191497803, -5.423099994659424, -5.439899921417236, -5.482699871063232, -5.5289998054504395, -5.551599979400635, -5.604300022125244, -5.723899841308594, -5.7540998458862305, -5.8765997886657715, -5.908899784088135, -5.937099933624268, -5.978700160980225, -6.000899791717529, -6.012199878692627, -6.018099784851074, -6.029200077056885, -6.03849983215332, -6.05810022354126, -6.0630998611450195, -6.066999912261963, -6.107999801635742, -5.1940999031066895, -4.954800128936768, -5.173900127410889, -5.198500156402588, -5.541200160980225, -4.926199913024902, -4.790999889373779, -4.17519998550415, -4.446000099182129, -4.259900093078613, -4.387899875640869, -5.292200088500977, -5.401199817657471, -5.395699977874756, -5.0177998542785645, -5.298600196838379, -5.526000022888184, -3.7467000484466553, -4.404200077056885, -4.7221999168396, -4.927000045776367, -5.206600189208984, -5.285900115966797, -5.337800025939941, -5.395500183105469, -5.410099983215332, -5.4293999671936035, -5.442999839782715, -5.538899898529053, -5.602700233459473, -5.632999897003174, -5.644000053405762, -5.689700126647949, -5.692200183868408, -5.697400093078613, -5.704800128936768, -5.731299877166748, -5.749899864196777, -5.753699779510498, -5.822199821472168, -5.831099987030029, -5.850299835205078, -5.8618998527526855, -5.868100166320801, -5.870100021362305, -5.8917999267578125, -5.8927001953125, -4.7382001876831055, -5.354899883270264, -5.452499866485596, -5.4430999755859375, -5.5106000900268555, -5.2459001541137695, -5.390200138092041, -5.41349983215332, -5.61329984664917, -5.67140007019043, -5.699100017547607, -5.5345001220703125, -3.974600076675415, -4.140200138092041, -4.727700233459473, -4.969399929046631, -5.02400016784668, -5.035900115966797, -5.177499771118164, -5.188899993896484, -5.218500137329102, -5.259099960327148, -5.328700065612793, -5.353799819946289, -5.354800224304199, -5.365900039672852, -5.376800060272217, -5.383800029754639, -5.4191999435424805, -5.447999954223633, -5.495500087738037, -5.503699779510498, -5.5192999839782715, -5.555200099945068, -5.624000072479248, -5.669600009918213, -5.7270002365112305, -5.730999946594238, -5.759799957275391, -5.769599914550781, -5.782100200653076, -5.807499885559082, -4.901899814605713, -4.274400234222412, -3.678499937057495, -5.350200176239014, -3.951900005340576, -4.072999954223633, -4.2434000968933105, -5.138400077819824, -4.822700023651123, -4.943600177764893, -4.960599899291992, -5.473100185394287, -3.897900104522705, -4.198699951171875, -4.402599811553955, -4.907599925994873, -4.932700157165527, -4.998000144958496, -5.017300128936768, -5.0177001953125, -5.107900142669678, -5.185500144958496, -5.210400104522705, -5.211100101470947, -5.22790002822876, -5.369200229644775, -5.37060022354126, -5.399799823760986, -5.425099849700928, -5.455999851226807, -5.488500118255615, -5.497200012207031, -5.537899971008301, -5.59660005569458, -5.624000072479248, -5.635000228881836, -5.65500020980835, -5.665999889373779, -5.677800178527832, -5.683899879455566, -5.686999797821045, -5.707900047302246, -4.318999767303467, -3.639699935913086, -3.902899980545044, -4.191500186920166, -4.2530999183654785, -4.36329984664917, -4.40910005569458, -4.49970006942749, -4.602499961853027, -4.60290002822876, -4.657100200653076, -4.717299938201904, -4.772200107574463, -4.972700119018555, -5.051000118255615, -5.081999778747559, -5.085100173950195, -5.135300159454346, -5.1539998054504395, -5.220200061798096, -5.271500110626221, -5.326099872589111, -5.341100215911865, -5.342899799346924, -5.456099987030029, -5.4928998947143555, -5.517000198364258, -5.644499778747559, -5.678400039672852, -5.708000183105469, -5.7144999504089355, -4.600500106811523, -4.701000213623047, -4.78439998626709, -5.146299839019775, -5.234099864959717, -3.919300079345703, -4.315499782562256, -4.380799770355225, -4.468999862670898, -4.547500133514404, -4.553299903869629, -4.576000213623047, -4.620100021362305, -4.693399906158447, -4.782100200653076, -4.89109992980957, -4.898099899291992, -5.074699878692627, -5.209499835968018, -5.211100101470947, -5.216800212860107, -5.218500137329102, -5.268400192260742, -5.3053998947143555, -5.356900215148926, -5.523600101470947, -5.565100193023682, -5.647299766540527, -5.6504998207092285, -5.654099941253662, -5.678100109100342, -5.687399864196777, -5.690899848937988, -5.716300010681152, -5.729499816894531, -4.015999794006348, -4.704400062561035, -4.8495001792907715, -4.528900146484375, -4.594900131225586, -5.584199905395508, -5.524700164794922]}, \"token.table\": {\"Topic\": [2, 4, 6, 1, 7, 1, 14, 2, 3, 11, 14, 2, 10, 17, 10, 16, 20, 11, 18, 19, 16, 20, 4, 1, 2, 3, 4, 6, 7, 10, 12, 15, 11, 14, 15, 4, 13, 9, 14, 20, 14, 1, 2, 18, 4, 6, 12, 15, 17, 2, 10, 14, 14, 11, 1, 3, 7, 7, 7, 1, 5, 14, 4, 1, 13, 20, 9, 2, 13, 16, 4, 6, 12, 1, 11, 9, 7, 1, 5, 19, 8, 2, 6, 15, 6, 7, 8, 3, 1, 3, 18, 5, 18, 3, 16, 19, 11, 1, 4, 6, 15, 13, 8, 9, 4, 1, 3, 5, 12, 13, 16, 2, 3, 10, 13, 14, 8, 19, 16, 2, 5, 20, 13, 16, 8, 9, 15, 7, 9, 12, 17, 8, 5, 17, 15, 12, 2, 4, 8, 20, 2, 19, 11, 8, 11, 13, 1, 5, 7, 17, 1, 3, 4, 6, 1, 9, 16, 2, 6, 2, 6, 14, 20, 16, 1, 3, 4, 15, 20, 1, 3, 7, 13, 16, 2, 5, 10, 14, 16, 5, 12, 1, 4, 6, 12, 19, 1, 2, 4, 11, 12, 20, 17, 10, 7, 3, 5, 7, 11, 4, 19, 3, 3, 3, 3, 3, 18, 2, 17, 13, 15, 1, 3, 20, 4, 20, 11, 2, 11, 4, 6, 16, 2, 6, 6, 15, 2, 6, 16, 8, 4, 2, 4, 13, 15, 4, 5, 13, 10, 13, 8, 15, 4, 3, 4, 19, 8, 6, 16, 1, 4, 12, 1, 4, 8, 7, 14, 1, 7, 11, 14, 15, 15, 4, 11, 16, 16, 11, 15, 11, 15, 11, 15, 4, 1, 2, 4, 8, 11, 14, 16, 18, 19, 11, 9, 18, 13, 4, 6, 10, 8, 1, 2, 3, 8, 16, 11, 1, 3, 5, 8, 1, 5, 5, 18, 5, 7, 11, 12, 7, 15, 11, 8, 15, 9, 10, 4, 12, 16, 19, 20, 5, 12, 17, 11, 18, 1, 5, 7, 12, 13, 15, 13, 12, 6, 2, 4, 8, 20, 2, 5, 7, 10, 16, 4, 19, 12, 13, 1, 8, 15, 1, 1, 12, 20, 6, 12, 10, 11, 9, 16, 20, 2, 16, 2, 13, 20, 13, 14, 20, 14, 6, 3, 10, 5, 16, 6, 13, 14, 18, 5, 9, 8, 18, 18, 9, 12, 1, 20, 2, 4, 4, 12, 2, 4, 1, 4, 19, 8, 16, 9, 11, 14, 11, 14, 1, 3, 7, 3, 13, 3, 4, 3, 3, 5, 19, 1, 7, 13, 1, 3, 7, 14, 3, 3, 20, 8, 2, 3, 4, 2, 6, 11, 10, 15, 4, 6, 4, 6, 5, 17, 7, 11, 11, 1, 4, 5, 7, 10, 17, 5, 10, 8, 6, 6, 5, 13, 6, 19, 4, 5, 11, 18, 18, 9, 7, 8, 16, 8, 11, 17, 8, 11, 17, 7, 18, 19, 15, 14, 1, 2, 4, 6, 10, 8, 5, 1, 1, 16, 17, 11, 16, 17, 3, 3, 1, 1, 2, 15, 10, 4, 7, 14, 15, 18, 19, 7, 5, 11, 15, 20, 10, 16, 8, 13, 11, 1, 12, 11, 2, 5, 15, 11, 3, 17, 2, 1, 2, 4, 2, 19, 1, 2, 4, 5, 12, 16, 12, 3, 7, 11, 13, 14, 8, 11, 13, 18, 17, 17, 1, 2, 5, 8, 3, 1, 2, 8, 16, 20, 5, 7, 10, 13, 5, 17, 3, 7, 13, 12, 16, 17, 6, 6, 8, 17, 9, 15, 8, 1, 2, 10, 10, 2, 5, 8, 16, 5, 12, 14, 1, 4, 2, 12, 2, 4, 10, 20, 6, 2, 3, 14, 6, 2, 4, 9, 18, 1, 14, 14, 14, 3, 7, 7, 8, 13, 20, 14, 1, 2, 3, 17, 13, 16, 20, 4, 20, 4, 2, 8, 10, 3, 3, 11, 7, 11, 1, 7, 10, 1, 2, 3, 1, 3, 12, 13, 14, 8, 11, 14, 17, 18, 19, 20, 8, 10, 10, 13, 14, 2, 12, 15, 1, 4, 5, 7, 11, 10, 3, 15, 20, 3, 15, 17, 8, 3, 7, 13, 14, 5, 19, 5, 7, 8, 16, 4, 15, 2, 3, 5, 8, 3, 5, 8, 11, 12, 13, 18, 13, 1, 3, 7, 1, 2, 14, 1, 2, 8, 6, 8, 10, 1, 8, 1, 2, 12, 3, 8, 20, 1, 1, 2, 5, 12, 16, 12, 18, 6, 1, 3, 5, 11, 2, 4, 1, 4, 10, 12, 1, 3, 4, 7, 13, 14, 7, 17, 6, 1, 3, 4, 8, 10, 12, 1, 6, 9, 19, 19, 3, 4, 11, 14, 5, 3, 7, 14, 15, 6, 7, 1, 2, 3, 4, 19, 18, 6, 13, 16, 2, 5, 16, 9, 15, 10, 19, 5, 3, 5, 6, 18, 18, 12, 6, 17, 4, 17, 3, 5, 11, 5, 2, 6, 12, 16, 6, 18, 18, 5, 13, 18, 1, 7, 7, 7, 1, 2, 3, 4, 12, 13, 8, 5, 4, 5, 10, 11, 14, 15, 1, 17, 18, 5, 7, 2, 1, 2, 4, 1, 3, 5, 7, 1, 2, 4, 5, 7, 8, 10, 12, 14, 7, 8, 11, 14, 1, 5, 10, 11, 15, 2, 17, 5, 2, 1, 2, 8, 16, 11, 10, 4, 1, 2, 4, 7, 11, 14, 1, 11, 12, 8, 17, 17, 15, 12, 12, 12, 1, 2, 3, 4, 7, 10, 12, 3, 5, 12, 14, 16, 2, 10, 1, 2, 8, 19, 15, 2, 12, 19, 5, 6, 13, 20, 16, 20, 7, 8, 11, 6, 7, 1, 3, 7, 15, 14, 5, 19, 17, 19, 2, 13, 2, 19, 8, 15, 20, 18, 16, 8, 11, 17, 17, 4, 8, 1, 2, 3, 10, 1, 3, 11, 11, 17, 11, 15, 14, 14, 6, 19, 13, 1, 2, 5, 12, 10, 19, 5, 2, 12, 14, 14, 1, 2, 6, 6, 12, 12, 4, 6, 10, 9, 1, 5, 10, 11, 15, 15, 3, 4, 15, 17, 17, 4, 4, 11, 15, 4, 7, 10, 8, 11, 16, 3, 16, 1, 9, 17, 19, 1, 2, 3, 3, 11, 14, 5, 11, 6, 9, 11, 15, 20, 18, 5, 3, 1, 16, 1, 3, 11, 17, 1, 2, 12, 11, 8, 10, 7, 7, 1, 2, 7, 9, 13, 4, 3, 11, 12, 3, 12, 5, 10, 12, 20, 6, 4, 16, 16, 1, 14, 15, 16, 15, 13, 7, 16, 20, 13, 5, 7, 10, 11, 9, 1, 4, 5, 6, 8, 1, 2, 6, 4, 14, 14, 11, 16, 1, 3, 5, 7, 2, 14, 20, 10, 1, 3, 15, 8, 10, 2, 3, 10, 8, 4, 2, 6, 6, 8, 17, 1, 4, 5, 15, 7, 10, 12, 4, 4, 14, 1, 3, 4, 20, 15, 4, 6, 12, 14, 17, 7, 4, 10, 12, 6, 15, 18, 11, 13, 16, 7, 12, 18, 19, 18, 9, 9, 11, 20, 3, 5, 7, 4, 6, 10, 10, 12, 7, 17, 1, 3, 4, 5, 8, 13, 15, 4, 5, 6, 12, 14, 10, 10, 12, 20, 4, 4, 6, 16, 14, 8, 2, 8, 10, 17, 18, 11, 9, 3, 6, 12, 11, 16, 1, 5, 1, 2, 14, 15, 13, 1, 3, 15, 11, 12, 13, 20, 1, 7, 17, 10, 13, 3, 13, 20, 4, 13, 14, 13, 16, 7, 16, 9, 20, 1, 10, 15, 13, 6, 12, 2, 1, 2, 4, 6, 10, 1, 11, 9, 8, 11, 17, 11, 4, 10, 8, 1, 4, 12, 15, 8, 20, 18, 5, 2, 2, 9, 1, 3, 1, 1, 3, 5, 7, 10, 20, 1, 4, 5, 10, 16, 20, 1, 3, 4, 5, 7, 1, 5, 7, 5, 7, 19, 17, 1, 8, 11, 14, 8, 4, 16, 13, 1, 3, 6, 3, 1, 7, 7, 7, 1, 16, 4, 13, 1, 2, 4, 5, 7, 8, 10, 11, 1, 2, 6, 12, 13, 12, 11, 18, 14, 3, 8, 15, 1, 2, 8, 10, 11, 14, 2, 1, 3, 5, 7, 14, 18, 2, 4, 8, 14, 16, 20, 1, 2, 3, 4, 5, 12, 8, 12, 1, 2, 4, 6, 10, 12, 4, 11, 19, 18, 3, 3, 4, 6, 2, 19, 2, 2, 3, 10, 13, 9, 9, 6, 10, 1, 2, 8, 11, 17, 1, 2, 7, 14, 5, 1, 3, 14, 15, 7, 11, 5, 5, 1, 3, 5, 14, 20, 19, 8, 6, 17, 10, 6, 17, 4, 17, 13, 17, 4, 2, 7, 7, 4, 5, 16, 3, 4, 5, 12, 13, 16, 1, 1, 3, 1, 2, 4, 5, 6, 1, 7, 14, 1, 3, 13, 9, 1, 13, 18, 6, 19, 19, 19, 1, 2, 3, 4, 5, 7, 8, 10, 11, 12, 13, 14, 15, 18, 19, 20, 17, 1, 11, 12, 17, 1, 5, 7, 10, 11, 14, 1, 10, 12, 4, 8, 11, 1], \"Freq\": [0.9931200742721558, 0.8330568671226501, 0.1654297411441803, 0.019821571186184883, 0.9762123823165894, 0.9989919066429138, 0.994674801826477, 0.9228410124778748, 0.02273007482290268, 0.03182210400700569, 0.019699398428201675, 0.9982079863548279, 0.9937990307807922, 0.992118239402771, 0.14283058047294617, 0.5534685254096985, 0.30053937435150146, 0.758050799369812, 0.1251498907804489, 0.11084704846143723, 0.9941177368164062, 0.9941002726554871, 0.9965401291847229, 0.5414249897003174, 0.0971386730670929, 0.08729051798582077, 0.10788212716579437, 0.05550781637430191, 0.017458103597164154, 0.06848948448896408, 0.024844223633408546, 0.9921724200248718, 0.22751455008983612, 0.5972257256507874, 0.1733444184064865, 0.9970909357070923, 0.9963222146034241, 0.9937623739242554, 0.9946715831756592, 0.9940084218978882, 0.9909881353378296, 0.44034215807914734, 0.5590943694114685, 0.9950954914093018, 0.0379340685904026, 0.8914506435394287, 0.06743834912776947, 0.9699408411979675, 0.02611379139125347, 0.9973066449165344, 0.9977860450744629, 0.9943528175354004, 0.9957351684570312, 0.9942132234573364, 0.06688836961984634, 0.9292706251144409, 0.9972072243690491, 0.9985969066619873, 0.9982656240463257, 0.9959061145782471, 0.003572116605937481, 0.9957597255706787, 0.9939103722572327, 0.9998875260353088, 0.8065113425254822, 0.18891257047653198, 0.9937787652015686, 0.9955830574035645, 0.9955248832702637, 0.9929806590080261, 0.6482651829719543, 0.2881178557872772, 0.06326065957546234, 0.06235048547387123, 0.9352572560310364, 0.9999794363975525, 0.9966169595718384, 0.7705959677696228, 0.22879789769649506, 0.9872783422470093, 0.9981399178504944, 0.9946356415748596, 0.9961283206939697, 0.9923771619796753, 0.9949076175689697, 0.1090388372540474, 0.8878876566886902, 0.9953590035438538, 0.5062470436096191, 0.4931795001029968, 0.995363712310791, 0.9975119829177856, 0.9900471568107605, 0.9989156126976013, 0.9980771541595459, 0.993658721446991, 0.9970512986183167, 0.31408339738845825, 0.28925466537475586, 0.3960181772708893, 0.9972578883171082, 0.9967139959335327, 0.9970585703849792, 0.9975950121879578, 0.9988431930541992, 0.011989923194050789, 0.2158186137676239, 0.13428713381290436, 0.08153147995471954, 0.5563324689865112, 0.993526041507721, 0.19620411098003387, 0.659540593624115, 0.05987449735403061, 0.08290314674377441, 0.9952752590179443, 0.9960753917694092, 0.9958257079124451, 0.9972900152206421, 0.8535358905792236, 0.1450856775045395, 0.9955935478210449, 0.9960393309593201, 0.9931474328041077, 0.9975458383560181, 0.9957879185676575, 0.9961466193199158, 0.9948477149009705, 0.9942299127578735, 0.9976933002471924, 0.996030330657959, 0.9963992834091187, 0.9988226294517517, 0.9963363409042358, 0.9897580146789551, 0.991380512714386, 0.9308789372444153, 0.023348107933998108, 0.03857513517141342, 0.007105946075171232, 0.998773455619812, 0.9975077509880066, 0.9916356801986694, 0.7056608200073242, 0.12967272102832794, 0.16284480690956116, 0.35220617055892944, 0.4499715566635132, 0.19678422808647156, 0.9936280846595764, 0.20242728292942047, 0.6651182174682617, 0.009201239794492722, 0.12224504351615906, 0.999723494052887, 0.9928295016288757, 0.9988163113594055, 0.571943998336792, 0.42734235525131226, 0.30475562810897827, 0.6146332025527954, 0.07939011603593826, 0.9941777586936951, 0.9981251358985901, 0.655823290348053, 0.0643899217247963, 0.09380260109901428, 0.18601533770561218, 0.9947822093963623, 0.47647756338119507, 0.051287513226270676, 0.011581052094697952, 0.45993319153785706, 0.9964144825935364, 0.11075598746538162, 0.1935822069644928, 0.4555441737174988, 0.232106015086174, 0.006741668563336134, 0.9832856059074402, 0.014046937227249146, 0.6387330889701843, 0.021123455837368965, 0.10259964317083359, 0.23738740384578705, 0.992927074432373, 0.20806549489498138, 0.3566837012767792, 0.010403274558484554, 0.0445854626595974, 0.378976434469223, 0.9934130311012268, 0.997005045413971, 0.9950035810470581, 0.9970765709877014, 0.011601823382079601, 0.059298209846019745, 0.9023640751838684, 0.02578183077275753, 0.9981703162193298, 0.9975992441177368, 0.9953176975250244, 0.9986957311630249, 0.9970322251319885, 0.9991617798805237, 0.9965736269950867, 0.9881396889686584, 0.9976178407669067, 0.9938198924064636, 0.9966742396354675, 0.987257719039917, 0.1229136735200882, 0.8759365081787109, 0.9926096796989441, 0.9969007968902588, 0.9969053864479065, 0.9938693642616272, 0.9960824251174927, 0.9973082542419434, 0.553559422492981, 0.44525429606437683, 0.9909217357635498, 0.10260821878910065, 0.8967065811157227, 0.9971423745155334, 0.9878779053688049, 0.7539879679679871, 0.21083076298236847, 0.03454289212822914, 0.995110809803009, 0.9958457350730896, 0.7814224362373352, 0.2177734673023224, 0.8571490049362183, 0.13852913677692413, 0.150151789188385, 0.2149900645017624, 0.6347325444221497, 0.995089590549469, 0.9935627579689026, 0.9976493120193481, 0.9955452680587769, 0.998065710067749, 0.9973620772361755, 0.22333747148513794, 0.7753000855445862, 0.9955922365188599, 0.4430716335773468, 0.5546364188194275, 0.3900761902332306, 0.034774232655763626, 0.5730189085006714, 0.9948275685310364, 0.004804479889571667, 0.9980631470680237, 0.17881280183792114, 0.8168493509292603, 0.14532476663589478, 0.17992588877677917, 0.16262532770633698, 0.39791303873062134, 0.11245368421077728, 0.9977211952209473, 0.22475939989089966, 0.6349998712539673, 0.1374741941690445, 0.996250569820404, 0.056996483355760574, 0.9404419660568237, 0.11337706446647644, 0.8836742043495178, 0.9933674931526184, 0.9868671298027039, 0.9981861710548401, 0.0021386565640568733, 0.0021386565640568733, 0.0021386565640568733, 0.00641596969217062, 0.0021386565640568733, 0.0021386565640568733, 0.004277313128113747, 0.975227415561676, 0.0021386565640568733, 0.9966711401939392, 0.9912667870521545, 0.9957385063171387, 0.9958251714706421, 0.6789839863777161, 0.16221460700035095, 0.1575799137353897, 0.9979040026664734, 0.2619262635707855, 0.3233514428138733, 0.02665621228516102, 0.38593560457229614, 0.9964101314544678, 0.9928532242774963, 0.41314998269081116, 0.11300867050886154, 0.4654013216495514, 0.007290882058441639, 0.12197065353393555, 0.875575065612793, 0.9895903468132019, 0.010527556762099266, 0.3402523696422577, 0.630043625831604, 0.02883494831621647, 0.997256338596344, 0.8713386654853821, 0.1262301504611969, 0.9978615641593933, 0.9974240660667419, 0.9910573959350586, 0.9958729147911072, 0.9915568828582764, 0.3194480836391449, 0.6592246890068054, 0.017424441874027252, 0.9973820447921753, 0.9937991499900818, 0.10056332498788834, 0.8969161510467529, 0.9930118322372437, 0.9917076230049133, 0.9948291778564453, 0.9962314963340759, 0.003451945725828409, 0.9984434843063354, 0.9955154657363892, 0.9961096048355103, 0.9927409291267395, 0.9961152076721191, 0.9976047873497009, 0.9942139983177185, 0.9973835349082947, 0.29311656951904297, 0.676287055015564, 0.028252199292182922, 0.7750468850135803, 0.004486523102968931, 0.1188928633928299, 0.08524394035339355, 0.015702830627560616, 0.9984522461891174, 0.9956110119819641, 0.3264411985874176, 0.6690428853034973, 0.9992789626121521, 0.9965649247169495, 0.9945483803749084, 0.9992126822471619, 0.9998483061790466, 0.7532917857170105, 0.24448943138122559, 0.9983090162277222, 0.9946396350860596, 0.9971607327461243, 0.9953075051307678, 0.9924682378768921, 0.9959158897399902, 0.9861643314361572, 0.9654644727706909, 0.03409344702959061, 0.9983062744140625, 0.19074898958206177, 0.8076393604278564, 0.07016132026910782, 0.07754672318696976, 0.8493212461471558, 0.9923818111419678, 0.9973523020744324, 0.3997144401073456, 0.5995716452598572, 0.9971187114715576, 0.9919462203979492, 0.0738932192325592, 0.6333704590797424, 0.1829736828804016, 0.1055617406964302, 0.9953328967094421, 0.9864687323570251, 0.9964651465415955, 0.9968239068984985, 0.9945401549339294, 0.9920299649238586, 0.9942407011985779, 0.9985402822494507, 0.9870700836181641, 0.9992973208427429, 0.9945107698440552, 0.9989035725593567, 0.9983634352684021, 0.9273107647895813, 0.06933164596557617, 0.9989532232284546, 0.9966516494750977, 0.9858539700508118, 0.9978381395339966, 0.988416314125061, 0.9920923113822937, 0.038413360714912415, 0.9560658931732178, 0.0333961620926857, 0.9637178182601929, 0.8755162358283997, 0.08742672950029373, 0.036844123154878616, 0.8198732733726501, 0.17776691913604736, 0.9949389100074768, 0.9946449995040894, 0.9983446002006531, 0.9950141310691833, 0.9955288171768188, 0.9932422041893005, 0.6176639795303345, 0.08803486824035645, 0.2925029397010803, 0.4091237485408783, 0.48086583614349365, 0.048474378883838654, 0.06075455620884895, 0.9971837997436523, 0.9958074688911438, 0.9907000064849854, 0.9981020092964172, 0.1364944726228714, 0.023069487884640694, 0.8381913900375366, 0.8516594171524048, 0.1477692723274231, 0.9970758557319641, 0.994177520275116, 0.9941014647483826, 0.09778713434934616, 0.9011038541793823, 0.13716068863868713, 0.8623233437538147, 0.9959784746170044, 0.9951543807983398, 0.31964752078056335, 0.6797837018966675, 0.9938887357711792, 0.5928605794906616, 0.046134330332279205, 0.1270415484905243, 0.05026576295495033, 0.09158008545637131, 0.09158008545637131, 0.9982758164405823, 0.9972018003463745, 0.9921233057975769, 0.997769296169281, 0.9969809651374817, 0.11875659227371216, 0.8781737685203552, 0.9983884692192078, 0.9937668442726135, 0.04233471676707268, 0.8652157783508301, 0.08996127545833588, 0.9908692240715027, 0.990730345249176, 0.9919940233230591, 0.15071342885494232, 0.8458406925201416, 0.9932252764701843, 0.007235730066895485, 0.23671174049377441, 0.7545832991600037, 0.12379159033298492, 0.1399383246898651, 0.73467618227005, 0.9945877194404602, 0.9989089965820312, 0.9969303607940674, 0.9973981976509094, 0.9957787394523621, 0.8187838196754456, 0.09356237947940826, 0.0029379490297287703, 0.0847485288977623, 0.9941108226776123, 0.9939983487129211, 0.9952396154403687, 0.9992374181747437, 0.9238535165786743, 0.03444736823439598, 0.041502851992845535, 0.9014620780944824, 0.09682370722293854, 0.9965745210647583, 0.9996891617774963, 0.997090756893158, 0.9996407628059387, 0.9994011521339417, 0.00027501408476382494, 0.9985656142234802, 0.9958764314651489, 0.22700797021389008, 0.12886041402816772, 0.20297183096408844, 0.4413301944732666, 0.9958911538124084, 0.9989890456199646, 0.9985483288764954, 0.9979346394538879, 0.9145731925964355, 0.08434581011533737, 0.9977999925613403, 0.2445940375328064, 0.7523119449615479, 0.9922499656677246, 0.9965682029724121, 0.9968820810317993, 0.9995379447937012, 0.9945895075798035, 0.9974774122238159, 0.998580813407898, 0.36750805377960205, 0.6304406523704529, 0.9940998554229736, 0.994662880897522, 0.9906408190727234, 0.9934626221656799, 0.3533671200275421, 0.6336427330970764, 0.012639881111681461, 0.9792948961257935, 0.01923958584666252, 0.1444729119539261, 0.17055830359458923, 0.11738424003124237, 0.28693926334381104, 0.2518243193626404, 0.028091955929994583, 0.9923415184020996, 0.17407061159610748, 0.6230936646461487, 0.11670643836259842, 0.037583429366350174, 0.04747380316257477, 0.34143754839897156, 0.6570687890052795, 0.9934415221214294, 0.9948554635047913, 0.9988310933113098, 0.9960685968399048, 0.060149841010570526, 0.0969080775976181, 0.7295953035354614, 0.11250247806310654, 0.9973267316818237, 0.17947585880756378, 0.8136405348777771, 0.004999327473342419, 0.0017497646622359753, 0.9897345900535583, 0.9951626658439636, 0.07085774093866348, 0.3640621602535248, 0.5644185543060303, 0.9984102249145508, 0.9898860454559326, 0.7633549571037292, 0.061068397015333176, 0.17366325855255127, 0.9976429343223572, 0.2795446515083313, 0.7165340185165405, 0.9980922937393188, 0.17691190540790558, 0.8193814754486084, 0.989979088306427, 0.993465781211853, 0.9961166381835938, 0.997658371925354, 0.852392852306366, 0.14738856256008148, 0.9989446401596069, 0.9967455863952637, 0.760080099105835, 0.07995378226041794, 0.14640887081623077, 0.013498689979314804, 0.07211121916770935, 0.9224227070808411, 0.0030046342872083187, 0.06106715276837349, 0.9363629817962646, 0.9552677273750305, 0.044354651123285294, 0.1990012526512146, 0.7006401419639587, 0.10023046284914017, 0.9918395280838013, 0.995171844959259, 0.9027481079101562, 0.0634283795952797, 0.032451730221509933, 0.9969830513000488, 0.7814009189605713, 0.21698808670043945, 0.9865785241127014, 0.9976338148117065, 0.9986571669578552, 0.9994304776191711, 0.9979826211929321, 0.9953740239143372, 0.9994524121284485, 0.9972755908966064, 0.998249351978302, 0.4986378848552704, 0.014145756140351295, 0.48449215292930603, 0.9969758987426758, 0.21499043703079224, 0.26819878816604614, 0.46952760219573975, 0.046737052500247955, 0.9951174259185791, 0.9901315569877625, 0.9824305176734924, 0.9991811513900757, 0.9961677193641663, 0.9972052574157715, 0.856926679611206, 0.09386829286813736, 0.04844815284013748, 0.9940459728240967, 0.22190357744693756, 0.7756058573722839, 0.799811065196991, 0.19598019123077393, 0.999289333820343, 0.9952539801597595, 0.9955909848213196, 0.9149101376533508, 0.08505967259407043, 0.9958218932151794, 0.06254661828279495, 0.8385879993438721, 0.04401428624987602, 0.05096391215920448, 0.9987941384315491, 0.005317617207765579, 0.005317617207765579, 0.005317617207765579, 0.9571710824966431, 0.005317617207765579, 0.005317617207765579, 0.005317617207765579, 0.17924094200134277, 0.8153705596923828, 0.8922832608222961, 0.10093701630830765, 0.9973602890968323, 0.9984827041625977, 0.9945089221000671, 0.9949067234992981, 0.4314368963241577, 0.01538230013102293, 0.14063817262649536, 0.019777243956923485, 0.39188241958618164, 0.994785487651825, 0.4495900273323059, 0.5497537851333618, 0.9964858293533325, 0.20546674728393555, 0.7915139198303223, 0.9920031428337097, 0.9965533018112183, 0.2850643992424011, 0.01900429278612137, 0.6917562484741211, 0.9963967800140381, 0.9967591762542725, 0.9923506379127502, 0.6083753108978271, 0.16389420628547668, 0.0904695987701416, 0.13767112791538239, 0.14779067039489746, 0.8506174087524414, 0.17787791788578033, 0.23509010672569275, 0.5762828588485718, 0.010402217507362366, 0.13799205422401428, 0.13615214824676514, 0.03679788112640381, 0.08279522508382797, 0.5262096524238586, 0.07911544293165207, 0.9933950304985046, 0.9922919273376465, 0.27329152822494507, 0.7205505967140198, 0.006019637454301119, 0.9571733474731445, 0.04277389869093895, 0.9915056824684143, 0.476943701505661, 0.5199663043022156, 0.0029913459438830614, 0.04526402801275253, 0.8392195701599121, 0.11499509960412979, 0.9995609521865845, 0.9949073195457458, 0.35973241925239563, 0.6401392221450806, 0.9963662624359131, 0.9964509606361389, 0.8736993074417114, 0.12481418997049332, 0.9991517663002014, 0.06855304539203644, 0.15647977590560913, 0.27719274163246155, 0.4247308075428009, 0.07153361290693283, 0.9978781342506409, 0.997097373008728, 0.998380720615387, 0.5255498886108398, 0.13764400780200958, 0.3287530541419983, 0.007394100073724985, 0.851118266582489, 0.14854997396469116, 0.9834061861038208, 0.01607850380241871, 0.9940128326416016, 0.9933668375015259, 0.6847661733627319, 0.1716470718383789, 0.08017485588788986, 0.042638447135686874, 0.008381917141377926, 0.01239065919071436, 0.9949972629547119, 0.9965821504592896, 0.9998403191566467, 0.401295006275177, 0.19799108803272247, 0.2064916044473648, 0.07756716758012772, 0.08394255489110947, 0.03258529677987099, 0.9993126392364502, 0.984393298625946, 0.014648709446191788, 0.9957358241081238, 0.9960154294967651, 0.9970398545265198, 0.11144809424877167, 0.4529061019420624, 0.43156495690345764, 0.9970002174377441, 0.08530142158269882, 0.11195811629295349, 0.5917786359786987, 0.20792222023010254, 0.9987398982048035, 0.9977415204048157, 0.1928088665008545, 0.32268011569976807, 0.06293760985136032, 0.4205830693244934, 0.9920093417167664, 0.9962738156318665, 0.9973672032356262, 0.9951232671737671, 0.9945899844169617, 0.48014357686042786, 0.1912260204553604, 0.32633134722709656, 0.9951645731925964, 0.992071270942688, 0.9928144812583923, 0.9962916970252991, 0.9971137642860413, 0.9967612624168396, 0.9970502853393555, 0.997057318687439, 0.9921343922615051, 0.9958029985427856, 0.9972434043884277, 0.9964771866798401, 0.9962787628173828, 0.9980309009552002, 0.9962873458862305, 0.9945998787879944, 0.9964069724082947, 0.9970662593841553, 0.9968626499176025, 0.9974666833877563, 0.9986061453819275, 0.9928271770477295, 0.9913078546524048, 0.9970049262046814, 0.9966931343078613, 0.9966797828674316, 0.999441385269165, 0.9970253109931946, 0.9958624243736267, 0.999700129032135, 0.9982849359512329, 0.9935777187347412, 0.9915695786476135, 0.4212748408317566, 0.0717291384935379, 0.37898677587509155, 0.06369975209236145, 0.06369975209236145, 0.994885265827179, 0.9972398281097412, 0.9972556829452515, 0.1847974807024002, 0.0395231619477272, 0.3204580843448639, 0.20082038640975952, 0.05447787046432495, 0.19868400692939758, 0.46006903052330017, 0.5076623558998108, 0.031728897243738174, 0.9739171266555786, 0.02143842726945877, 0.9943826198577881, 0.453595906496048, 0.44787487387657166, 0.0980747863650322, 0.9458946585655212, 0.025112247094511986, 0.0073859551921486855, 0.02117307111620903, 0.21828041970729828, 0.25249364972114563, 0.2169118970632553, 0.16353924572467804, 0.010606101714074612, 0.0003421323199290782, 0.030791908502578735, 0.10503462702035904, 0.0017106616869568825, 0.034629348665475845, 0.5376662015914917, 0.22964726388454437, 0.19501791894435883, 0.5023877024650574, 0.004111192189157009, 0.3412289321422577, 0.1521141082048416, 0.9968494772911072, 0.9982416033744812, 0.9984821677207947, 0.9956766963005066, 0.9985221028327942, 0.23339423537254333, 0.7275232076644897, 0.0011114011285826564, 0.03778763860464096, 0.9914624691009521, 0.9977899193763733, 0.9948726296424866, 0.2981374263763428, 0.23575183749198914, 0.28631699085235596, 0.0794595330953598, 0.08208629488945007, 0.01773064024746418, 0.24669083952903748, 0.5095052719116211, 0.24346612393856049, 0.9977326989173889, 0.9968206286430359, 0.9956004619598389, 0.9961082935333252, 0.996640682220459, 0.9934709668159485, 0.9977930188179016, 0.8586363196372986, 0.017578382045030594, 0.0792153999209404, 0.030536804348230362, 0.013747195713222027, 0.9925844073295593, 0.9924275875091553, 0.3022346496582031, 0.18576373159885406, 0.20640414953231812, 0.26979970932006836, 0.033909253776073456, 0.9926190376281738, 0.9969824552536011, 0.475492924451828, 0.5215202569961548, 0.0028594143223017454, 0.9961521029472351, 0.9976710677146912, 0.9959452152252197, 0.9976466298103333, 0.9971303343772888, 0.7738919854164124, 0.2245376855134964, 0.995468020439148, 0.99491286277771, 0.9939157962799072, 0.9964179396629333, 0.32424795627593994, 0.6635771989822388, 0.010556910187005997, 0.999121904373169, 0.9974998235702515, 0.5948717594146729, 0.15678158402442932, 0.2180243879556656, 0.03041725978255272, 0.9925159215927124, 0.9982813000679016, 0.9979600310325623, 0.2129516303539276, 0.7823657989501953, 0.9982072710990906, 0.9949547648429871, 0.9969590306282043, 0.9977413415908813, 0.7300747632980347, 0.26875215768814087, 0.9976404905319214, 0.9922732710838318, 0.9884294271469116, 0.2284488081932068, 0.4120001792907715, 0.3578591048717499, 0.9964442253112793, 0.9981932640075684, 0.9987248182296753, 0.09947105497121811, 0.8558655381202698, 0.04455474391579628, 0.9961065649986267, 0.7366020083427429, 0.23599869012832642, 0.02656262367963791, 0.8770411610603333, 0.12047268450260162, 0.2835486829280853, 0.7162365913391113, 0.992672324180603, 0.9967916011810303, 0.9977707862854004, 0.9921595454216003, 0.99462890625, 0.23516908288002014, 0.10811464488506317, 0.5003261566162109, 0.15625329315662384, 0.06359350681304932, 0.9327048063278198, 0.9982939958572388, 0.5092606544494629, 0.44956260919570923, 0.04020478576421738, 0.9929984211921692, 0.653335690498352, 0.09145727008581161, 0.25442633032798767, 0.09162208437919617, 0.9067426919937134, 0.9968869090080261, 0.0624207928776741, 0.604305624961853, 0.3320062458515167, 0.9861095547676086, 0.14535941183567047, 0.024226568639278412, 0.8285486698150635, 0.09354449808597565, 0.9059045910835266, 0.9949011206626892, 0.2200520783662796, 0.6371141076087952, 0.14170892536640167, 0.9936739206314087, 0.9871236681938171, 0.9974223375320435, 0.33786001801490784, 0.06713884323835373, 0.59450364112854, 0.14103510975837708, 0.5798109769821167, 0.27983155846595764, 0.23061822354793549, 0.07811262458562851, 0.684415340423584, 0.9973681569099426, 0.9926827549934387, 0.9989014267921448, 0.9888139367103577, 0.3164621889591217, 0.6812727451324463, 0.6679291725158691, 0.08689895272254944, 0.24479378759860992, 0.11527401953935623, 0.881288468837738, 0.9940820336341858, 0.9972806572914124, 0.9932760000228882, 0.99846351146698, 0.995164155960083, 0.9953193068504333, 0.3125375211238861, 0.6747969388961792, 0.9946960210800171, 0.9960410594940186, 0.99640291929245, 0.9993256330490112, 0.9963557720184326, 0.583598792552948, 0.4155072271823883, 0.9455995559692383, 0.051032356917858124, 0.12053781002759933, 0.07137107104063034, 0.8072860836982727, 0.9927808046340942, 0.9442915916442871, 0.04946289211511612, 0.9978668093681335, 0.9969022870063782, 0.40470266342163086, 0.5534651875495911, 0.02529391646385193, 0.0021435522940009832, 0.014147444628179073, 0.9967288374900818, 0.11805231124162674, 0.09444185346364975, 0.782518208026886, 0.17337700724601746, 0.8241689205169678, 0.056089576333761215, 0.8362445831298828, 0.10708010196685791, 0.9946742653846741, 0.9951410293579102, 0.9950174689292908, 0.9967564940452576, 0.9897109270095825, 0.8837701678276062, 0.0018335480708628893, 0.11367997527122498, 0.0003667096025310457, 0.996269702911377, 0.9979866743087769, 0.12502998113632202, 0.8728945255279541, 0.9948811531066895, 0.9914700984954834, 0.9974463582038879, 0.9945130944252014, 0.9932898879051208, 0.9937438368797302, 0.989823579788208, 0.1884632557630539, 0.17657817900180817, 0.09847629070281982, 0.43889865279197693, 0.09677842259407043, 0.29075923562049866, 0.02568957209587097, 0.6831091046333313, 0.9983270764350891, 0.9943534135818481, 0.9976478815078735, 0.48270323872566223, 0.5139573812484741, 0.3482116162776947, 0.048243843019008636, 0.37739136815071106, 0.2256566882133484, 0.9988784193992615, 0.9933199286460876, 0.9965178370475769, 0.9970152974128723, 0.7348765730857849, 0.2645707428455353, 0.9927418828010559, 0.14611513912677765, 0.8517444133758545, 0.07446617633104324, 0.37992948293685913, 0.5440590381622314, 0.995108425617218, 0.9961106777191162, 0.2190183401107788, 0.7789614796638489, 0.9969775080680847, 0.07346136122941971, 0.9252633452415466, 0.44830307364463806, 0.06499917060136795, 0.48558202385902405, 0.9946313500404358, 0.05830584838986397, 0.2941794991493225, 0.6466648578643799, 0.996632993221283, 0.866231381893158, 0.13181781768798828, 0.8493984937667847, 0.12282968312501907, 0.027411144226789474, 0.991788387298584, 0.9972680807113647, 0.6403107047080994, 0.10987579822540283, 0.1338716596364975, 0.04672878980636597, 0.06693582981824875, 0.9961414337158203, 0.9969620108604431, 0.64291912317276, 0.3560388684272766, 0.9985159635543823, 0.993532657623291, 0.991200864315033, 0.9977856874465942, 0.992865264415741, 0.9902322292327881, 0.9968459010124207, 0.9968817234039307, 0.051781173795461655, 0.9450064301490784, 0.9966744184494019, 0.993266761302948, 0.9859395623207092, 0.9867981672286987, 0.009108906611800194, 0.7669353485107422, 0.12255152314901352, 0.10871505737304688, 0.17559820413589478, 0.7982434034347534, 0.026071349158883095, 0.9938101172447205, 0.9942881464958191, 0.9953417778015137, 0.9971339106559753, 0.9910858273506165, 0.008735882118344307, 0.02355203405022621, 0.19566304981708527, 0.36233898997306824, 0.03261050954461098, 0.38407933712005615, 0.6095126867294312, 0.05844642221927643, 0.07514540106058121, 0.22682777047157288, 0.029223211109638214, 0.9995661377906799, 0.9974197745323181, 0.9975108504295349, 0.9877582788467407, 0.9974959492683411, 0.05167728289961815, 0.6215628981590271, 0.32585397362709045, 0.9952700138092041, 0.9963534474372864, 0.4654146432876587, 0.022287461906671524, 0.29629215598106384, 0.20320922136306763, 0.01179924514144659, 0.9939765930175781, 0.9971672892570496, 0.16714225709438324, 0.330778032541275, 0.5014267563819885, 0.9922617077827454, 0.9939248561859131, 0.25514286756515503, 0.7433295845985413, 0.17689993977546692, 0.20280314981937408, 0.25271421670913696, 0.3670673668384552, 0.9928765892982483, 0.2822466194629669, 0.08786923438310623, 0.6257354617118835, 0.9940034747123718, 0.9962591528892517, 0.09651543200016022, 0.9021238684654236, 0.9757969975471497, 0.023764438927173615, 0.9920042157173157, 0.9956104755401611, 0.9968367218971252, 0.2990338206291199, 0.5318880677223206, 0.16667459905147552, 0.13956041634082794, 0.8542789220809937, 0.9947417378425598, 0.9923014640808105, 0.9940717816352844, 0.9956032633781433, 0.9892076849937439, 0.9935110211372375, 0.9883329272270203, 0.9993214011192322, 0.9972249865531921, 0.9913762807846069, 0.9933014512062073, 0.9973001480102539, 0.9928635954856873, 0.9954729676246643, 0.1929408609867096, 0.08762894570827484, 0.46211495995521545, 0.25149112939834595, 0.005108413752168417, 0.9991703033447266, 0.9949974417686462, 0.9905552268028259, 0.9971102476119995, 0.12318964302539825, 0.8760152459144592, 0.9987557530403137, 0.9497982263565063, 0.04963769391179085, 0.9926967024803162, 0.9992280006408691, 0.1008070707321167, 0.8529828786849976, 0.04394154250621796, 0.872769296169281, 0.12629219889640808, 0.9963753819465637, 0.9986106157302856, 0.997462272644043, 0.9997315406799316, 0.9947335720062256, 0.9993292689323425, 0.9976915717124939, 0.9992339015007019, 0.9611424207687378, 0.038715019822120667, 0.80347740650177, 0.08094291388988495, 0.1142723485827446, 0.996731162071228, 0.9569602608680725, 0.007715591229498386, 0.006807874888181686, 0.028366144746541977, 0.9932021498680115, 0.9953451752662659, 0.09576929360628128, 0.019431451335549355, 0.102709099650383, 0.4233280420303345, 0.35809388756752014, 0.4242223799228668, 0.4484335780143738, 0.12631931900978088, 0.901981770992279, 0.09716470539569855, 0.9976144433021545, 0.9941129088401794, 0.1866169571876526, 0.22601386904716492, 0.5557038187980652, 0.029029304161667824, 0.9966323375701904, 0.39109885692596436, 0.6055724620819092, 0.9957894086837769, 0.4526864290237427, 0.530010998249054, 0.01726664789021015, 0.9976032972335815, 0.9992213845252991, 0.9945722818374634, 0.9971066117286682, 0.9982196092605591, 0.6593199372291565, 0.3391776978969574, 0.1203279197216034, 0.873685359954834, 0.5025354623794556, 0.028194034472107887, 0.19426000118255615, 0.2240031659603119, 0.02447614073753357, 0.021687719970941544, 0.0030982457101345062, 0.0015491228550672531, 0.07328639924526215, 0.20203277468681335, 0.1287463754415512, 0.5090433359146118, 0.0831899642944336, 0.9972497820854187, 0.9956353306770325, 0.9970327019691467, 0.9923034906387329, 0.996721088886261, 0.5791847705841064, 0.4192425608634949, 0.2683309018611908, 0.6969318389892578, 0.008296807296574116, 0.015379448421299458, 0.005666112527251244, 0.005261390469968319, 0.9970328211784363, 0.5307217240333557, 0.1894720047712326, 0.18780411779880524, 0.06471402943134308, 0.02501831017434597, 0.002001464832574129, 0.35567784309387207, 0.02236967533826828, 0.017895739525556564, 0.10178202390670776, 0.21474888920783997, 0.2874503433704376, 0.3911919593811035, 0.21568864583969116, 0.027473649010062218, 0.22429978847503662, 0.009431252256035805, 0.13162748515605927, 0.6831295490264893, 0.31529057025909424, 0.20898838341236115, 0.11311227083206177, 0.20414072275161743, 0.4287493824958801, 0.017774784937500954, 0.02693149261176586, 0.9970765113830566, 0.9950187802314758, 0.9943045973777771, 0.9917649030685425, 0.9966801404953003, 0.050972528755664825, 0.09640456736087799, 0.8521276712417603, 0.9967330694198608, 0.9949024319648743, 0.9950694441795349, 0.9976370334625244, 0.8444802165031433, 0.08191607147455215, 0.07297977060079575, 0.9920932650566101, 0.994860053062439, 0.9971078634262085, 0.9938101172447205, 0.18669812381267548, 0.01982635073363781, 0.20322008430957794, 0.08260979503393173, 0.5055719017982483, 0.9425075054168701, 0.05719288811087608, 0.7177103757858276, 0.27997371554374695, 0.997515082359314, 0.9340647459030151, 0.06559843569993973, 0.9944959282875061, 0.9952880144119263, 0.049547210335731506, 0.9459012746810913, 0.9936591982841492, 0.9964786171913147, 0.9971341490745544, 0.0024942210875451565, 0.9989629983901978, 0.9973127841949463, 0.9893183708190918, 0.9945623874664307, 0.9938311576843262, 0.23405081033706665, 0.7648023962974548, 0.9989786744117737, 0.999222993850708, 0.993794858455658, 0.9967886805534363, 0.9915333986282349, 0.9982295632362366, 0.9954808950424194, 0.9985975623130798, 0.9982768297195435, 0.9929496049880981, 0.9965803027153015, 0.03595553711056709, 0.9446499943733215, 0.01634342595934868, 0.05422438681125641, 0.1879778802394867, 0.560318648815155, 0.09278395026922226, 0.019279781728982925, 0.08314406126737595, 0.9984896183013916, 0.27777084708213806, 0.721200168132782, 0.176372691988945, 0.13762414455413818, 0.0881863459944725, 0.5384711623191833, 0.05745474249124527, 0.6356998085975647, 0.24657076597213745, 0.11686108261346817, 0.9889115691184998, 0.010944223962724209, 0.9956982731819153, 0.9877400994300842, 0.9998875260353088, 0.9977731108665466, 0.9949635863304138, 0.9985067248344421, 0.9914237260818481, 0.9946420788764954, 0.9919793605804443, 0.00707987230271101, 0.003539936151355505, 0.010619808919727802, 0.003539936151355505, 0.003539936151355505, 0.9168434739112854, 0.003539936151355505, 0.003539936151355505, 0.003539936151355505, 0.003539936151355505, 0.00707987230271101, 0.010619808919727802, 0.010619808919727802, 0.00707987230271101, 0.003539936151355505, 0.003539936151355505, 0.9914450645446777, 0.041355784982442856, 0.8721888661384583, 0.026950960978865623, 0.05901331081986427, 0.5072548389434814, 0.1676875501871109, 0.07406199723482132, 0.05799194425344467, 0.1620979607105255, 0.030742717906832695, 0.9994538426399231, 0.9939312934875488, 0.9975243806838989, 0.022844335064291954, 0.8366737961769104, 0.13992154598236084, 0.9992208480834961], \"Term\": [\"ac\", \"access\", \"access\", \"acts\", \"acts\", \"actually\", \"added\", \"address\", \"address\", \"address\", \"address\", \"advance\", \"aerospace\", \"ahl\", \"air\", \"air\", \"air\", \"al\", \"al\", \"al\", \"alan\", \"alaska\", \"algorithm\", \"also\", \"also\", \"also\", \"also\", \"also\", \"also\", \"also\", \"also\", \"amendment\", \"american\", \"american\", \"american\", \"analysis\", \"andrew\", \"animation\", \"announced\", \"announcement\", \"answered\", \"anyone\", \"anyone\", \"ap\", \"application\", \"application\", \"application\", \"apply\", \"apply\", \"appreciated\", \"april\", \"arab\", \"arabs\", \"arena\", \"argument\", \"argument\", \"armenia\", \"armenian\", \"armenians\", \"around\", \"around\", \"arrests\", \"art\", \"article\", \"articles\", \"articles\", \"atheists\", \"audio\", \"aunt\", \"auto\", \"available\", \"available\", \"available\", \"average\", \"average\", \"ax\", \"azerbaijani\", \"back\", \"back\", \"barnes\", \"baseball\", \"battery\", \"bbs\", \"bear\", \"becomes\", \"begin\", \"begin\", \"beliefs\", \"believe\", \"believe\", \"benedikt_rosenau\", \"benefits\", \"bhj_bhj\", \"bible\", \"bike\", \"bikes\", \"billion\", \"bit\", \"bit\", \"bit\", \"black\", \"blood\", \"blue\", \"blues\", \"board\", \"body\", \"body\", \"body\", \"body\", \"body\", \"bolt\", \"book\", \"book\", \"book\", \"book\", \"borders\", \"born\", \"bos\", \"boston\", \"box\", \"box\", \"boy\", \"brain\", \"brake\", \"brian\", \"brian_kendig\", \"britain\", \"broken\", \"brother\", \"brown\", \"buf\", \"buffalo\", \"building\", \"bus\", \"butcher\", \"bye\", \"ca\", \"ca\", \"ca\", \"ca\", \"cable\", \"cal\", \"calgary\", \"california\", \"california\", \"california\", \"came\", \"came\", \"came\", \"canadian\", \"cannot\", \"cannot\", \"cannot\", \"cannot\", \"cant\", \"capital\", \"car\", \"card\", \"card\", \"cards\", \"cards\", \"cards\", \"carl\", \"cars\", \"case\", \"case\", \"case\", \"case\", \"case_western\", \"cause\", \"cause\", \"cause\", \"cause\", \"cb\", \"center\", \"center\", \"center\", \"center\", \"center\", \"chance\", \"chance\", \"change\", \"change\", \"change\", \"change\", \"characters\", \"check\", \"check\", \"check\", \"check\", \"check\", \"checking\", \"chi\", \"chief\", \"child\", \"children\", \"children\", \"children\", \"children\", \"chip\", \"chips\", \"christ\", \"christian\", \"christianity\", \"christians\", \"church\", \"ci\", \"circuit\", \"circuits\", \"city\", \"civil\", \"claim\", \"claim\", \"cleveland_ohio\", \"clipper\", \"clipper_chip\", \"club\", \"cmos\", \"coach\", \"code\", \"code\", \"cold\", \"color\", \"color\", \"colors\", \"columbia\", \"com\", \"com\", \"com\", \"command\", \"commercial\", \"computer\", \"computer\", \"concerned\", \"concerned\", \"condition\", \"condition\", \"condition\", \"conference\", \"confusing\", \"connected\", \"constitution\", \"contact\", \"context\", \"convert\", \"convert\", \"copies\", \"corporation\", \"corporation\", \"cost\", \"cost\", \"cost\", \"could\", \"could\", \"couldnt\", \"countries\", \"countries\", \"country\", \"country\", \"country\", \"country\", \"country\", \"court\", \"cover\", \"cover\", \"cover\", \"coverage\", \"crime\", \"crime\", \"criminal\", \"criminal\", \"criminals\", \"cruel\", \"crypto\", \"cubs_suck\", \"cubs_suck\", \"cubs_suck\", \"cubs_suck\", \"cubs_suck\", \"cubs_suck\", \"cubs_suck\", \"cubs_suck\", \"cubs_suck\", \"cup\", \"custom\", \"cw\", \"daily\", \"data\", \"data\", \"data\", \"dave\", \"david\", \"david\", \"david\", \"david\", \"david_davidian\", \"davidian\", \"day\", \"day\", \"day\", \"day\", \"days\", \"days\", \"dc\", \"dc\", \"dead\", \"dead\", \"dead\", \"dealer\", \"death\", \"death\", \"defense\", \"defenseman\", \"define\", \"deity\", \"description\", \"design\", \"design\", \"design\", \"det\", \"detroit\", \"development\", \"development\", \"devils\", \"devotion\", \"di_di\", \"didnt\", \"didnt\", \"died\", \"differences\", \"direction\", \"discipline\", \"disease\", \"disk\", \"disks\", \"display\", \"distribution_na\", \"distribution_na\", \"distribution_na\", \"distribution_world\", \"distribution_world\", \"distribution_world\", \"distribution_world\", \"distribution_world\", \"division\", \"docs\", \"dod\", \"dod\", \"doesnt\", \"dog\", \"domain\", \"done\", \"dont\", \"door\", \"door\", \"dos\", \"doug\", \"dr\", \"draft\", \"dram\", \"dream\", \"drink\", \"drive\", \"drive\", \"drives\", \"drug\", \"drug\", \"drugs\", \"drugs\", \"drugs\", \"duke\", \"dx\", \"earth\", \"earth\", \"east\", \"echl\", \"ed\", \"ed\", \"ed\", \"ed\", \"edge\", \"edges\", \"effects\", \"ei\", \"ei_ei\", \"eisa\", \"electronics\", \"else\", \"em\", \"email\", \"encrypted\", \"encryption\", \"engine\", \"engineering\", \"engineering\", \"enough\", \"ensure\", \"environmental\", \"errors\", \"espn\", \"estimate\", \"europe\", \"europe\", \"european\", \"european\", \"even\", \"even\", \"even\", \"evidence\", \"evidence\", \"evil\", \"excellent\", \"exist\", \"existence\", \"expected\", \"expos\", \"face\", \"face\", \"face\", \"fact\", \"fact\", \"fact\", \"fact\", \"faith\", \"false\", \"fancy\", \"fans\", \"faq\", \"faq\", \"faq\", \"fax\", \"fax\", \"fbi\", \"features\", \"federal\", \"file\", \"file\", \"files\", \"files\", \"finally\", \"finals\", \"fire\", \"fire\", \"firearms\", \"first\", \"first\", \"first\", \"first\", \"first\", \"first\", \"five\", \"flight\", \"fly\", \"font\", \"fonts\", \"food\", \"food\", \"format\", \"formats\", \"four\", \"four\", \"four\", \"fp\", \"fq\", \"frequency\", \"front\", \"front\", \"funding\", \"game\", \"game\", \"game\", \"games\", \"games\", \"games\", \"gay\", \"gd\", \"genoa\", \"genocide\", \"german\", \"get\", \"get\", \"get\", \"get\", \"gfci\", \"gif\", \"girl\", \"give\", \"go\", \"go\", \"go\", \"goal\", \"goal\", \"goals\", \"god\", \"gods\", \"going\", \"good\", \"good\", \"gordon_banks\", \"gov\", \"government\", \"government\", \"government\", \"government\", \"gq\", \"graphics\", \"greek\", \"ground\", \"gun\", \"gun\", \"guns\", \"hall\", \"hall\", \"ham\", \"hands\", \"har\", \"hard\", \"hard_drive\", \"hawks\", \"hd\", \"health\", \"health\", \"health_care\", \"heaven\", \"hed\", \"hello\", \"help\", \"help\", \"help\", \"hi\", \"hi\", \"high\", \"high\", \"high\", \"high\", \"high\", \"high\", \"highly\", \"history\", \"history\", \"history\", \"history\", \"history\", \"hit\", \"hit\", \"hitler\", \"hm\", \"hockey\", \"hockey_league\", \"home\", \"home\", \"home\", \"home\", \"homeopathy\", \"host\", \"host\", \"host\", \"host\", \"host_hela\", \"hot\", \"hours\", \"hours\", \"hours\", \"house\", \"hugs\", \"human\", \"human\", \"human\", \"ibm\", \"ice\", \"ice\", \"ide\", \"ie\", \"ie\", \"ihl\", \"iii\", \"illegal\", \"illinois\", \"im\", \"im\", \"image\", \"images\", \"inc\", \"inc\", \"inc\", \"inc\", \"included\", \"included\", \"included\", \"industry\", \"industry\", \"info\", \"info\", \"information\", \"information\", \"information\", \"ins_cwru\", \"intel\", \"interested\", \"interested\", \"interested\", \"interface\", \"internet\", \"internet\", \"isa\", \"islam\", \"isnt\", \"israel\", \"israeli\", \"israelis\", \"jesus\", \"jewish\", \"jews\", \"jim\", \"jim\", \"jim\", \"jobs\", \"john\", \"john\", \"john\", \"john\", \"keeps\", \"keith\", \"kent\", \"key\", \"key_escrow\", \"keys\", \"keywords\", \"keywords\", \"keywords\", \"kid\", \"kids\", \"kids\", \"killed\", \"killed\", \"kind\", \"kings\", \"km\", \"know\", \"know\", \"knowing\", \"knowledge\", \"knowledge\", \"knowledge\", \"knowledge\", \"la\", \"la_vs\", \"la_vs\", \"la_vs\", \"la_vs\", \"la_vs\", \"la_vs\", \"la_vs\", \"lab\", \"lab\", \"laboratory\", \"laboratory\", \"land\", \"laptop\", \"larger\", \"larry\", \"last\", \"last\", \"last\", \"last\", \"last\", \"launch\", \"law\", \"law\", \"law_enforcement\", \"laws\", \"laws\", \"leafs\", \"league\", \"learn\", \"learn\", \"learn\", \"lebanon\", \"led\", \"lee\", \"left\", \"left\", \"left\", \"left\", \"legal\", \"legal\", \"let\", \"let\", \"let\", \"let\", \"level\", \"level\", \"level\", \"level\", \"level\", \"level\", \"lg\", \"liar\", \"life\", \"life\", \"life\", \"like\", \"like\", \"limbaugh\", \"lines\", \"lines\", \"lines\", \"list\", \"list\", \"list\", \"little\", \"location\", \"looking\", \"looking\", \"loose\", \"lord\", \"los_angeles\", \"los_angeles\", \"lot\", \"low\", \"low\", \"low\", \"low\", \"low\", \"lower\", \"lw\", \"mac\", \"made\", \"made\", \"made\", \"made\", \"mail\", \"mail\", \"make\", \"make\", \"manager\", \"manufacturers\", \"many\", \"many\", \"many\", \"many\", \"many\", \"many\", \"marriage\", \"matthew\", \"max\", \"may\", \"may\", \"may\", \"may\", \"may\", \"may\", \"maybe\", \"mb\", \"mb\", \"mc\", \"md\", \"meaning\", \"media\", \"media\", \"media\", \"meeting\", \"members\", \"members\", \"members\", \"members\", \"memory\", \"men\", \"message\", \"message\", \"message\", \"message\", \"mf\", \"mg\", \"mhz\", \"middle\", \"midi\", \"mike\", \"mike\", \"mike\", \"miles\", \"militia\", \"miller\", \"min\", \"minutes\", \"missed\", \"mission\", \"mit\", \"mk\", \"mn\", \"model\", \"modes\", \"mon\", \"monitor\", \"moon\", \"moral\", \"morning\", \"morris\", \"mother\", \"motherboard\", \"motif\", \"motor\", \"motorcycle\", \"mouse\", \"moving\", \"mq\", \"mr_stephanopoulos\", \"msg\", \"mt\", \"much\", \"murder\", \"muslim\", \"muslims\", \"must\", \"must\", \"must\", \"must\", \"must\", \"mystery\", \"named\", \"nasa\", \"national\", \"national\", \"national\", \"national\", \"national\", \"national\", \"nd\", \"nd\", \"nd\", \"near\", \"near\", \"nec\", \"need\", \"need\", \"need\", \"never\", \"never\", \"never\", \"never\", \"new\", \"new\", \"new\", \"new\", \"new\", \"new\", \"new\", \"new\", \"new\", \"new_york\", \"new_york\", \"new_york\", \"new_york\", \"news\", \"news\", \"news\", \"news\", \"newsletter\", \"newsreader_tin\", \"nhl\", \"night\", \"nj\", \"nntp_posting\", \"nntp_posting\", \"nntp_posting\", \"nntp_posting\", \"norris\", \"north\", \"nsa\", \"number\", \"number\", \"number\", \"number\", \"number\", \"number\", \"numbers\", \"numbers\", \"numbers\", \"ny\", \"nyi\", \"nyr\", \"officers\", \"ohio\", \"ohio_state\", \"oil\", \"one\", \"one\", \"one\", \"one\", \"one\", \"operation\", \"operations\", \"opinions\", \"opinions\", \"opinions\", \"opinions\", \"opinions\", \"opinions_expressed\", \"orbit\", \"organization\", \"organization\", \"organization\", \"os\", \"ott\", \"outlets\", \"owner\", \"package\", \"page\", \"page\", \"pain\", \"panel\", \"pat\", \"patients\", \"paul\", \"paul\", \"paul\", \"pc\", \"peace\", \"people\", \"people\", \"people\", \"people\", \"percent\", \"period\", \"peter\", \"phi\", \"phi\", \"phone\", \"piece\", \"pin\", \"pit\", \"pittsburgh\", \"pittsburgh\", \"pl\", \"pl_pl\", \"plastic\", \"play\", \"play\", \"play\", \"played\", \"player\", \"players\", \"please\", \"please\", \"please\", \"pm\", \"point\", \"point\", \"point\", \"points\", \"points\", \"police\", \"police\", \"policy_research\", \"political\", \"port\", \"portable\", \"posts\", \"power\", \"power\", \"power\", \"power\", \"pp\", \"pp\", \"president\", \"price\", \"price\", \"price\", \"prices\", \"problem\", \"problem\", \"problem\", \"product\", \"product\", \"professional\", \"program\", \"program\", \"program\", \"progress\", \"project\", \"project\", \"project\", \"property\", \"property\", \"protected\", \"provide\", \"provide\", \"provide\", \"pts\", \"pts_pt\", \"pub\", \"public\", \"public\", \"public\", \"published\", \"published\", \"published\", \"pull\", \"pull\", \"pull\", \"punishment\", \"pushing\", \"put\", \"qax\", \"que\", \"que\", \"question\", \"question\", \"question\", \"quickly\", \"quickly\", \"quotes\", \"radio\", \"raised\", \"ram\", \"rangers\", \"rate\", \"rates\", \"rates\", \"rc\", \"rd\", \"reality\", \"really\", \"rear\", \"reason\", \"reason\", \"record\", \"record\", \"reference\", \"reference\", \"reference\", \"regardless\", \"release\", \"release\", \"religion\", \"religious\", \"reply\", \"reply\", \"reply\", \"reply\", \"reply\", \"report\", \"require\", \"require\", \"require\", \"required\", \"required\", \"research\", \"research\", \"research\", \"reserve_university\", \"resolution\", \"review\", \"ride\", \"riding\", \"right\", \"right\", \"right\", \"right\", \"rights\", \"rise\", \"road\", \"road\", \"rob\", \"roberts\", \"room\", \"rose\", \"round\", \"ruled\", \"rumors\", \"run\", \"run\", \"run\", \"run\", \"run\", \"running\", \"running\", \"running\", \"runs\", \"russia\", \"russian\", \"safety\", \"safety\", \"said\", \"said\", \"said\", \"said\", \"sale\", \"san_francisco\", \"san_jose\", \"satellite\", \"say\", \"say\", \"schools\", \"sci\", \"sci\", \"science\", \"science\", \"science\", \"scores\", \"scoring\", \"screen\", \"screen\", \"scsi\", \"season\", \"season\", \"second\", \"second\", \"second\", \"second_amendment\", \"section\", \"section\", \"section\", \"secure\", \"security\", \"security\", \"see\", \"see\", \"see\", \"semi\", \"senate\", \"send\", \"send\", \"send\", \"send\", \"send\", \"serdar_argic\", \"serial\", \"series\", \"series\", \"server\", \"serves\", \"shk\", \"shot\", \"showed\", \"showing\", \"sin\", \"six\", \"sj\", \"sj\", \"sk\", \"slap\", \"slave\", \"smith\", \"smith\", \"society\", \"society\", \"society\", \"software\", \"software\", \"software\", \"software_vax\", \"sold\", \"soldiers\", \"somebody\", \"something\", \"something\", \"soon\", \"soon\", \"soon\", \"soon\", \"soon\", \"source\", \"source\", \"source\", \"source\", \"source\", \"space\", \"spacecraft\", \"spanking\", \"speaker\", \"specifically\", \"speed\", \"speed\", \"speed\", \"spell\", \"sports\", \"st\", \"st\", \"st\", \"st\", \"st\", \"st_louis\", \"stage\", \"standard\", \"standard\", \"standard\", \"stanley_cup\", \"stars\", \"started\", \"started\", \"state\", \"state\", \"state\", \"state\", \"statements\", \"states\", \"states\", \"states\", \"statistics\", \"status\", \"steve\", \"steve\", \"still\", \"still\", \"stl\", \"students\", \"studies\", \"study\", \"study\", \"study\", \"stupid\", \"stupid\", \"success\", \"suffer\", \"suitable\", \"sumgait\", \"super\", \"supports\", \"supposedly\", \"sure\", \"surface\", \"surrender\", \"suspect\", \"svga\", \"svr\", \"switch\", \"system\", \"system\", \"system\", \"system\", \"system\", \"take\", \"tampa_bay\", \"tank\", \"tb\", \"team\", \"team\", \"teams\", \"technology\", \"technology\", \"tel\", \"tell\", \"test\", \"test\", \"test\", \"text\", \"text\", \"tg\", \"th\", \"thank\", \"thanks\", \"thanx\", \"thats\", \"therefore\", \"thing\", \"think\", \"think\", \"three\", \"three\", \"three\", \"tim\", \"time\", \"time\", \"time\", \"time\", \"timer\", \"tm\", \"today\", \"today\", \"today\", \"today\", \"today\", \"told\", \"told\", \"told\", \"took\", \"took\", \"tor\", \"toss\", \"total\", \"total\", \"total\", \"total\", \"trade\", \"traffic\", \"traffic\", \"treatment\", \"true\", \"true\", \"true\", \"truth\", \"trying\", \"turkey\", \"turkish\", \"turks\", \"turn\", \"turn\", \"turns\", \"turns\", \"two\", \"two\", \"two\", \"two\", \"two\", \"two\", \"two\", \"two\", \"type\", \"type\", \"type\", \"type\", \"type\", \"types\", \"uk\", \"ul\", \"un\", \"understanding\", \"univ\", \"univ\", \"university\", \"university\", \"university\", \"university\", \"university\", \"university\", \"unix\", \"us\", \"us\", \"us\", \"us\", \"us\", \"us\", \"usa\", \"usa\", \"usa\", \"usa\", \"usa\", \"usa\", \"used\", \"used\", \"used\", \"used\", \"used\", \"used\", \"user\", \"user\", \"using\", \"using\", \"using\", \"using\", \"using\", \"using\", \"van\", \"vancouver\", \"vd\", \"vedas\", \"verses\", \"version\", \"version\", \"version\", \"version_pl\", \"versions\", \"vesa\", \"vga\", \"view\", \"view\", \"view\", \"virtue\", \"vl\", \"vlb\", \"vms_vnews\", \"vs\", \"vs\", \"vs\", \"vs\", \"vs\", \"want\", \"want\", \"war\", \"war\", \"water\", \"way\", \"way\", \"wd\", \"weapon\", \"weapons\", \"weapons\", \"weekend\", \"weeks\", \"well\", \"well\", \"went\", \"western\", \"white_house\", \"wide\", \"widget\", \"win\", \"win\", \"window\", \"windows\", \"wings\", \"winning\", \"winnipeg\", \"wire\", \"wires\", \"wiretaps\", \"wiring\", \"woman\", \"women\", \"wonder\", \"wonder\", \"wonder\", \"wont\", \"wont\", \"wont\", \"wont\", \"wont\", \"wont\", \"word\", \"words\", \"words\", \"working\", \"working\", \"working\", \"working\", \"working\", \"world\", \"world\", \"world\", \"would\", \"would\", \"wrench\", \"wri\", \"writes\", \"writing\", \"wt\", \"xfree\", \"xt\", \"xterm\", \"xv\", \"yalanci\", \"yalanci\", \"yalanci\", \"yalanci\", \"yalanci\", \"yalanci\", \"yalanci\", \"yalanci\", \"yalanci\", \"yalanci\", \"yalanci\", \"yalanci\", \"yalanci\", \"yalanci\", \"yalanci\", \"yalanci\", \"ye\", \"year\", \"year\", \"year\", \"year\", \"years\", \"years\", \"years\", \"years\", \"years\", \"years\", \"yes\", \"yesterday\", \"yo\", \"youll\", \"youll\", \"youll\", \"youre\"]}, \"R\": 30, \"lambda.step\": 0.01, \"plot.opts\": {\"xlab\": \"PC1\", \"ylab\": \"PC2\"}, \"topic.order\": [19, 7, 20, 8, 4, 6, 10, 16, 12, 15, 1, 3, 14, 18, 9, 5, 11, 2, 13, 17]};\n",
       "\n",
       "function LDAvis_load_lib(url, callback){\n",
       "  var s = document.createElement('script');\n",
       "  s.src = url;\n",
       "  s.async = true;\n",
       "  s.onreadystatechange = s.onload = callback;\n",
       "  s.onerror = function(){console.warn(\"failed to load library \" + url);};\n",
       "  document.getElementsByTagName(\"head\")[0].appendChild(s);\n",
       "}\n",
       "\n",
       "if(typeof(LDAvis) !== \"undefined\"){\n",
       "   // already loaded: just create the visualization\n",
       "   !function(LDAvis){\n",
       "       new LDAvis(\"#\" + \"ldavis_el822428398287530486572291467\", ldavis_el822428398287530486572291467_data);\n",
       "   }(LDAvis);\n",
       "}else if(typeof define === \"function\" && define.amd){\n",
       "   // require.js is available: use it to load d3/LDAvis\n",
       "   require.config({paths: {d3: \"https://cdnjs.cloudflare.com/ajax/libs/d3/3.5.5/d3.min\"}});\n",
       "   require([\"d3\"], function(d3){\n",
       "      window.d3 = d3;\n",
       "      LDAvis_load_lib(\"https://cdn.rawgit.com/bmabey/pyLDAvis/files/ldavis.v1.0.0.js\", function(){\n",
       "        new LDAvis(\"#\" + \"ldavis_el822428398287530486572291467\", ldavis_el822428398287530486572291467_data);\n",
       "      });\n",
       "    });\n",
       "}else{\n",
       "    // require.js not available: dynamically load d3 & LDAvis\n",
       "    LDAvis_load_lib(\"https://cdnjs.cloudflare.com/ajax/libs/d3/3.5.5/d3.min.js\", function(){\n",
       "         LDAvis_load_lib(\"https://cdn.rawgit.com/bmabey/pyLDAvis/files/ldavis.v1.0.0.js\", function(){\n",
       "                 new LDAvis(\"#\" + \"ldavis_el822428398287530486572291467\", ldavis_el822428398287530486572291467_data);\n",
       "            })\n",
       "         });\n",
       "}\n",
       "</script>"
      ],
      "text/plain": [
       "PreparedData(topic_coordinates=              x         y  topics  cluster       Freq\n",
       "topic                                                \n",
       "18     0.344985 -0.045619       1        1  25.481527\n",
       "6      0.191905  0.186752       2        1   8.333240\n",
       "19     0.222693 -0.147206       3        1   7.668980\n",
       "7      0.141876  0.142083       4        1   5.710675\n",
       "3      0.085589 -0.118092       5        1   5.489089\n",
       "5      0.033456  0.237848       6        1   4.738542\n",
       "9      0.048859 -0.226261       7        1   4.497591\n",
       "15    -0.060098  0.056333       8        1   4.442841\n",
       "11    -0.082462  0.006830       9        1   4.346288\n",
       "14    -0.006274  0.055896      10        1   3.869931\n",
       "0     -0.055812 -0.095059      11        1   3.587865\n",
       "2      0.016420  0.096028      12        1   3.381675\n",
       "13    -0.065155 -0.055776      13        1   2.964972\n",
       "17    -0.055850 -0.079656      14        1   2.797863\n",
       "8     -0.063939 -0.100647      15        1   2.742302\n",
       "4     -0.105176  0.046300      16        1   2.521682\n",
       "10    -0.118295  0.002391      17        1   2.226988\n",
       "1     -0.162232  0.008735      18        1   2.007547\n",
       "12    -0.161570  0.036952      19        1   1.702348\n",
       "16    -0.148918 -0.007834      20        1   1.488040, topic_info=      Category          Freq            Term         Total  loglift  logprob\n",
       "term                                                                        \n",
       "5128   Default  57151.000000              ax  57151.000000  30.0000  30.0000\n",
       "23     Default  11366.000000           lines  11366.000000  29.0000  29.0000\n",
       "33     Default  10841.000000    organization  10841.000000  28.0000  28.0000\n",
       "4587   Default   4830.000000             max   4830.000000  27.0000  27.0000\n",
       "167    Default   9411.000000           would   9411.000000  26.0000  26.0000\n",
       "363    Default   7606.000000          writes   7606.000000  25.0000  25.0000\n",
       "58     Default   7192.000000         article   7192.000000  24.0000  24.0000\n",
       "49     Default   4941.000000      university   4941.000000  23.0000  23.0000\n",
       "32     Default   4498.000000    nntp_posting   4498.000000  22.0000  22.0000\n",
       "242    Default   6190.000000            dont   6190.000000  21.0000  21.0000\n",
       "17     Default   4000.000000            host   4000.000000  20.0000  20.0000\n",
       "463    Default   4898.000000          people   4898.000000  19.0000  19.0000\n",
       "541    Default   8874.000000             one   8874.000000  18.0000  18.0000\n",
       "138    Default   5821.000000            like   5821.000000  17.0000  17.0000\n",
       "2295   Default   1920.000000           space   1920.000000  16.0000  16.0000\n",
       "20     Default   5784.000000            know   5784.000000  15.0000  15.0000\n",
       "364    Default   2152.000000            year   2152.000000  14.0000  14.0000\n",
       "518    Default   2201.000000             god   2201.000000  13.0000  13.0000\n",
       "1194   Default   2176.000000           jesus   2176.000000  12.0000  12.0000\n",
       "233    Default   1775.000000         windows   1775.000000  11.0000  11.0000\n",
       "1230   Default   2726.000000           right   2726.000000  10.0000  10.0000\n",
       "632    Default   3636.000000            good   3636.000000   9.0000   9.0000\n",
       "46     Default   1958.000000          thanks   1958.000000   8.0000   8.0000\n",
       "164    Default   3608.000000            well   3608.000000   7.0000   7.0000\n",
       "1      Default   2711.000000          anyone   2711.000000   6.0000   6.0000\n",
       "1010   Default   4158.000000           think   4158.000000   5.0000   5.0000\n",
       "798    Default   4406.000000            time   4406.000000   4.0000   4.0000\n",
       "129    Default   4424.000000             get   4424.000000   3.0000   3.0000\n",
       "224    Default   2544.000000          system   2544.000000   2.0000   2.0000\n",
       "471    Default   2570.000000            said   2570.000000   1.0000   1.0000\n",
       "...        ...           ...             ...           ...      ...      ...\n",
       "735    Topic20    250.126617             boy    251.106491   4.2038  -4.6201\n",
       "9753   Topic20    232.467697         detroit    233.447571   4.2035  -4.6934\n",
       "1050   Topic20    212.718674             tim    213.698547   4.2031  -4.7821\n",
       "7165   Topic20    190.754913      key_escrow    191.734787   4.2026  -4.8911\n",
       "9737   Topic20    189.427292  cleveland_ohio    190.407166   4.2026  -4.8981\n",
       "7679   Topic20    158.763702              tm    159.743576   4.2016  -5.0747\n",
       "4465   Topic20    138.735306             rob    139.715179   4.2007  -5.2095\n",
       "4663   Topic20    138.519821        patients    139.499695   4.2007  -5.2111\n",
       "4793   Topic20    137.725739           panel    138.705612   4.2006  -5.2168\n",
       "4223   Topic20    137.499313     white_house    138.479187   4.2006  -5.2185\n",
       "4212   Topic20    130.809753    announcement    131.789627   4.2002  -5.2684\n",
       "4691   Topic20    126.056801        ins_cwru    127.036682   4.2000  -5.3054\n",
       "4620   Topic20    119.722878            carl    120.702759   4.1996  -5.3569\n",
       "8254   Topic20    101.343147              em    102.323029   4.1981  -5.5236\n",
       "4801   Topic20     97.222282         speaker     98.202164   4.1977  -5.5651\n",
       "1078   Topic20     89.554245          alaska     90.534126   4.1968  -5.6473\n",
       "2539   Topic20     89.268768           drink     90.248650   4.1968  -5.6505\n",
       "4690   Topic20     88.943214       host_hela     89.923096   4.1968  -5.6541\n",
       "10062  Topic20     86.836815           fancy     87.816696   4.1965  -5.6781\n",
       "4708   Topic20     86.035332      supposedly     87.015213   4.1964  -5.6874\n",
       "1112   Topic20     85.732162            semi     86.712044   4.1963  -5.6909\n",
       "740    Topic20     83.577095        checking     84.556976   4.1961  -5.7163\n",
       "4692   Topic20     82.486580            kent     83.466461   4.1959  -5.7295\n",
       "2984   Topic20    457.647766           steve    507.690826   4.1039  -4.0160\n",
       "8433   Topic20    229.926056           drugs    270.804474   4.0441  -4.7044\n",
       "1397   Topic20    198.862061            drug    246.397110   3.9934  -4.8495\n",
       "3341   Topic20    274.031311             jim    565.540649   3.4832  -4.5289\n",
       "2470   Topic20    256.522766             usa    894.067505   2.9591  -4.5949\n",
       "1040   Topic20     95.383904           rates    140.783096   3.8184  -5.5842\n",
       "732    Topic20    101.232430             air    336.062469   3.0078  -5.5247\n",
       "\n",
       "[946 rows x 6 columns], token_table=       Topic      Freq       Term\n",
       "term                             \n",
       "5993       2  0.993120         ac\n",
       "2501       4  0.833057     access\n",
       "2501       6  0.165430     access\n",
       "2382       1  0.019822       acts\n",
       "2382       7  0.976212       acts\n",
       "1122       1  0.998992   actually\n",
       "5266      14  0.994675      added\n",
       "1776       2  0.922841    address\n",
       "1776       3  0.022730    address\n",
       "1776      11  0.031822    address\n",
       "1776      14  0.019699    address\n",
       "382        2  0.998208    advance\n",
       "24856     10  0.993799  aerospace\n",
       "18307     17  0.992118        ahl\n",
       "732       10  0.142831        air\n",
       "732       16  0.553469        air\n",
       "732       20  0.300539        air\n",
       "1293      11  0.758051         al\n",
       "1293      18  0.125150         al\n",
       "1293      19  0.110847         al\n",
       "11731     16  0.994118       alan\n",
       "1078      20  0.994100     alaska\n",
       "571        4  0.996540  algorithm\n",
       "433        1  0.541425       also\n",
       "433        2  0.097139       also\n",
       "433        3  0.087291       also\n",
       "433        4  0.107882       also\n",
       "433        6  0.055508       also\n",
       "433        7  0.017458       also\n",
       "433       10  0.068489       also\n",
       "...      ...       ...        ...\n",
       "84902      5  0.003540    yalanci\n",
       "84902      7  0.916843    yalanci\n",
       "84902      8  0.003540    yalanci\n",
       "84902     10  0.003540    yalanci\n",
       "84902     11  0.003540    yalanci\n",
       "84902     12  0.003540    yalanci\n",
       "84902     13  0.007080    yalanci\n",
       "84902     14  0.010620    yalanci\n",
       "84902     15  0.010620    yalanci\n",
       "84902     18  0.007080    yalanci\n",
       "84902     19  0.003540    yalanci\n",
       "84902     20  0.003540    yalanci\n",
       "8131      17  0.991445         ye\n",
       "364        1  0.041356       year\n",
       "364       11  0.872189       year\n",
       "364       12  0.026951       year\n",
       "364       17  0.059013       year\n",
       "53         1  0.507255      years\n",
       "53         5  0.167688      years\n",
       "53         7  0.074062      years\n",
       "53        10  0.057992      years\n",
       "53        11  0.162098      years\n",
       "53        14  0.030743      years\n",
       "570        1  0.999454        yes\n",
       "1354      10  0.993931  yesterday\n",
       "8479      12  0.997524         yo\n",
       "5728       4  0.022844      youll\n",
       "5728       8  0.836674      youll\n",
       "5728      11  0.139922      youll\n",
       "1774       1  0.999221      youre\n",
       "\n",
       "[1475 rows x 3 columns], R=30, lambda_step=0.01, plot_opts={'xlab': 'PC1', 'ylab': 'PC2'}, topic_order=[19, 7, 20, 8, 4, 6, 10, 16, 12, 15, 1, 3, 14, 18, 9, 5, 11, 2, 13, 17])"
      ]
     },
     "execution_count": 17,
     "metadata": {},
     "output_type": "execute_result"
    }
   ],
   "source": [
    "# Visualize the topics\n",
    "pyLDAvis.enable_notebook()\n",
    "vis = pyLDAvis.gensim.prepare(lda_model, corpus, id2word)\n",
    "vis"
   ]
  },
  {
   "cell_type": "code",
   "execution_count": 20,
   "metadata": {},
   "outputs": [],
   "source": [
    "filename = 'C:/Users/alpho/Dropbox/NLP - STEM/Presentation/lda_model_np'\n",
    "outfile = open(filename,'wb')\n",
    "pickle.dump(lda_model,outfile)\n",
    "outfile.close()\n",
    "\n",
    "filename = 'C:/Users/alpho/Dropbox/NLP - STEM/Presentation/corpus_np'\n",
    "outfile = open(filename,'wb')\n",
    "pickle.dump(corpus,outfile)\n",
    "outfile.close()\n",
    "\n",
    "filename = 'C:/Users/alpho/Dropbox/NLP - STEM/Presentation/id2word_np'\n",
    "outfile = open(filename,'wb')\n",
    "pickle.dump(id2word,outfile)\n",
    "outfile.close()"
   ]
  },
  {
   "cell_type": "code",
   "execution_count": 26,
   "metadata": {},
   "outputs": [],
   "source": [
    "def compute_coherence_values(dictionary, corpus, texts, limit, start=2, step=3):\n",
    "    \"\"\"\n",
    "    Compute c_v coherence for various number of topics\n",
    "\n",
    "    Parameters:\n",
    "    ----------\n",
    "    dictionary : Gensim dictionary\n",
    "    corpus : Gensim corpus\n",
    "    texts : List of input texts\n",
    "    limit : Max num of topics\n",
    "\n",
    "    Returns:\n",
    "    -------\n",
    "    model_list : List of LDA topic models\n",
    "    coherence_values : Coherence values corresponding to the LDA model with respective number of topics\n",
    "    \"\"\"\n",
    "    coherence_values = []\n",
    "    model_list = []\n",
    "    for num_topics in range(start, limit, step):\n",
    "        model = lda_model\n",
    "        model_list.append(model)\n",
    "        coherencemodel = CoherenceModel(model=model, texts=texts, dictionary=dictionary, coherence='c_v')\n",
    "        coherence_values.append(coherencemodel.get_coherence())\n",
    "\n",
    "    return model_list, coherence_values"
   ]
  },
  {
   "cell_type": "code",
   "execution_count": 27,
   "metadata": {},
   "outputs": [],
   "source": [
    " # Can take a long time to run.\n",
    "model_list, coherence_values = compute_coherence_values(dictionary=id2word, corpus=corpus, texts=data_words_bigrams, start=2, limit=40, step=6)"
   ]
  },
  {
   "cell_type": "code",
   "execution_count": 28,
   "metadata": {},
   "outputs": [
    {
     "data": {
      "image/png": "[encoded data removed]",
      "text/plain": [
       "<Figure size 432x288 with 1 Axes>"
      ]
     },
     "metadata": {
      "needs_background": "light"
     },
     "output_type": "display_data"
    }
   ],
   "source": [
    "# Show graph\n",
    "limit=40; start=2; step=6;\n",
    "x = range(start, limit, step)\n",
    "plt.plot(x, coherence_values)\n",
    "plt.xlabel(\"Num Topics\")\n",
    "plt.ylabel(\"Coherence score\")\n",
    "plt.legend((\"coherence_values\"), loc='best')\n",
    "plt.show()"
   ]
  },
  {
   "cell_type": "code",
   "execution_count": 29,
   "metadata": {},
   "outputs": [
    {
     "name": "stdout",
     "output_type": "stream",
     "text": [
      "Num Topics = 2  has Coherence Value of 0.4912\n",
      "Num Topics = 8  has Coherence Value of 0.4912\n",
      "Num Topics = 14  has Coherence Value of 0.4912\n",
      "Num Topics = 20  has Coherence Value of 0.4912\n",
      "Num Topics = 26  has Coherence Value of 0.4912\n",
      "Num Topics = 32  has Coherence Value of 0.4912\n",
      "Num Topics = 38  has Coherence Value of 0.4912\n"
     ]
    }
   ],
   "source": [
    "# Print the coherence scores\n",
    "for m, cv in zip(x, coherence_values):\n",
    "    print(\"Num Topics =\", m, \" has Coherence Value of\", round(cv, 4))"
   ]
  },
  {
   "cell_type": "code",
   "execution_count": 30,
   "metadata": {},
   "outputs": [
    {
     "name": "stdout",
     "output_type": "stream",
     "text": [
      "[(0,\n",
      "  '0.031*\"year\" + 0.009*\"teams\" + 0.009*\"gun\" + 0.009*\"last\" + 0.006*\"kids\" + '\n",
      "  '0.006*\"points\" + 0.005*\"hawks\" + 0.005*\"hit\" + 0.005*\"smith\" + 0.005*\"fbi\"'),\n",
      " (1,\n",
      "  '0.020*\"gd\" + 0.015*\"islam\" + 0.013*\"cubs_suck\" + 0.012*\"moving\" + '\n",
      "  '0.007*\"mt\" + 0.007*\"ei\" + 0.007*\"wt\" + 0.007*\"sk\" + 0.007*\"ul\" + '\n",
      "  '0.006*\"rc\"'),\n",
      " (2,\n",
      "  '0.009*\"reference\" + 0.007*\"yo\" + 0.007*\"standard\" + 0.007*\"oil\" + '\n",
      "  '0.007*\"cost\" + 0.007*\"disk\" + 0.007*\"ibm\" + 0.006*\"price\" + 0.006*\"model\" + '\n",
      "  '0.006*\"spanking\"'),\n",
      " (3,\n",
      "  '0.014*\"mr_stephanopoulos\" + 0.010*\"said\" + 0.009*\"president\" + 0.008*\"day\" '\n",
      "  '+ 0.008*\"went\" + 0.008*\"two\" + 0.007*\"three\" + 0.007*\"home\" + 0.007*\"power\" '\n",
      "  '+ 0.006*\"days\"'),\n",
      " (4,\n",
      "  '0.024*\"car\" + 0.012*\"bike\" + 0.009*\"cars\" + 0.009*\"road\" + 0.007*\"boston\" + '\n",
      "  '0.005*\"ride\" + 0.005*\"speed\" + 0.005*\"rear\" + 0.005*\"coverage\" + '\n",
      "  '0.005*\"hall\"'),\n",
      " (5,\n",
      "  '0.060*\"max\" + 0.022*\"windows\" + 0.013*\"software\" + 0.012*\"file\" + '\n",
      "  '0.010*\"using\" + 0.010*\"version\" + 0.009*\"files\" + 0.009*\"dos\" + '\n",
      "  '0.009*\"server\" + 0.008*\"mb\"'),\n",
      " (6,\n",
      "  '0.042*\"lines\" + 0.040*\"organization\" + 0.024*\"university\" + '\n",
      "  '0.023*\"nntp_posting\" + 0.023*\"host\" + 0.014*\"thanks\" + 0.012*\"please\" + '\n",
      "  '0.011*\"anyone\" + 0.010*\"mail\" + 0.009*\"reply\"'),\n",
      " (7,\n",
      "  '0.015*\"information\" + 0.012*\"system\" + 0.011*\"key\" + 0.011*\"available\" + '\n",
      "  '0.010*\"technology\" + 0.009*\"data\" + 0.008*\"chip\" + 0.007*\"board\" + '\n",
      "  '0.007*\"new\" + 0.006*\"two\"'),\n",
      " (8,\n",
      "  '0.015*\"law\" + 0.014*\"government\" + 0.012*\"state\" + 0.012*\"public\" + '\n",
      "  '0.010*\"black\" + 0.008*\"gordon_banks\" + 0.008*\"police\" + 0.008*\"genocide\" + '\n",
      "  '0.008*\"rights\" + 0.007*\"laws\"'),\n",
      " (9,\n",
      "  '0.014*\"people\" + 0.010*\"armenians\" + 0.009*\"children\" + 0.009*\"armenian\" + '\n",
      "  '0.009*\"jews\" + 0.008*\"religion\" + 0.008*\"said\" + 0.008*\"men\" + '\n",
      "  '0.006*\"death\" + 0.006*\"jewish\"'),\n",
      " (10,\n",
      "  '0.025*\"team\" + 0.019*\"game\" + 0.019*\"hockey\" + 0.017*\"win\" + 0.016*\"nhl\" + '\n",
      "  '0.014*\"games\" + 0.014*\"season\" + 0.009*\"matthew\" + 0.008*\"vs\" + '\n",
      "  '0.007*\"pts_pt\"'),\n",
      " (11,\n",
      "  '0.771*\"ax\" + 0.004*\"miles\" + 0.003*\"deity\" + 0.003*\"blues\" + '\n",
      "  '0.003*\"brian_kendig\" + 0.003*\"atheists\" + 0.003*\"brother\" + '\n",
      "  '0.003*\"supports\" + 0.002*\"rangers\" + 0.002*\"estimate\"'),\n",
      " (12,\n",
      "  '0.026*\"graphics\" + 0.020*\"peter\" + 0.015*\"package\" + 0.014*\"chips\" + '\n",
      "  '0.013*\"cal\" + 0.012*\"os\" + 0.011*\"pit\" + 0.010*\"sj\" + 0.010*\"bos\" + '\n",
      "  '0.010*\"min\"'),\n",
      " (13,\n",
      "  '0.010*\"wire\" + 0.007*\"city\" + 0.007*\"andrew\" + 0.006*\"blood\" + '\n",
      "  '0.006*\"hands\" + 0.006*\"rise\" + 0.006*\"msg\" + 0.006*\"food\" + 0.005*\"cause\" + '\n",
      "  '0.005*\"pain\"'),\n",
      " (14,\n",
      "  '0.029*\"space\" + 0.010*\"research\" + 0.010*\"window\" + 0.010*\"april\" + '\n",
      "  '0.008*\"image\" + 0.007*\"center\" + 0.006*\"news\" + 0.006*\"program\" + '\n",
      "  '0.005*\"science\" + 0.005*\"project\"'),\n",
      " (15,\n",
      "  '0.010*\"players\" + 0.009*\"list\" + 0.007*\"brian\" + 0.006*\"paul\" + '\n",
      "  '0.006*\"couldnt\" + 0.005*\"baseball\" + 0.005*\"text\" + 0.005*\"league\" + '\n",
      "  '0.005*\"distribution_na\" + 0.005*\"pittsburgh\"'),\n",
      " (16,\n",
      "  '0.020*\"guns\" + 0.018*\"steve\" + 0.013*\"law_enforcement\" + 0.013*\"pl\" + '\n",
      "  '0.011*\"clipper_chip\" + 0.011*\"jim\" + 0.011*\"san_jose\" + '\n",
      "  '0.011*\"case_western\" + 0.010*\"reserve_university\" + 0.010*\"usa\"'),\n",
      " (17,\n",
      "  '0.018*\"israel\" + 0.011*\"la\" + 0.009*\"israeli\" + 0.009*\"american\" + '\n",
      "  '0.008*\"state\" + 0.007*\"political\" + 0.007*\"land\" + 0.006*\"government\" + '\n",
      "  '0.006*\"russian\" + 0.005*\"arab\"'),\n",
      " (18,\n",
      "  '0.021*\"would\" + 0.018*\"one\" + 0.017*\"writes\" + 0.017*\"article\" + '\n",
      "  '0.014*\"dont\" + 0.013*\"like\" + 0.012*\"lines\" + 0.012*\"know\" + '\n",
      "  '0.012*\"organization\" + 0.010*\"time\"'),\n",
      " (19,\n",
      "  '0.017*\"god\" + 0.017*\"jesus\" + 0.009*\"life\" + 0.009*\"christian\" + '\n",
      "  '0.008*\"believe\" + 0.006*\"people\" + 0.006*\"fact\" + 0.005*\"book\" + '\n",
      "  '0.005*\"must\" + 0.005*\"true\"')]\n"
     ]
    }
   ],
   "source": [
    "optimal_model = model_list[3]\n",
    "model_topics = optimal_model.show_topics(formatted=False)\n",
    "pprint(optimal_model.print_topics(num_words=10))"
   ]
  },
  {
   "cell_type": "code",
   "execution_count": null,
   "metadata": {},
   "outputs": [],
   "source": []
  }
 ],
 "metadata": {
  "kernelspec": {
   "display_name": "Python 3",
   "language": "python",
   "name": "python3"
  },
  "language_info": {
   "codemirror_mode": {
    "name": "ipython",
    "version": 3
   },
   "file_extension": ".py",
   "mimetype": "text/x-python",
   "name": "python",
   "nbconvert_exporter": "python",
   "pygments_lexer": "ipython3",
   "version": "3.7.0"
  }
 },
 "nbformat": 4,
 "nbformat_minor": 2
}
